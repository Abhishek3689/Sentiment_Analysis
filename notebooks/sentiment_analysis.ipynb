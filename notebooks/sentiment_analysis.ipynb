{
 "cells": [
  {
   "cell_type": "code",
   "execution_count": 1,
   "metadata": {
    "_cell_guid": "b1076dfc-b9ad-4769-8c92-a6c4dae69d19",
    "_uuid": "8f2839f25d086af736a60e9eeb907d3b93b6e0e5",
    "execution": {
     "iopub.execute_input": "2023-12-31T13:40:41.023093Z",
     "iopub.status.busy": "2023-12-31T13:40:41.022793Z",
     "iopub.status.idle": "2023-12-31T13:40:41.362745Z",
     "shell.execute_reply": "2023-12-31T13:40:41.361838Z",
     "shell.execute_reply.started": "2023-12-31T13:40:41.023067Z"
    },
    "id": "lsnRvb3wNoEH"
   },
   "outputs": [],
   "source": [
    "\n",
    "import numpy as np # linear algebra\n",
    "import pandas as pd # data processing, CSV file I/O (e.g. pd.read_csv)\n"
   ]
  },
  {
   "cell_type": "code",
   "execution_count": 1,
   "metadata": {
    "colab": {
     "base_uri": "https://localhost:8080/"
    },
    "id": "-etMMMxjOd8N",
    "outputId": "9c29c422-1c49-4293-8095-9c972cd0a34b"
   },
   "outputs": [
    {
     "name": "stdout",
     "output_type": "stream",
     "text": [
      "Mounted at /content/drive\n"
     ]
    }
   ],
   "source": [
    "# from google.colab import drive\n",
    "# drive.mount('/content/drive')"
   ]
  },
  {
   "cell_type": "code",
   "execution_count": 3,
   "metadata": {
    "execution": {
     "iopub.execute_input": "2023-12-31T13:40:46.666983Z",
     "iopub.status.busy": "2023-12-31T13:40:46.666523Z",
     "iopub.status.idle": "2023-12-31T13:40:47.171669Z",
     "shell.execute_reply": "2023-12-31T13:40:47.170679Z",
     "shell.execute_reply.started": "2023-12-31T13:40:46.666952Z"
    },
    "id": "EDPut4vGNoET"
   },
   "outputs": [],
   "source": [
    "import matplotlib.pyplot as plt\n",
    "import seaborn as sns"
   ]
  },
  {
   "cell_type": "code",
   "execution_count": 4,
   "metadata": {
    "execution": {
     "iopub.execute_input": "2023-12-31T13:40:49.300625Z",
     "iopub.status.busy": "2023-12-31T13:40:49.299932Z",
     "iopub.status.idle": "2023-12-31T13:40:49.304959Z",
     "shell.execute_reply": "2023-12-31T13:40:49.303987Z",
     "shell.execute_reply.started": "2023-12-31T13:40:49.300592Z"
    },
    "id": "kr7fwjUaNoEW"
   },
   "outputs": [],
   "source": [
    "plt.style.use('ggplot')"
   ]
  },
  {
   "cell_type": "code",
   "execution_count": 5,
   "metadata": {
    "execution": {
     "iopub.execute_input": "2023-12-31T13:40:50.375621Z",
     "iopub.status.busy": "2023-12-31T13:40:50.375296Z",
     "iopub.status.idle": "2023-12-31T13:40:50.884608Z",
     "shell.execute_reply": "2023-12-31T13:40:50.883827Z",
     "shell.execute_reply.started": "2023-12-31T13:40:50.375595Z"
    },
    "id": "y4hcFAiRNoEZ"
   },
   "outputs": [],
   "source": [
    "df=pd.read_csv(\"/content/drive/MyDrive/data/Sentiment/Customer_feedback.csv\",encoding='latin-1')"
   ]
  },
  {
   "cell_type": "code",
   "execution_count": 6,
   "metadata": {
    "colab": {
     "base_uri": "https://localhost:8080/",
     "height": 206
    },
    "execution": {
     "iopub.execute_input": "2023-12-31T13:40:52.023051Z",
     "iopub.status.busy": "2023-12-31T13:40:52.022468Z",
     "iopub.status.idle": "2023-12-31T13:40:52.040682Z",
     "shell.execute_reply": "2023-12-31T13:40:52.039852Z",
     "shell.execute_reply.started": "2023-12-31T13:40:52.023014Z"
    },
    "id": "Kd70IgE8NoEa",
    "outputId": "fcef755f-87bb-4331-b126-f9e85a70aedd"
   },
   "outputs": [
    {
     "data": {
      "text/html": [
       "\n",
       "  <div id=\"df-5a7f44c8-5930-419d-9b3f-02aa471fdd74\" class=\"colab-df-container\">\n",
       "    <div>\n",
       "<style scoped>\n",
       "    .dataframe tbody tr th:only-of-type {\n",
       "        vertical-align: middle;\n",
       "    }\n",
       "\n",
       "    .dataframe tbody tr th {\n",
       "        vertical-align: top;\n",
       "    }\n",
       "\n",
       "    .dataframe thead th {\n",
       "        text-align: right;\n",
       "    }\n",
       "</style>\n",
       "<table border=\"1\" class=\"dataframe\">\n",
       "  <thead>\n",
       "    <tr style=\"text-align: right;\">\n",
       "      <th></th>\n",
       "      <th>Number</th>\n",
       "      <th>responses_message</th>\n",
       "      <th>binary_score</th>\n",
       "    </tr>\n",
       "  </thead>\n",
       "  <tbody>\n",
       "    <tr>\n",
       "      <th>0</th>\n",
       "      <td>0</td>\n",
       "      <td>I took a loan of 100,000 rubles in 2015. The o...</td>\n",
       "      <td>negative</td>\n",
       "    </tr>\n",
       "    <tr>\n",
       "      <th>1</th>\n",
       "      <td>1</td>\n",
       "      <td>For a little more than a year I issued your ca...</td>\n",
       "      <td>positive</td>\n",
       "    </tr>\n",
       "    <tr>\n",
       "      <th>2</th>\n",
       "      <td>2</td>\n",
       "      <td>I would like to ask a question. By what right ...</td>\n",
       "      <td>negative</td>\n",
       "    </tr>\n",
       "    <tr>\n",
       "      <th>3</th>\n",
       "      <td>3</td>\n",
       "      <td>When applying for a consumer loan in the CC at...</td>\n",
       "      <td>negative</td>\n",
       "    </tr>\n",
       "    <tr>\n",
       "      <th>4</th>\n",
       "      <td>4</td>\n",
       "      <td>08/10/17 my husband received an SMS about the ...</td>\n",
       "      <td>negative</td>\n",
       "    </tr>\n",
       "  </tbody>\n",
       "</table>\n",
       "</div>\n",
       "    <div class=\"colab-df-buttons\">\n",
       "\n",
       "  <div class=\"colab-df-container\">\n",
       "    <button class=\"colab-df-convert\" onclick=\"convertToInteractive('df-5a7f44c8-5930-419d-9b3f-02aa471fdd74')\"\n",
       "            title=\"Convert this dataframe to an interactive table.\"\n",
       "            style=\"display:none;\">\n",
       "\n",
       "  <svg xmlns=\"http://www.w3.org/2000/svg\" height=\"24px\" viewBox=\"0 -960 960 960\">\n",
       "    <path d=\"M120-120v-720h720v720H120Zm60-500h600v-160H180v160Zm220 220h160v-160H400v160Zm0 220h160v-160H400v160ZM180-400h160v-160H180v160Zm440 0h160v-160H620v160ZM180-180h160v-160H180v160Zm440 0h160v-160H620v160Z\"/>\n",
       "  </svg>\n",
       "    </button>\n",
       "\n",
       "  <style>\n",
       "    .colab-df-container {\n",
       "      display:flex;\n",
       "      gap: 12px;\n",
       "    }\n",
       "\n",
       "    .colab-df-convert {\n",
       "      background-color: #E8F0FE;\n",
       "      border: none;\n",
       "      border-radius: 50%;\n",
       "      cursor: pointer;\n",
       "      display: none;\n",
       "      fill: #1967D2;\n",
       "      height: 32px;\n",
       "      padding: 0 0 0 0;\n",
       "      width: 32px;\n",
       "    }\n",
       "\n",
       "    .colab-df-convert:hover {\n",
       "      background-color: #E2EBFA;\n",
       "      box-shadow: 0px 1px 2px rgba(60, 64, 67, 0.3), 0px 1px 3px 1px rgba(60, 64, 67, 0.15);\n",
       "      fill: #174EA6;\n",
       "    }\n",
       "\n",
       "    .colab-df-buttons div {\n",
       "      margin-bottom: 4px;\n",
       "    }\n",
       "\n",
       "    [theme=dark] .colab-df-convert {\n",
       "      background-color: #3B4455;\n",
       "      fill: #D2E3FC;\n",
       "    }\n",
       "\n",
       "    [theme=dark] .colab-df-convert:hover {\n",
       "      background-color: #434B5C;\n",
       "      box-shadow: 0px 1px 3px 1px rgba(0, 0, 0, 0.15);\n",
       "      filter: drop-shadow(0px 1px 2px rgba(0, 0, 0, 0.3));\n",
       "      fill: #FFFFFF;\n",
       "    }\n",
       "  </style>\n",
       "\n",
       "    <script>\n",
       "      const buttonEl =\n",
       "        document.querySelector('#df-5a7f44c8-5930-419d-9b3f-02aa471fdd74 button.colab-df-convert');\n",
       "      buttonEl.style.display =\n",
       "        google.colab.kernel.accessAllowed ? 'block' : 'none';\n",
       "\n",
       "      async function convertToInteractive(key) {\n",
       "        const element = document.querySelector('#df-5a7f44c8-5930-419d-9b3f-02aa471fdd74');\n",
       "        const dataTable =\n",
       "          await google.colab.kernel.invokeFunction('convertToInteractive',\n",
       "                                                    [key], {});\n",
       "        if (!dataTable) return;\n",
       "\n",
       "        const docLinkHtml = 'Like what you see? Visit the ' +\n",
       "          '<a target=\"_blank\" href=https://colab.research.google.com/notebooks/data_table.ipynb>data table notebook</a>'\n",
       "          + ' to learn more about interactive tables.';\n",
       "        element.innerHTML = '';\n",
       "        dataTable['output_type'] = 'display_data';\n",
       "        await google.colab.output.renderOutput(dataTable, element);\n",
       "        const docLink = document.createElement('div');\n",
       "        docLink.innerHTML = docLinkHtml;\n",
       "        element.appendChild(docLink);\n",
       "      }\n",
       "    </script>\n",
       "  </div>\n",
       "\n",
       "\n",
       "<div id=\"df-b3ff3aee-acb2-46b8-9b5a-52caf7adf796\">\n",
       "  <button class=\"colab-df-quickchart\" onclick=\"quickchart('df-b3ff3aee-acb2-46b8-9b5a-52caf7adf796')\"\n",
       "            title=\"Suggest charts\"\n",
       "            style=\"display:none;\">\n",
       "\n",
       "<svg xmlns=\"http://www.w3.org/2000/svg\" height=\"24px\"viewBox=\"0 0 24 24\"\n",
       "     width=\"24px\">\n",
       "    <g>\n",
       "        <path d=\"M19 3H5c-1.1 0-2 .9-2 2v14c0 1.1.9 2 2 2h14c1.1 0 2-.9 2-2V5c0-1.1-.9-2-2-2zM9 17H7v-7h2v7zm4 0h-2V7h2v10zm4 0h-2v-4h2v4z\"/>\n",
       "    </g>\n",
       "</svg>\n",
       "  </button>\n",
       "\n",
       "<style>\n",
       "  .colab-df-quickchart {\n",
       "      --bg-color: #E8F0FE;\n",
       "      --fill-color: #1967D2;\n",
       "      --hover-bg-color: #E2EBFA;\n",
       "      --hover-fill-color: #174EA6;\n",
       "      --disabled-fill-color: #AAA;\n",
       "      --disabled-bg-color: #DDD;\n",
       "  }\n",
       "\n",
       "  [theme=dark] .colab-df-quickchart {\n",
       "      --bg-color: #3B4455;\n",
       "      --fill-color: #D2E3FC;\n",
       "      --hover-bg-color: #434B5C;\n",
       "      --hover-fill-color: #FFFFFF;\n",
       "      --disabled-bg-color: #3B4455;\n",
       "      --disabled-fill-color: #666;\n",
       "  }\n",
       "\n",
       "  .colab-df-quickchart {\n",
       "    background-color: var(--bg-color);\n",
       "    border: none;\n",
       "    border-radius: 50%;\n",
       "    cursor: pointer;\n",
       "    display: none;\n",
       "    fill: var(--fill-color);\n",
       "    height: 32px;\n",
       "    padding: 0;\n",
       "    width: 32px;\n",
       "  }\n",
       "\n",
       "  .colab-df-quickchart:hover {\n",
       "    background-color: var(--hover-bg-color);\n",
       "    box-shadow: 0 1px 2px rgba(60, 64, 67, 0.3), 0 1px 3px 1px rgba(60, 64, 67, 0.15);\n",
       "    fill: var(--button-hover-fill-color);\n",
       "  }\n",
       "\n",
       "  .colab-df-quickchart-complete:disabled,\n",
       "  .colab-df-quickchart-complete:disabled:hover {\n",
       "    background-color: var(--disabled-bg-color);\n",
       "    fill: var(--disabled-fill-color);\n",
       "    box-shadow: none;\n",
       "  }\n",
       "\n",
       "  .colab-df-spinner {\n",
       "    border: 2px solid var(--fill-color);\n",
       "    border-color: transparent;\n",
       "    border-bottom-color: var(--fill-color);\n",
       "    animation:\n",
       "      spin 1s steps(1) infinite;\n",
       "  }\n",
       "\n",
       "  @keyframes spin {\n",
       "    0% {\n",
       "      border-color: transparent;\n",
       "      border-bottom-color: var(--fill-color);\n",
       "      border-left-color: var(--fill-color);\n",
       "    }\n",
       "    20% {\n",
       "      border-color: transparent;\n",
       "      border-left-color: var(--fill-color);\n",
       "      border-top-color: var(--fill-color);\n",
       "    }\n",
       "    30% {\n",
       "      border-color: transparent;\n",
       "      border-left-color: var(--fill-color);\n",
       "      border-top-color: var(--fill-color);\n",
       "      border-right-color: var(--fill-color);\n",
       "    }\n",
       "    40% {\n",
       "      border-color: transparent;\n",
       "      border-right-color: var(--fill-color);\n",
       "      border-top-color: var(--fill-color);\n",
       "    }\n",
       "    60% {\n",
       "      border-color: transparent;\n",
       "      border-right-color: var(--fill-color);\n",
       "    }\n",
       "    80% {\n",
       "      border-color: transparent;\n",
       "      border-right-color: var(--fill-color);\n",
       "      border-bottom-color: var(--fill-color);\n",
       "    }\n",
       "    90% {\n",
       "      border-color: transparent;\n",
       "      border-bottom-color: var(--fill-color);\n",
       "    }\n",
       "  }\n",
       "</style>\n",
       "\n",
       "  <script>\n",
       "    async function quickchart(key) {\n",
       "      const quickchartButtonEl =\n",
       "        document.querySelector('#' + key + ' button');\n",
       "      quickchartButtonEl.disabled = true;  // To prevent multiple clicks.\n",
       "      quickchartButtonEl.classList.add('colab-df-spinner');\n",
       "      try {\n",
       "        const charts = await google.colab.kernel.invokeFunction(\n",
       "            'suggestCharts', [key], {});\n",
       "      } catch (error) {\n",
       "        console.error('Error during call to suggestCharts:', error);\n",
       "      }\n",
       "      quickchartButtonEl.classList.remove('colab-df-spinner');\n",
       "      quickchartButtonEl.classList.add('colab-df-quickchart-complete');\n",
       "    }\n",
       "    (() => {\n",
       "      let quickchartButtonEl =\n",
       "        document.querySelector('#df-b3ff3aee-acb2-46b8-9b5a-52caf7adf796 button');\n",
       "      quickchartButtonEl.style.display =\n",
       "        google.colab.kernel.accessAllowed ? 'block' : 'none';\n",
       "    })();\n",
       "  </script>\n",
       "</div>\n",
       "\n",
       "    </div>\n",
       "  </div>\n"
      ],
      "text/plain": [
       "   Number                                  responses_message binary_score\n",
       "0       0  I took a loan of 100,000 rubles in 2015. The o...     negative\n",
       "1       1  For a little more than a year I issued your ca...     positive\n",
       "2       2  I would like to ask a question. By what right ...     negative\n",
       "3       3  When applying for a consumer loan in the CC at...     negative\n",
       "4       4  08/10/17 my husband received an SMS about the ...     negative"
      ]
     },
     "execution_count": 6,
     "metadata": {},
     "output_type": "execute_result"
    }
   ],
   "source": [
    "df.head()"
   ]
  },
  {
   "cell_type": "code",
   "execution_count": 7,
   "metadata": {
    "colab": {
     "base_uri": "https://localhost:8080/"
    },
    "execution": {
     "iopub.execute_input": "2023-12-31T13:40:52.943214Z",
     "iopub.status.busy": "2023-12-31T13:40:52.942525Z",
     "iopub.status.idle": "2023-12-31T13:40:52.955245Z",
     "shell.execute_reply": "2023-12-31T13:40:52.954391Z",
     "shell.execute_reply.started": "2023-12-31T13:40:52.943186Z"
    },
    "id": "VVVCDnNwNoEb",
    "outputId": "c72dad5f-1f6c-412f-bcfc-d949949641a6"
   },
   "outputs": [
    {
     "data": {
      "text/plain": [
       "Number               0\n",
       "responses_message    0\n",
       "binary_score         8\n",
       "dtype: int64"
      ]
     },
     "execution_count": 7,
     "metadata": {},
     "output_type": "execute_result"
    }
   ],
   "source": [
    "df.isnull().sum()"
   ]
  },
  {
   "cell_type": "code",
   "execution_count": 8,
   "metadata": {
    "colab": {
     "base_uri": "https://localhost:8080/"
    },
    "execution": {
     "iopub.execute_input": "2023-12-31T13:40:53.748433Z",
     "iopub.status.busy": "2023-12-31T13:40:53.748052Z",
     "iopub.status.idle": "2023-12-31T13:40:53.755652Z",
     "shell.execute_reply": "2023-12-31T13:40:53.754684Z",
     "shell.execute_reply.started": "2023-12-31T13:40:53.748403Z"
    },
    "id": "7PLCmNirNoEc",
    "outputId": "db875137-4b2a-4e68-fc9b-ef1e921d4ae6"
   },
   "outputs": [
    {
     "data": {
      "text/plain": [
       "(16659, 3)"
      ]
     },
     "execution_count": 8,
     "metadata": {},
     "output_type": "execute_result"
    }
   ],
   "source": [
    "df.shape"
   ]
  },
  {
   "cell_type": "code",
   "execution_count": 9,
   "metadata": {
    "colab": {
     "base_uri": "https://localhost:8080/"
    },
    "execution": {
     "iopub.execute_input": "2023-12-31T13:40:54.384537Z",
     "iopub.status.busy": "2023-12-31T13:40:54.383885Z",
     "iopub.status.idle": "2023-12-31T13:40:54.391245Z",
     "shell.execute_reply": "2023-12-31T13:40:54.390282Z",
     "shell.execute_reply.started": "2023-12-31T13:40:54.384504Z"
    },
    "id": "caj358JGNoEd",
    "outputId": "b57f7ca3-8df5-46f5-a469-be4e50071ca0"
   },
   "outputs": [
    {
     "data": {
      "text/plain": [
       "Number                int64\n",
       "responses_message    object\n",
       "binary_score         object\n",
       "dtype: object"
      ]
     },
     "execution_count": 9,
     "metadata": {},
     "output_type": "execute_result"
    }
   ],
   "source": [
    "df.dtypes"
   ]
  },
  {
   "cell_type": "code",
   "execution_count": 10,
   "metadata": {
    "execution": {
     "iopub.execute_input": "2023-12-31T13:40:55.732293Z",
     "iopub.status.busy": "2023-12-31T13:40:55.731671Z",
     "iopub.status.idle": "2023-12-31T13:40:55.746999Z",
     "shell.execute_reply": "2023-12-31T13:40:55.745978Z",
     "shell.execute_reply.started": "2023-12-31T13:40:55.732258Z"
    },
    "id": "IRsTmnwgNoEe"
   },
   "outputs": [],
   "source": [
    "df.dropna(inplace=True)"
   ]
  },
  {
   "cell_type": "code",
   "execution_count": 11,
   "metadata": {
    "execution": {
     "iopub.execute_input": "2023-12-31T13:40:56.913348Z",
     "iopub.status.busy": "2023-12-31T13:40:56.912939Z",
     "iopub.status.idle": "2023-12-31T13:40:56.918517Z",
     "shell.execute_reply": "2023-12-31T13:40:56.917605Z",
     "shell.execute_reply.started": "2023-12-31T13:40:56.913306Z"
    },
    "id": "3LSCEqi0NoEg"
   },
   "outputs": [],
   "source": [
    "df_review=df.copy()"
   ]
  },
  {
   "cell_type": "code",
   "execution_count": 12,
   "metadata": {
    "colab": {
     "base_uri": "https://localhost:8080/"
    },
    "execution": {
     "iopub.execute_input": "2023-12-31T13:40:58.930518Z",
     "iopub.status.busy": "2023-12-31T13:40:58.930134Z",
     "iopub.status.idle": "2023-12-31T13:40:58.946255Z",
     "shell.execute_reply": "2023-12-31T13:40:58.945392Z",
     "shell.execute_reply.started": "2023-12-31T13:40:58.930485Z"
    },
    "id": "Z7Zy0GLWNoEh",
    "outputId": "63e1b107-a375-4f02-ea1d-106a178d8149"
   },
   "outputs": [
    {
     "data": {
      "text/plain": [
       "negative    10906\n",
       "positive     5745\n",
       "Name: binary_score, dtype: int64"
      ]
     },
     "execution_count": 12,
     "metadata": {},
     "output_type": "execute_result"
    }
   ],
   "source": [
    "df_review['binary_score'].value_counts()"
   ]
  },
  {
   "cell_type": "code",
   "execution_count": 13,
   "metadata": {
    "colab": {
     "base_uri": "https://localhost:8080/"
    },
    "execution": {
     "iopub.execute_input": "2023-12-31T13:41:00.499701Z",
     "iopub.status.busy": "2023-12-31T13:41:00.499378Z",
     "iopub.status.idle": "2023-12-31T13:41:00.510000Z",
     "shell.execute_reply": "2023-12-31T13:41:00.509003Z",
     "shell.execute_reply.started": "2023-12-31T13:41:00.499675Z"
    },
    "id": "GB1crwbWNoEi",
    "outputId": "5e85e6e4-d05c-4bad-f8a9-6be3100bfec8"
   },
   "outputs": [
    {
     "data": {
      "text/plain": [
       "negative    65.497568\n",
       "positive    34.502432\n",
       "Name: binary_score, dtype: float64"
      ]
     },
     "execution_count": 13,
     "metadata": {},
     "output_type": "execute_result"
    }
   ],
   "source": [
    "df_review['binary_score'].value_counts(normalize=True)*100"
   ]
  },
  {
   "cell_type": "code",
   "execution_count": 14,
   "metadata": {
    "execution": {
     "iopub.execute_input": "2023-12-31T13:41:01.395331Z",
     "iopub.status.busy": "2023-12-31T13:41:01.394955Z",
     "iopub.status.idle": "2023-12-31T13:41:01.406604Z",
     "shell.execute_reply": "2023-12-31T13:41:01.405693Z",
     "shell.execute_reply.started": "2023-12-31T13:41:01.395300Z"
    },
    "id": "SjevXLJMNoEi"
   },
   "outputs": [],
   "source": [
    "df_review['binary_score']=df_review['binary_score'].map({'negative':0,'positive':1})"
   ]
  },
  {
   "cell_type": "code",
   "execution_count": 15,
   "metadata": {
    "colab": {
     "base_uri": "https://localhost:8080/",
     "height": 206
    },
    "execution": {
     "iopub.execute_input": "2023-12-31T13:41:02.455646Z",
     "iopub.status.busy": "2023-12-31T13:41:02.455299Z",
     "iopub.status.idle": "2023-12-31T13:41:02.465184Z",
     "shell.execute_reply": "2023-12-31T13:41:02.464220Z",
     "shell.execute_reply.started": "2023-12-31T13:41:02.455618Z"
    },
    "id": "5h19fsJGNoEj",
    "outputId": "3970057f-b1cc-43f3-a24b-bf4151f2bc71"
   },
   "outputs": [
    {
     "data": {
      "text/html": [
       "\n",
       "  <div id=\"df-3bed9982-4ea8-4952-8acd-76d46943b230\" class=\"colab-df-container\">\n",
       "    <div>\n",
       "<style scoped>\n",
       "    .dataframe tbody tr th:only-of-type {\n",
       "        vertical-align: middle;\n",
       "    }\n",
       "\n",
       "    .dataframe tbody tr th {\n",
       "        vertical-align: top;\n",
       "    }\n",
       "\n",
       "    .dataframe thead th {\n",
       "        text-align: right;\n",
       "    }\n",
       "</style>\n",
       "<table border=\"1\" class=\"dataframe\">\n",
       "  <thead>\n",
       "    <tr style=\"text-align: right;\">\n",
       "      <th></th>\n",
       "      <th>Number</th>\n",
       "      <th>responses_message</th>\n",
       "      <th>binary_score</th>\n",
       "    </tr>\n",
       "  </thead>\n",
       "  <tbody>\n",
       "    <tr>\n",
       "      <th>0</th>\n",
       "      <td>0</td>\n",
       "      <td>I took a loan of 100,000 rubles in 2015. The o...</td>\n",
       "      <td>0</td>\n",
       "    </tr>\n",
       "    <tr>\n",
       "      <th>1</th>\n",
       "      <td>1</td>\n",
       "      <td>For a little more than a year I issued your ca...</td>\n",
       "      <td>1</td>\n",
       "    </tr>\n",
       "    <tr>\n",
       "      <th>2</th>\n",
       "      <td>2</td>\n",
       "      <td>I would like to ask a question. By what right ...</td>\n",
       "      <td>0</td>\n",
       "    </tr>\n",
       "    <tr>\n",
       "      <th>3</th>\n",
       "      <td>3</td>\n",
       "      <td>When applying for a consumer loan in the CC at...</td>\n",
       "      <td>0</td>\n",
       "    </tr>\n",
       "    <tr>\n",
       "      <th>4</th>\n",
       "      <td>4</td>\n",
       "      <td>08/10/17 my husband received an SMS about the ...</td>\n",
       "      <td>0</td>\n",
       "    </tr>\n",
       "  </tbody>\n",
       "</table>\n",
       "</div>\n",
       "    <div class=\"colab-df-buttons\">\n",
       "\n",
       "  <div class=\"colab-df-container\">\n",
       "    <button class=\"colab-df-convert\" onclick=\"convertToInteractive('df-3bed9982-4ea8-4952-8acd-76d46943b230')\"\n",
       "            title=\"Convert this dataframe to an interactive table.\"\n",
       "            style=\"display:none;\">\n",
       "\n",
       "  <svg xmlns=\"http://www.w3.org/2000/svg\" height=\"24px\" viewBox=\"0 -960 960 960\">\n",
       "    <path d=\"M120-120v-720h720v720H120Zm60-500h600v-160H180v160Zm220 220h160v-160H400v160Zm0 220h160v-160H400v160ZM180-400h160v-160H180v160Zm440 0h160v-160H620v160ZM180-180h160v-160H180v160Zm440 0h160v-160H620v160Z\"/>\n",
       "  </svg>\n",
       "    </button>\n",
       "\n",
       "  <style>\n",
       "    .colab-df-container {\n",
       "      display:flex;\n",
       "      gap: 12px;\n",
       "    }\n",
       "\n",
       "    .colab-df-convert {\n",
       "      background-color: #E8F0FE;\n",
       "      border: none;\n",
       "      border-radius: 50%;\n",
       "      cursor: pointer;\n",
       "      display: none;\n",
       "      fill: #1967D2;\n",
       "      height: 32px;\n",
       "      padding: 0 0 0 0;\n",
       "      width: 32px;\n",
       "    }\n",
       "\n",
       "    .colab-df-convert:hover {\n",
       "      background-color: #E2EBFA;\n",
       "      box-shadow: 0px 1px 2px rgba(60, 64, 67, 0.3), 0px 1px 3px 1px rgba(60, 64, 67, 0.15);\n",
       "      fill: #174EA6;\n",
       "    }\n",
       "\n",
       "    .colab-df-buttons div {\n",
       "      margin-bottom: 4px;\n",
       "    }\n",
       "\n",
       "    [theme=dark] .colab-df-convert {\n",
       "      background-color: #3B4455;\n",
       "      fill: #D2E3FC;\n",
       "    }\n",
       "\n",
       "    [theme=dark] .colab-df-convert:hover {\n",
       "      background-color: #434B5C;\n",
       "      box-shadow: 0px 1px 3px 1px rgba(0, 0, 0, 0.15);\n",
       "      filter: drop-shadow(0px 1px 2px rgba(0, 0, 0, 0.3));\n",
       "      fill: #FFFFFF;\n",
       "    }\n",
       "  </style>\n",
       "\n",
       "    <script>\n",
       "      const buttonEl =\n",
       "        document.querySelector('#df-3bed9982-4ea8-4952-8acd-76d46943b230 button.colab-df-convert');\n",
       "      buttonEl.style.display =\n",
       "        google.colab.kernel.accessAllowed ? 'block' : 'none';\n",
       "\n",
       "      async function convertToInteractive(key) {\n",
       "        const element = document.querySelector('#df-3bed9982-4ea8-4952-8acd-76d46943b230');\n",
       "        const dataTable =\n",
       "          await google.colab.kernel.invokeFunction('convertToInteractive',\n",
       "                                                    [key], {});\n",
       "        if (!dataTable) return;\n",
       "\n",
       "        const docLinkHtml = 'Like what you see? Visit the ' +\n",
       "          '<a target=\"_blank\" href=https://colab.research.google.com/notebooks/data_table.ipynb>data table notebook</a>'\n",
       "          + ' to learn more about interactive tables.';\n",
       "        element.innerHTML = '';\n",
       "        dataTable['output_type'] = 'display_data';\n",
       "        await google.colab.output.renderOutput(dataTable, element);\n",
       "        const docLink = document.createElement('div');\n",
       "        docLink.innerHTML = docLinkHtml;\n",
       "        element.appendChild(docLink);\n",
       "      }\n",
       "    </script>\n",
       "  </div>\n",
       "\n",
       "\n",
       "<div id=\"df-9468d760-ba94-46e6-94b6-d144c8c6e3a9\">\n",
       "  <button class=\"colab-df-quickchart\" onclick=\"quickchart('df-9468d760-ba94-46e6-94b6-d144c8c6e3a9')\"\n",
       "            title=\"Suggest charts\"\n",
       "            style=\"display:none;\">\n",
       "\n",
       "<svg xmlns=\"http://www.w3.org/2000/svg\" height=\"24px\"viewBox=\"0 0 24 24\"\n",
       "     width=\"24px\">\n",
       "    <g>\n",
       "        <path d=\"M19 3H5c-1.1 0-2 .9-2 2v14c0 1.1.9 2 2 2h14c1.1 0 2-.9 2-2V5c0-1.1-.9-2-2-2zM9 17H7v-7h2v7zm4 0h-2V7h2v10zm4 0h-2v-4h2v4z\"/>\n",
       "    </g>\n",
       "</svg>\n",
       "  </button>\n",
       "\n",
       "<style>\n",
       "  .colab-df-quickchart {\n",
       "      --bg-color: #E8F0FE;\n",
       "      --fill-color: #1967D2;\n",
       "      --hover-bg-color: #E2EBFA;\n",
       "      --hover-fill-color: #174EA6;\n",
       "      --disabled-fill-color: #AAA;\n",
       "      --disabled-bg-color: #DDD;\n",
       "  }\n",
       "\n",
       "  [theme=dark] .colab-df-quickchart {\n",
       "      --bg-color: #3B4455;\n",
       "      --fill-color: #D2E3FC;\n",
       "      --hover-bg-color: #434B5C;\n",
       "      --hover-fill-color: #FFFFFF;\n",
       "      --disabled-bg-color: #3B4455;\n",
       "      --disabled-fill-color: #666;\n",
       "  }\n",
       "\n",
       "  .colab-df-quickchart {\n",
       "    background-color: var(--bg-color);\n",
       "    border: none;\n",
       "    border-radius: 50%;\n",
       "    cursor: pointer;\n",
       "    display: none;\n",
       "    fill: var(--fill-color);\n",
       "    height: 32px;\n",
       "    padding: 0;\n",
       "    width: 32px;\n",
       "  }\n",
       "\n",
       "  .colab-df-quickchart:hover {\n",
       "    background-color: var(--hover-bg-color);\n",
       "    box-shadow: 0 1px 2px rgba(60, 64, 67, 0.3), 0 1px 3px 1px rgba(60, 64, 67, 0.15);\n",
       "    fill: var(--button-hover-fill-color);\n",
       "  }\n",
       "\n",
       "  .colab-df-quickchart-complete:disabled,\n",
       "  .colab-df-quickchart-complete:disabled:hover {\n",
       "    background-color: var(--disabled-bg-color);\n",
       "    fill: var(--disabled-fill-color);\n",
       "    box-shadow: none;\n",
       "  }\n",
       "\n",
       "  .colab-df-spinner {\n",
       "    border: 2px solid var(--fill-color);\n",
       "    border-color: transparent;\n",
       "    border-bottom-color: var(--fill-color);\n",
       "    animation:\n",
       "      spin 1s steps(1) infinite;\n",
       "  }\n",
       "\n",
       "  @keyframes spin {\n",
       "    0% {\n",
       "      border-color: transparent;\n",
       "      border-bottom-color: var(--fill-color);\n",
       "      border-left-color: var(--fill-color);\n",
       "    }\n",
       "    20% {\n",
       "      border-color: transparent;\n",
       "      border-left-color: var(--fill-color);\n",
       "      border-top-color: var(--fill-color);\n",
       "    }\n",
       "    30% {\n",
       "      border-color: transparent;\n",
       "      border-left-color: var(--fill-color);\n",
       "      border-top-color: var(--fill-color);\n",
       "      border-right-color: var(--fill-color);\n",
       "    }\n",
       "    40% {\n",
       "      border-color: transparent;\n",
       "      border-right-color: var(--fill-color);\n",
       "      border-top-color: var(--fill-color);\n",
       "    }\n",
       "    60% {\n",
       "      border-color: transparent;\n",
       "      border-right-color: var(--fill-color);\n",
       "    }\n",
       "    80% {\n",
       "      border-color: transparent;\n",
       "      border-right-color: var(--fill-color);\n",
       "      border-bottom-color: var(--fill-color);\n",
       "    }\n",
       "    90% {\n",
       "      border-color: transparent;\n",
       "      border-bottom-color: var(--fill-color);\n",
       "    }\n",
       "  }\n",
       "</style>\n",
       "\n",
       "  <script>\n",
       "    async function quickchart(key) {\n",
       "      const quickchartButtonEl =\n",
       "        document.querySelector('#' + key + ' button');\n",
       "      quickchartButtonEl.disabled = true;  // To prevent multiple clicks.\n",
       "      quickchartButtonEl.classList.add('colab-df-spinner');\n",
       "      try {\n",
       "        const charts = await google.colab.kernel.invokeFunction(\n",
       "            'suggestCharts', [key], {});\n",
       "      } catch (error) {\n",
       "        console.error('Error during call to suggestCharts:', error);\n",
       "      }\n",
       "      quickchartButtonEl.classList.remove('colab-df-spinner');\n",
       "      quickchartButtonEl.classList.add('colab-df-quickchart-complete');\n",
       "    }\n",
       "    (() => {\n",
       "      let quickchartButtonEl =\n",
       "        document.querySelector('#df-9468d760-ba94-46e6-94b6-d144c8c6e3a9 button');\n",
       "      quickchartButtonEl.style.display =\n",
       "        google.colab.kernel.accessAllowed ? 'block' : 'none';\n",
       "    })();\n",
       "  </script>\n",
       "</div>\n",
       "\n",
       "    </div>\n",
       "  </div>\n"
      ],
      "text/plain": [
       "   Number                                  responses_message  binary_score\n",
       "0       0  I took a loan of 100,000 rubles in 2015. The o...             0\n",
       "1       1  For a little more than a year I issued your ca...             1\n",
       "2       2  I would like to ask a question. By what right ...             0\n",
       "3       3  When applying for a consumer loan in the CC at...             0\n",
       "4       4  08/10/17 my husband received an SMS about the ...             0"
      ]
     },
     "execution_count": 15,
     "metadata": {},
     "output_type": "execute_result"
    }
   ],
   "source": [
    "df_review.head()"
   ]
  },
  {
   "cell_type": "code",
   "execution_count": 16,
   "metadata": {
    "colab": {
     "base_uri": "https://localhost:8080/",
     "height": 471
    },
    "execution": {
     "iopub.execute_input": "2023-12-31T13:41:03.437995Z",
     "iopub.status.busy": "2023-12-31T13:41:03.437130Z",
     "iopub.status.idle": "2023-12-31T13:41:03.626491Z",
     "shell.execute_reply": "2023-12-31T13:41:03.625442Z",
     "shell.execute_reply.started": "2023-12-31T13:41:03.437962Z"
    },
    "id": "rK0pwDSzNoEj",
    "outputId": "62f3d803-93a7-40fd-f456-5254a357796e"
   },
   "outputs": [
    {
     "data": {
      "text/plain": [
       "<Axes: xlabel='binary_score', ylabel='count'>"
      ]
     },
     "execution_count": 16,
     "metadata": {},
     "output_type": "execute_result"
    },
    {
     "data": {
      "image/png": "[encoded data removed]",
      "text/plain": [
       "<Figure size 640x480 with 1 Axes>"
      ]
     },
     "metadata": {},
     "output_type": "display_data"
    }
   ],
   "source": [
    "sns.countplot(data=df_review,x=df_review['binary_score'])"
   ]
  },
  {
   "cell_type": "code",
   "execution_count": 17,
   "metadata": {
    "execution": {
     "iopub.execute_input": "2023-12-31T13:41:04.850534Z",
     "iopub.status.busy": "2023-12-31T13:41:04.850108Z",
     "iopub.status.idle": "2023-12-31T13:41:05.639055Z",
     "shell.execute_reply": "2023-12-31T13:41:05.638314Z",
     "shell.execute_reply.started": "2023-12-31T13:41:04.850505Z"
    },
    "id": "17Jh63qQNoEk"
   },
   "outputs": [],
   "source": [
    "import nltk"
   ]
  },
  {
   "cell_type": "code",
   "execution_count": 18,
   "metadata": {
    "colab": {
     "base_uri": "https://localhost:8080/"
    },
    "execution": {
     "iopub.execute_input": "2023-12-31T13:41:20.898813Z",
     "iopub.status.busy": "2023-12-31T13:41:20.898492Z",
     "iopub.status.idle": "2023-12-31T13:41:20.998438Z",
     "shell.execute_reply": "2023-12-31T13:41:20.997498Z",
     "shell.execute_reply.started": "2023-12-31T13:41:20.898789Z"
    },
    "id": "Rlb4HamVNoEl",
    "outputId": "d1b831b1-146b-419d-d423-17dc11acdc76"
   },
   "outputs": [
    {
     "name": "stderr",
     "output_type": "stream",
     "text": [
      "[nltk_data] Downloading package stopwords to /root/nltk_data...\n",
      "[nltk_data]   Unzipping corpora/stopwords.zip.\n"
     ]
    },
    {
     "data": {
      "text/plain": [
       "True"
      ]
     },
     "execution_count": 18,
     "metadata": {},
     "output_type": "execute_result"
    }
   ],
   "source": [
    "nltk.download('stopwords')"
   ]
  },
  {
   "cell_type": "code",
   "execution_count": 19,
   "metadata": {
    "execution": {
     "iopub.execute_input": "2023-12-31T13:41:37.630878Z",
     "iopub.status.busy": "2023-12-31T13:41:37.630528Z",
     "iopub.status.idle": "2023-12-31T13:41:37.636118Z",
     "shell.execute_reply": "2023-12-31T13:41:37.635080Z",
     "shell.execute_reply.started": "2023-12-31T13:41:37.630850Z"
    },
    "id": "jQ18y-VcNoEl"
   },
   "outputs": [],
   "source": [
    "from nltk.corpus import stopwords\n",
    "from nltk.stem import PorterStemmer,WordNetLemmatizer\n",
    "import re\n",
    "from nltk.tokenize import sent_tokenize,word_tokenize"
   ]
  },
  {
   "cell_type": "code",
   "execution_count": 20,
   "metadata": {
    "execution": {
     "iopub.execute_input": "2023-12-31T13:41:40.925841Z",
     "iopub.status.busy": "2023-12-31T13:41:40.924987Z",
     "iopub.status.idle": "2023-12-31T13:41:40.929938Z",
     "shell.execute_reply": "2023-12-31T13:41:40.928976Z",
     "shell.execute_reply.started": "2023-12-31T13:41:40.925807Z"
    },
    "id": "ND1K0cQiNoEm"
   },
   "outputs": [],
   "source": [
    "stemmer=PorterStemmer()"
   ]
  },
  {
   "cell_type": "code",
   "execution_count": 21,
   "metadata": {
    "execution": {
     "iopub.execute_input": "2023-12-31T13:41:42.561539Z",
     "iopub.status.busy": "2023-12-31T13:41:42.561186Z",
     "iopub.status.idle": "2023-12-31T13:41:42.566155Z",
     "shell.execute_reply": "2023-12-31T13:41:42.565137Z",
     "shell.execute_reply.started": "2023-12-31T13:41:42.561508Z"
    },
    "id": "bBn5I1yyNoEm"
   },
   "outputs": [],
   "source": [
    "lemmatizer=WordNetLemmatizer()"
   ]
  },
  {
   "cell_type": "code",
   "execution_count": 22,
   "metadata": {
    "execution": {
     "iopub.execute_input": "2023-12-31T13:41:46.643914Z",
     "iopub.status.busy": "2023-12-31T13:41:46.642973Z",
     "iopub.status.idle": "2023-12-31T13:41:46.648544Z",
     "shell.execute_reply": "2023-12-31T13:41:46.647494Z",
     "shell.execute_reply.started": "2023-12-31T13:41:46.643867Z"
    },
    "id": "ot52hpVUNoEm"
   },
   "outputs": [],
   "source": [
    "## Taking first respose mesaage\n",
    "sample=df_review['responses_message'][0]"
   ]
  },
  {
   "cell_type": "code",
   "execution_count": 24,
   "metadata": {
    "colab": {
     "base_uri": "https://localhost:8080/"
    },
    "id": "oJMh4HdIPG7J",
    "outputId": "416712b5-e0d6-4ed3-9a44-e2a3186c97ed"
   },
   "outputs": [
    {
     "name": "stderr",
     "output_type": "stream",
     "text": [
      "[nltk_data] Downloading package punkt to /root/nltk_data...\n",
      "[nltk_data]   Unzipping tokenizers/punkt.zip.\n"
     ]
    },
    {
     "data": {
      "text/plain": [
       "True"
      ]
     },
     "execution_count": 24,
     "metadata": {},
     "output_type": "execute_result"
    }
   ],
   "source": [
    "nltk.download('punkt')"
   ]
  },
  {
   "cell_type": "code",
   "execution_count": 25,
   "metadata": {
    "execution": {
     "iopub.execute_input": "2023-12-31T13:41:47.609245Z",
     "iopub.status.busy": "2023-12-31T13:41:47.608891Z",
     "iopub.status.idle": "2023-12-31T13:41:47.629598Z",
     "shell.execute_reply": "2023-12-31T13:41:47.628872Z",
     "shell.execute_reply.started": "2023-12-31T13:41:47.609216Z"
    },
    "id": "XxH89DS7NoEn"
   },
   "outputs": [],
   "source": [
    "sentence_sample=sent_tokenize(sample)"
   ]
  },
  {
   "cell_type": "code",
   "execution_count": 26,
   "metadata": {
    "colab": {
     "base_uri": "https://localhost:8080/"
    },
    "execution": {
     "iopub.execute_input": "2023-12-31T13:41:48.925454Z",
     "iopub.status.busy": "2023-12-31T13:41:48.925014Z",
     "iopub.status.idle": "2023-12-31T13:41:48.931517Z",
     "shell.execute_reply": "2023-12-31T13:41:48.930538Z",
     "shell.execute_reply.started": "2023-12-31T13:41:48.925423Z"
    },
    "id": "RYICCqUlNoEo",
    "outputId": "098e122a-f004-4ef7-b1c2-922d68e37bfb"
   },
   "outputs": [
    {
     "data": {
      "text/plain": [
       "['I took a loan of 100,000 rubles in 2015.',\n",
       " 'The office immediately began to breed for additional services, insurance, etc.',\n",
       " 'Under the terms, they lied absolutely everything.',\n",
       " 'When I was about to leave, the conditions softened.',\n",
       " 'As a result, after a year of payments on schedule, I owed 92,000 rubles.',\n",
       " 'Another year passed and I boldly assumed that the balance was not more than 70,000 on the loan.',\n",
       " 'As I literally put it, I was surprised when, after another year, I owed less on the main debt of only 1,000 rubles less, totaling 91,000 rubles!',\n",
       " 'That is, for 24 months of payments in the amount of at least 85,000 rubles, less than 9,000 rubles were written off from the main debt.',\n",
       " 'I have not seen such predatory movements in any bank.',\n",
       " 'In no case do not contact them.']"
      ]
     },
     "execution_count": 26,
     "metadata": {},
     "output_type": "execute_result"
    }
   ],
   "source": [
    "sentence_sample"
   ]
  },
  {
   "cell_type": "code",
   "execution_count": 27,
   "metadata": {
    "colab": {
     "base_uri": "https://localhost:8080/"
    },
    "execution": {
     "iopub.execute_input": "2023-12-31T13:41:50.281605Z",
     "iopub.status.busy": "2023-12-31T13:41:50.280775Z",
     "iopub.status.idle": "2023-12-31T13:41:50.287161Z",
     "shell.execute_reply": "2023-12-31T13:41:50.286183Z",
     "shell.execute_reply.started": "2023-12-31T13:41:50.281573Z"
    },
    "id": "7dY_dYCJNoEs",
    "outputId": "79b21b5e-2c35-4f03-c300-111032e834fc"
   },
   "outputs": [
    {
     "data": {
      "text/plain": [
       "10"
      ]
     },
     "execution_count": 27,
     "metadata": {},
     "output_type": "execute_result"
    }
   ],
   "source": [
    "len(sentence_sample)"
   ]
  },
  {
   "cell_type": "code",
   "execution_count": 28,
   "metadata": {
    "execution": {
     "iopub.execute_input": "2023-12-31T13:41:51.679624Z",
     "iopub.status.busy": "2023-12-31T13:41:51.678853Z",
     "iopub.status.idle": "2023-12-31T13:41:51.683901Z",
     "shell.execute_reply": "2023-12-31T13:41:51.682898Z",
     "shell.execute_reply.started": "2023-12-31T13:41:51.679592Z"
    },
    "id": "v-XCrZSMNoEs"
   },
   "outputs": [],
   "source": [
    "sub_words=re.sub('[^a-zA-Z]',' ',sample)"
   ]
  },
  {
   "cell_type": "code",
   "execution_count": 29,
   "metadata": {
    "execution": {
     "iopub.execute_input": "2023-12-31T13:41:52.819423Z",
     "iopub.status.busy": "2023-12-31T13:41:52.819065Z",
     "iopub.status.idle": "2023-12-31T13:41:52.823405Z",
     "shell.execute_reply": "2023-12-31T13:41:52.822493Z",
     "shell.execute_reply.started": "2023-12-31T13:41:52.819394Z"
    },
    "id": "t026Laz5NoEs"
   },
   "outputs": [],
   "source": [
    "lower_sub=sub_words.lower()"
   ]
  },
  {
   "cell_type": "code",
   "execution_count": 30,
   "metadata": {
    "execution": {
     "iopub.execute_input": "2023-12-31T13:41:53.945398Z",
     "iopub.status.busy": "2023-12-31T13:41:53.944776Z",
     "iopub.status.idle": "2023-12-31T13:41:53.951079Z",
     "shell.execute_reply": "2023-12-31T13:41:53.950074Z",
     "shell.execute_reply.started": "2023-12-31T13:41:53.945361Z"
    },
    "id": "BxhvqnPgNoEt"
   },
   "outputs": [],
   "source": [
    "## this function will take string data and convert into cleaned string\n",
    "def clean_data_with_stopwords(df):\n",
    "    text=re.sub('[^a-zA-Z]',' ',df)\n",
    "    text=text.lower()\n",
    "    text=text.split()\n",
    "    stemmer_txt=[stemmer.stem(word) for word in text if word not in set(stopwords.words('english'))]\n",
    "    final_word=' '.join(stemmer_txt)\n",
    "    return final_word"
   ]
  },
  {
   "cell_type": "code",
   "execution_count": 31,
   "metadata": {
    "colab": {
     "base_uri": "https://localhost:8080/",
     "height": 35
    },
    "execution": {
     "iopub.execute_input": "2023-12-31T13:41:59.225563Z",
     "iopub.status.busy": "2023-12-31T13:41:59.224793Z",
     "iopub.status.idle": "2023-12-31T13:41:59.231337Z",
     "shell.execute_reply": "2023-12-31T13:41:59.230269Z",
     "shell.execute_reply.started": "2023-12-31T13:41:59.225530Z"
    },
    "id": "VVkxo4RWNoEt",
    "outputId": "4f596d08-5b11-4317-d914-6922d471a7dc"
   },
   "outputs": [
    {
     "data": {
      "application/vnd.google.colaboratory.intrinsic+json": {
       "type": "string"
      },
      "text/plain": [
       "'/content'"
      ]
     },
     "execution_count": 31,
     "metadata": {},
     "output_type": "execute_result"
    }
   ],
   "source": [
    "pwd"
   ]
  },
  {
   "cell_type": "code",
   "execution_count": 32,
   "metadata": {
    "execution": {
     "iopub.execute_input": "2023-12-31T13:42:00.470471Z",
     "iopub.status.busy": "2023-12-31T13:42:00.469748Z",
     "iopub.status.idle": "2023-12-31T13:42:00.496981Z",
     "shell.execute_reply": "2023-12-31T13:42:00.496285Z",
     "shell.execute_reply.started": "2023-12-31T13:42:00.470438Z"
    },
    "id": "iW8OYwAONoEu"
   },
   "outputs": [],
   "source": [
    "s1=clean_data_with_stopwords(sample)"
   ]
  },
  {
   "cell_type": "code",
   "execution_count": 33,
   "metadata": {
    "colab": {
     "base_uri": "https://localhost:8080/",
     "height": 70
    },
    "execution": {
     "iopub.execute_input": "2023-12-31T13:42:02.060189Z",
     "iopub.status.busy": "2023-12-31T13:42:02.059510Z",
     "iopub.status.idle": "2023-12-31T13:42:02.065810Z",
     "shell.execute_reply": "2023-12-31T13:42:02.064784Z",
     "shell.execute_reply.started": "2023-12-31T13:42:02.060159Z"
    },
    "id": "Z-UF-csyNoEu",
    "outputId": "715248aa-a020-4639-ea99-9c00c53c4428"
   },
   "outputs": [
    {
     "data": {
      "application/vnd.google.colaboratory.intrinsic+json": {
       "type": "string"
      },
      "text/plain": [
       "'took loan rubl offic immedi began breed addit servic insur etc term lie absolut everyth leav condit soften result year payment schedul owe rubl anoth year pass boldli assum balanc loan liter put surpris anoth year owe less main debt rubl less total rubl month payment amount least rubl less rubl written main debt seen predatori movement bank case contact'"
      ]
     },
     "execution_count": 33,
     "metadata": {},
     "output_type": "execute_result"
    }
   ],
   "source": [
    "s1"
   ]
  },
  {
   "cell_type": "code",
   "execution_count": 34,
   "metadata": {
    "execution": {
     "iopub.execute_input": "2023-12-31T13:42:26.571734Z",
     "iopub.status.busy": "2023-12-31T13:42:26.571369Z",
     "iopub.status.idle": "2023-12-31T13:42:26.579723Z",
     "shell.execute_reply": "2023-12-31T13:42:26.578752Z",
     "shell.execute_reply.started": "2023-12-31T13:42:26.571705Z"
    },
    "id": "k_53_V2UNoEu"
   },
   "outputs": [],
   "source": [
    "## This functions will take df and column name so that it will return complete cospurs with celaned text\n",
    "def clean_data_with_stopwords_df(df,column):\n",
    "    corpus=[]\n",
    "    for i in range(len(df)):\n",
    "        text=re.sub('[^a-zA-Z]',' ',df[column][i])\n",
    "        text=text.lower()\n",
    "        text=text.split()\n",
    "        stemmer_txt=[stemmer.stem(word) for word in text if word not in set(stopwords.words('english'))]\n",
    "        final_word=' '.join(stemmer_txt)\n",
    "        corpus.append(final_word)\n",
    "    return corpus\n"
   ]
  },
  {
   "cell_type": "code",
   "execution_count": 35,
   "metadata": {
    "execution": {
     "iopub.execute_input": "2023-12-31T14:06:07.901232Z",
     "iopub.status.busy": "2023-12-31T14:06:07.900845Z",
     "iopub.status.idle": "2023-12-31T14:06:07.907848Z",
     "shell.execute_reply": "2023-12-31T14:06:07.906792Z",
     "shell.execute_reply.started": "2023-12-31T14:06:07.901202Z"
    },
    "id": "F48xaoc3NoEv"
   },
   "outputs": [],
   "source": [
    "## This functions will take df and column name so that it will return complete cospurs with celaned text\n",
    "def clean_data_with_stopwords_df_lemmatize(df,column):\n",
    "    corpus=[]\n",
    "    for i in range(len(df)):\n",
    "        text=re.sub('[^a-zA-Z]',' ',df[column][i])\n",
    "        text=text.lower()\n",
    "        text=text.split()\n",
    "        lemmatized_text=[lemmatizer.lemmatize(word) for word in text if word not in set(stopwords.words('english'))]\n",
    "        final_word=' '.join(lemmatized_text)\n",
    "        corpus.append(final_word)\n",
    "    return corpus\n"
   ]
  },
  {
   "cell_type": "code",
   "execution_count": 38,
   "metadata": {
    "colab": {
     "base_uri": "https://localhost:8080/"
    },
    "execution": {
     "iopub.execute_input": "2023-12-31T14:06:22.333374Z",
     "iopub.status.busy": "2023-12-31T14:06:22.332232Z",
     "iopub.status.idle": "2023-12-31T14:06:22.337390Z",
     "shell.execute_reply": "2023-12-31T14:06:22.336211Z",
     "shell.execute_reply.started": "2023-12-31T14:06:22.333337Z"
    },
    "id": "spjR_xocNoEx",
    "outputId": "9288e8ca-1c30-4520-c2d9-f17993e5a0a4"
   },
   "outputs": [
    {
     "name": "stderr",
     "output_type": "stream",
     "text": [
      "[nltk_data] Downloading package wordnet to /root/nltk_data...\n"
     ]
    },
    {
     "data": {
      "text/plain": [
       "True"
      ]
     },
     "execution_count": 38,
     "metadata": {},
     "output_type": "execute_result"
    }
   ],
   "source": [
    "nltk.download('wordnet')"
   ]
  },
  {
   "cell_type": "code",
   "execution_count": 39,
   "metadata": {
    "execution": {
     "iopub.execute_input": "2023-12-30T14:21:02.705739Z",
     "iopub.status.busy": "2023-12-30T14:21:02.704976Z",
     "iopub.status.idle": "2023-12-30T14:21:14.435504Z",
     "shell.execute_reply": "2023-12-30T14:21:14.434321Z",
     "shell.execute_reply.started": "2023-12-30T14:21:02.705709Z"
    },
    "id": "Ak9_PUGINoEy"
   },
   "outputs": [],
   "source": [
    "#pip install nltk"
   ]
  },
  {
   "cell_type": "code",
   "execution_count": 40,
   "metadata": {
    "colab": {
     "base_uri": "https://localhost:8080/"
    },
    "execution": {
     "iopub.execute_input": "2023-12-31T14:08:43.469342Z",
     "iopub.status.busy": "2023-12-31T14:08:43.468958Z",
     "iopub.status.idle": "2023-12-31T14:08:43.633520Z",
     "shell.execute_reply": "2023-12-31T14:08:43.632641Z",
     "shell.execute_reply.started": "2023-12-31T14:08:43.469310Z"
    },
    "id": "nxiurD9YNoEz",
    "outputId": "a3041ffb-8a27-41f5-ac14-6291eb2bff97"
   },
   "outputs": [
    {
     "name": "stdout",
     "output_type": "stream",
     "text": [
      "CPU times: user 6min 35s, sys: 48.1 s, total: 7min 24s\n",
      "Wall time: 7min 29s\n"
     ]
    }
   ],
   "source": [
    "%%time\n",
    "cleaned_corpus=clean_data_with_stopwords_df_lemmatize(df_review,'responses_message')"
   ]
  },
  {
   "cell_type": "code",
   "execution_count": null,
   "metadata": {
    "execution": {
     "iopub.execute_input": "2023-12-30T14:31:31.684930Z",
     "iopub.status.busy": "2023-12-30T14:31:31.684529Z",
     "iopub.status.idle": "2023-12-30T14:31:31.691712Z",
     "shell.execute_reply": "2023-12-30T14:31:31.690538Z",
     "shell.execute_reply.started": "2023-12-30T14:31:31.684897Z"
    },
    "id": "G2CLDOt-NoE-",
    "outputId": "1ec61697-8540-45fe-ee6b-00aff02a7c6e"
   },
   "outputs": [
    {
     "data": {
      "text/plain": [
       "['took loan rubl offic immedi began breed addit servic insur etc term lie absolut everyth leav condit soften result year payment schedul owe rubl anoth year pass boldli assum balanc loan liter put surpris anoth year owe less main debt rubl less total rubl month payment amount least rubl less rubl written main debt seen predatori movement bank case contact',\n",
       " 'littl year issu card interest free period month decid fulfil dream bought iron good price paid card everyth fine iron pleas point broke manufactur warranti workshop announc huge price repair sorrow edg came bank branch deposit money card well share troubl girl employe thank employe depart tell addit guarante privileg card visa payment system set iron free everyth work fine thank much bank staff attent attitud servic',\n",
       " 'would like ask question right bank name third parti indic even appli loan situat delay relat absenc citi manag alway call announc payment date everyth paid began call husband demand pay loan even call direct co bank bank indign influenc call time direct payment loan suppos pay month',\n",
       " 'appli consum loan cc ul mitinskaya amount rubl employe bank svoy yulia alvna prepar contract way voic comment fact servic credit histori worth rubl well fact voluntari insur sign agreement c va ask dictat access code receiv mobil supposedli activ account transfer fund credit account card result fraud access code rubl written account print credit histori agreement provid servic issu credit histori mobil applic also charg amount includ amount loan suggest employe fraudul dispos fund borrow bank impos voluntari insur credit histori servic fraud situat outrag forc go court solv problem refus refund servic impos ask post post bank provid assist return fund illeg debit fund also ask consid claim pre trial procedur resolv disput',\n",
       " 'husband receiv sm approv propos rubl need money decid appli went nearest offic ul vvedenski submit applic within half hour approv loan began appli suddenli bank employe report error occur issu loan rubl supposedli money alreadi transfer husband account fact amount rubl card case contract payment consid base amount rubl employe abl cope situat ran aid husband began receiv sm code code phone girl ask give code explain fact tri correct situat need enter kind secur code sent code given later found thu written three time rubl rubl husband card bank employe ask question matter rest money claim error occur went insur clear could explain result sent us client center went anoth offic vavilova explain life insur durat loan tree allegedli plant box product includ credit request stori depart least print product shock turn brazenli deceiv voic inform pure fraud long trial sever day told write waiver insur supposedli within day money come account rubl return tree clear plant want urgent refus loan employe said imposs sit wait outcom day think natur fraud intent misrepresent never contact bank advis anyon lost lot nerv time arm babi understand whole situat hope favor outcom otherwis go court central bank care']"
      ]
     },
     "execution_count": 38,
     "metadata": {},
     "output_type": "execute_result"
    }
   ],
   "source": [
    "## this is with stemming\n",
    "cleaned_corpus[:5]"
   ]
  },
  {
   "cell_type": "code",
   "execution_count": 41,
   "metadata": {
    "colab": {
     "base_uri": "https://localhost:8080/"
    },
    "id": "abXZoCPhRSKy",
    "outputId": "9cf4b849-823e-4703-9bee-6508afd472c4"
   },
   "outputs": [
    {
     "data": {
      "text/plain": [
       "['took loan ruble office immediately began breed additional service insurance etc term lied absolutely everything leave condition softened result year payment schedule owed ruble another year passed boldly assumed balance loan literally put surprised another year owed le main debt ruble le totaling ruble month payment amount least ruble le ruble written main debt seen predatory movement bank case contact',\n",
       " 'little year issued card interest free period month decided fulfill dream bought iron good price paid card everything fine iron pleased point broke manufacturer warranty workshop announced huge price repair sorrow edge came bank branch deposit money card well shared trouble girl employee thanks employee department telling additional guarantee privilege card visa payment system set iron free everything work fine thank much bank staff attentive attitude service',\n",
       " 'would like ask question right bank name third party indicated even applying loan situation delay related absence city manager always called announced payment date everything paid began call husband demanding paying loan even calling direct co bank bank indignant influence called time direct payment loan supposed pay month',\n",
       " 'applying consumer loan cc ul mitinskaya amount ruble employee bank svoy yulia alvna preparing contract way voiced commented fact service credit history worth ruble well fact voluntary insurance signing agreement c va asked dictate access code received mobile supposedly activate account transfer fund credit account card result fraud access code ruble written account printing credit history agreement provide service issuing credit history mobile application also charge amount included amount loan suggests employee fraudulently disposed fund borrowed bank imposed voluntary insurance credit history service fraud situation outrageous forced go court solve problem refuse refund service imposed ask post post bank provide assistance returning fund illegally debited fund also ask consider claim pre trial procedure resolving dispute',\n",
       " 'husband received sm approved proposal ruble needed money decided apply went nearest office ul vvedensky submitted application within half hour approved loan began apply suddenly bank employee reported error occurred issued loan ruble supposedly money already transferred husband account fact amount ruble card case contract payment considered based amount ruble employee able cope situation ran aid husband began receive sm code code phone girl asked give code explaining fact trying correct situation need enter kind security code sent code given later found thus written three time ruble ruble husband card bank employee asked question matter rest money claimed error occurred went insurance clear could explain result sent u client center went another office vavilova explained life insurance duration loan tree allegedly planted box product including credit request story department least printed product shocked turn brazenly deceived voiced information pure fraud long trial several day told write waiver insurance supposedly within day money come account ruble returned tree clear planted wanted urgently refuse loan employee said impossible sitting waiting outcome day think natural fraud intentional misrepresentation never contact bank advise anyone lost lot nerve time arm baby understand whole situation hope favorable outcome otherwise go court central bank careful']"
      ]
     },
     "execution_count": 41,
     "metadata": {},
     "output_type": "execute_result"
    }
   ],
   "source": [
    "cleaned_corpus[:5]"
   ]
  },
  {
   "cell_type": "code",
   "execution_count": 42,
   "metadata": {
    "colab": {
     "base_uri": "https://localhost:8080/"
    },
    "execution": {
     "iopub.execute_input": "2023-12-30T14:31:33.898139Z",
     "iopub.status.busy": "2023-12-30T14:31:33.897242Z",
     "iopub.status.idle": "2023-12-30T14:31:33.903877Z",
     "shell.execute_reply": "2023-12-30T14:31:33.902877Z",
     "shell.execute_reply.started": "2023-12-30T14:31:33.898106Z"
    },
    "id": "PlGBUUJ6NoE-",
    "outputId": "de822b60-4a85-4bdd-e14c-7aea771603a8"
   },
   "outputs": [
    {
     "data": {
      "text/plain": [
       "16651"
      ]
     },
     "execution_count": 42,
     "metadata": {},
     "output_type": "execute_result"
    }
   ],
   "source": [
    "len(cleaned_corpus)"
   ]
  },
  {
   "cell_type": "code",
   "execution_count": 43,
   "metadata": {
    "execution": {
     "iopub.execute_input": "2023-12-30T14:31:35.446376Z",
     "iopub.status.busy": "2023-12-30T14:31:35.445483Z",
     "iopub.status.idle": "2023-12-30T14:31:35.450857Z",
     "shell.execute_reply": "2023-12-30T14:31:35.449793Z",
     "shell.execute_reply.started": "2023-12-30T14:31:35.446345Z"
    },
    "id": "-UKS1kh_NoE_"
   },
   "outputs": [],
   "source": [
    "from sklearn.feature_extraction.text import CountVectorizer\n",
    "from sklearn.model_selection import train_test_split\n",
    "from sklearn.metrics import accuracy_score,classification_report,confusion_matrix\n"
   ]
  },
  {
   "cell_type": "code",
   "execution_count": 44,
   "metadata": {
    "execution": {
     "iopub.execute_input": "2023-12-30T14:31:40.750919Z",
     "iopub.status.busy": "2023-12-30T14:31:40.750113Z",
     "iopub.status.idle": "2023-12-30T14:31:40.755474Z",
     "shell.execute_reply": "2023-12-30T14:31:40.754460Z",
     "shell.execute_reply.started": "2023-12-30T14:31:40.750881Z"
    },
    "id": "4Qqkb9igNoFA"
   },
   "outputs": [],
   "source": [
    "cv=CountVectorizer(min_df=10)"
   ]
  },
  {
   "cell_type": "code",
   "execution_count": 45,
   "metadata": {
    "execution": {
     "iopub.execute_input": "2023-12-30T14:31:43.129745Z",
     "iopub.status.busy": "2023-12-30T14:31:43.128781Z",
     "iopub.status.idle": "2023-12-30T14:31:43.345032Z",
     "shell.execute_reply": "2023-12-30T14:31:43.344218Z",
     "shell.execute_reply.started": "2023-12-30T14:31:43.129706Z"
    },
    "id": "KjFo2XNHNoFB"
   },
   "outputs": [],
   "source": [
    "# check for common words in corpus by collecting all words in a single list\n",
    "all_words=[]\n",
    "for sent in cleaned_corpus:\n",
    "    w=sent.split()\n",
    "    all_words.extend(w)"
   ]
  },
  {
   "cell_type": "code",
   "execution_count": 46,
   "metadata": {
    "colab": {
     "base_uri": "https://localhost:8080/"
    },
    "execution": {
     "iopub.execute_input": "2023-12-30T14:31:44.170810Z",
     "iopub.status.busy": "2023-12-30T14:31:44.170041Z",
     "iopub.status.idle": "2023-12-30T14:31:44.176776Z",
     "shell.execute_reply": "2023-12-30T14:31:44.175756Z",
     "shell.execute_reply.started": "2023-12-30T14:31:44.170776Z"
    },
    "id": "SDZgc60xNoFB",
    "outputId": "6ae39591-4a55-4f93-e065-6191bfd2cb71"
   },
   "outputs": [
    {
     "data": {
      "text/plain": [
       "1868340"
      ]
     },
     "execution_count": 46,
     "metadata": {},
     "output_type": "execute_result"
    }
   ],
   "source": [
    "len(all_words)"
   ]
  },
  {
   "cell_type": "code",
   "execution_count": 47,
   "metadata": {
    "colab": {
     "base_uri": "https://localhost:8080/"
    },
    "execution": {
     "iopub.execute_input": "2023-12-30T14:31:45.421345Z",
     "iopub.status.busy": "2023-12-30T14:31:45.420945Z",
     "iopub.status.idle": "2023-12-30T14:31:45.534795Z",
     "shell.execute_reply": "2023-12-30T14:31:45.533814Z",
     "shell.execute_reply.started": "2023-12-30T14:31:45.421313Z"
    },
    "id": "sMOd2p0kNoFB",
    "outputId": "54913a87-8580-46fd-915d-79b96997fb76"
   },
   "outputs": [
    {
     "data": {
      "text/plain": [
       "19010"
      ]
     },
     "execution_count": 47,
     "metadata": {},
     "output_type": "execute_result"
    }
   ],
   "source": [
    "len(set(all_words))"
   ]
  },
  {
   "cell_type": "code",
   "execution_count": 48,
   "metadata": {
    "colab": {
     "base_uri": "https://localhost:8080/"
    },
    "execution": {
     "iopub.execute_input": "2023-12-30T14:31:48.277063Z",
     "iopub.status.busy": "2023-12-30T14:31:48.276729Z",
     "iopub.status.idle": "2023-12-30T14:31:48.283476Z",
     "shell.execute_reply": "2023-12-30T14:31:48.282463Z",
     "shell.execute_reply.started": "2023-12-30T14:31:48.277039Z"
    },
    "id": "Kj5KuY5DNoFC",
    "outputId": "34422f19-7cac-4acc-87c2-8b0df0886888"
   },
   "outputs": [
    {
     "data": {
      "text/plain": [
       "['took',\n",
       " 'loan',\n",
       " 'ruble',\n",
       " 'office',\n",
       " 'immediately',\n",
       " 'began',\n",
       " 'breed',\n",
       " 'additional',\n",
       " 'service',\n",
       " 'insurance']"
      ]
     },
     "execution_count": 48,
     "metadata": {},
     "output_type": "execute_result"
    }
   ],
   "source": [
    "all_words[:10]"
   ]
  },
  {
   "cell_type": "code",
   "execution_count": 49,
   "metadata": {
    "colab": {
     "base_uri": "https://localhost:8080/",
     "height": 563
    },
    "execution": {
     "iopub.execute_input": "2023-12-30T14:31:49.672008Z",
     "iopub.status.busy": "2023-12-30T14:31:49.671669Z",
     "iopub.status.idle": "2023-12-30T14:31:51.506806Z",
     "shell.execute_reply": "2023-12-30T14:31:51.505834Z",
     "shell.execute_reply.started": "2023-12-30T14:31:49.671981Z"
    },
    "id": "rW49GMKqNoFC",
    "outputId": "db16d18b-2984-4d41-e8a8-8648ea625e1c"
   },
   "outputs": [
    {
     "data": {
      "image/png": "[encoded data removed]",
      "text/plain": [
       "<Figure size 1500x700 with 1 Axes>"
      ]
     },
     "metadata": {},
     "output_type": "display_data"
    }
   ],
   "source": [
    "## creating a plot for most frequent words\n",
    "freq_d=nltk.FreqDist(all_words)\n",
    "plt.figure(figsize=(15,7))\n",
    "plt.title(\"Top 25 most frequent words\")\n",
    "plt.xticks(fontsize=15)\n",
    "plt.ylim(5000,80000)\n",
    "freq_d.plot(25,cumulative=False)\n",
    "plt.show()"
   ]
  },
  {
   "cell_type": "code",
   "execution_count": 50,
   "metadata": {
    "colab": {
     "base_uri": "https://localhost:8080/",
     "height": 75
    },
    "execution": {
     "iopub.execute_input": "2023-12-30T14:32:19.734408Z",
     "iopub.status.busy": "2023-12-30T14:32:19.733642Z",
     "iopub.status.idle": "2023-12-30T14:32:19.754032Z",
     "shell.execute_reply": "2023-12-30T14:32:19.753134Z",
     "shell.execute_reply.started": "2023-12-30T14:32:19.734379Z"
    },
    "id": "NQBUDtDzNoFD",
    "outputId": "2edc06c3-fd4d-4f4b-a7fa-f52d6ae7c891"
   },
   "outputs": [
    {
     "data": {
      "text/html": [
       "<style>#sk-container-id-1 {color: black;background-color: white;}#sk-container-id-1 pre{padding: 0;}#sk-container-id-1 div.sk-toggleable {background-color: white;}#sk-container-id-1 label.sk-toggleable__label {cursor: pointer;display: block;width: 100%;margin-bottom: 0;padding: 0.3em;box-sizing: border-box;text-align: center;}#sk-container-id-1 label.sk-toggleable__label-arrow:before {content: \"▸\";float: left;margin-right: 0.25em;color: #696969;}#sk-container-id-1 label.sk-toggleable__label-arrow:hover:before {color: black;}#sk-container-id-1 div.sk-estimator:hover label.sk-toggleable__label-arrow:before {color: black;}#sk-container-id-1 div.sk-toggleable__content {max-height: 0;max-width: 0;overflow: hidden;text-align: left;background-color: #f0f8ff;}#sk-container-id-1 div.sk-toggleable__content pre {margin: 0.2em;color: black;border-radius: 0.25em;background-color: #f0f8ff;}#sk-container-id-1 input.sk-toggleable__control:checked~div.sk-toggleable__content {max-height: 200px;max-width: 100%;overflow: auto;}#sk-container-id-1 input.sk-toggleable__control:checked~label.sk-toggleable__label-arrow:before {content: \"▾\";}#sk-container-id-1 div.sk-estimator input.sk-toggleable__control:checked~label.sk-toggleable__label {background-color: #d4ebff;}#sk-container-id-1 div.sk-label input.sk-toggleable__control:checked~label.sk-toggleable__label {background-color: #d4ebff;}#sk-container-id-1 input.sk-hidden--visually {border: 0;clip: rect(1px 1px 1px 1px);clip: rect(1px, 1px, 1px, 1px);height: 1px;margin: -1px;overflow: hidden;padding: 0;position: absolute;width: 1px;}#sk-container-id-1 div.sk-estimator {font-family: monospace;background-color: #f0f8ff;border: 1px dotted black;border-radius: 0.25em;box-sizing: border-box;margin-bottom: 0.5em;}#sk-container-id-1 div.sk-estimator:hover {background-color: #d4ebff;}#sk-container-id-1 div.sk-parallel-item::after {content: \"\";width: 100%;border-bottom: 1px solid gray;flex-grow: 1;}#sk-container-id-1 div.sk-label:hover label.sk-toggleable__label {background-color: #d4ebff;}#sk-container-id-1 div.sk-serial::before {content: \"\";position: absolute;border-left: 1px solid gray;box-sizing: border-box;top: 0;bottom: 0;left: 50%;z-index: 0;}#sk-container-id-1 div.sk-serial {display: flex;flex-direction: column;align-items: center;background-color: white;padding-right: 0.2em;padding-left: 0.2em;position: relative;}#sk-container-id-1 div.sk-item {position: relative;z-index: 1;}#sk-container-id-1 div.sk-parallel {display: flex;align-items: stretch;justify-content: center;background-color: white;position: relative;}#sk-container-id-1 div.sk-item::before, #sk-container-id-1 div.sk-parallel-item::before {content: \"\";position: absolute;border-left: 1px solid gray;box-sizing: border-box;top: 0;bottom: 0;left: 50%;z-index: -1;}#sk-container-id-1 div.sk-parallel-item {display: flex;flex-direction: column;z-index: 1;position: relative;background-color: white;}#sk-container-id-1 div.sk-parallel-item:first-child::after {align-self: flex-end;width: 50%;}#sk-container-id-1 div.sk-parallel-item:last-child::after {align-self: flex-start;width: 50%;}#sk-container-id-1 div.sk-parallel-item:only-child::after {width: 0;}#sk-container-id-1 div.sk-dashed-wrapped {border: 1px dashed gray;margin: 0 0.4em 0.5em 0.4em;box-sizing: border-box;padding-bottom: 0.4em;background-color: white;}#sk-container-id-1 div.sk-label label {font-family: monospace;font-weight: bold;display: inline-block;line-height: 1.2em;}#sk-container-id-1 div.sk-label-container {text-align: center;}#sk-container-id-1 div.sk-container {/* jupyter's `normalize.less` sets `[hidden] { display: none; }` but bootstrap.min.css set `[hidden] { display: none !important; }` so we also need the `!important` here to be able to override the default hidden behavior on the sphinx rendered scikit-learn.org. See: https://github.com/scikit-learn/scikit-learn/issues/21755 */display: inline-block !important;position: relative;}#sk-container-id-1 div.sk-text-repr-fallback {display: none;}</style><div id=\"sk-container-id-1\" class=\"sk-top-container\"><div class=\"sk-text-repr-fallback\"><pre>CountVectorizer(min_df=10)</pre><b>In a Jupyter environment, please rerun this cell to show the HTML representation or trust the notebook. <br />On GitHub, the HTML representation is unable to render, please try loading this page with nbviewer.org.</b></div><div class=\"sk-container\" hidden><div class=\"sk-item\"><div class=\"sk-estimator sk-toggleable\"><input class=\"sk-toggleable__control sk-hidden--visually\" id=\"sk-estimator-id-1\" type=\"checkbox\" checked><label for=\"sk-estimator-id-1\" class=\"sk-toggleable__label sk-toggleable__label-arrow\">CountVectorizer</label><div class=\"sk-toggleable__content\"><pre>CountVectorizer(min_df=10)</pre></div></div></div></div></div>"
      ],
      "text/plain": [
       "CountVectorizer(min_df=10)"
      ]
     },
     "execution_count": 50,
     "metadata": {},
     "output_type": "execute_result"
    }
   ],
   "source": [
    "cv"
   ]
  },
  {
   "cell_type": "code",
   "execution_count": 51,
   "metadata": {
    "execution": {
     "iopub.execute_input": "2023-12-30T14:32:21.083358Z",
     "iopub.status.busy": "2023-12-30T14:32:21.082622Z",
     "iopub.status.idle": "2023-12-30T14:32:23.272071Z",
     "shell.execute_reply": "2023-12-30T14:32:23.270986Z",
     "shell.execute_reply.started": "2023-12-30T14:32:21.083324Z"
    },
    "id": "3NbxtnAyNoFD"
   },
   "outputs": [],
   "source": [
    "cv_features=cv.fit_transform(cleaned_corpus).toarray()"
   ]
  },
  {
   "cell_type": "code",
   "execution_count": 52,
   "metadata": {
    "colab": {
     "base_uri": "https://localhost:8080/"
    },
    "execution": {
     "iopub.execute_input": "2023-12-30T14:32:25.338443Z",
     "iopub.status.busy": "2023-12-30T14:32:25.337454Z",
     "iopub.status.idle": "2023-12-30T14:32:25.344852Z",
     "shell.execute_reply": "2023-12-30T14:32:25.343878Z",
     "shell.execute_reply.started": "2023-12-30T14:32:25.338410Z"
    },
    "id": "XKruyXBuNoFE",
    "outputId": "54ae1f4e-887e-4b6d-8b60-35c74c0da034"
   },
   "outputs": [
    {
     "data": {
      "text/plain": [
       "(16651, 5459)"
      ]
     },
     "execution_count": 52,
     "metadata": {},
     "output_type": "execute_result"
    }
   ],
   "source": [
    "cv_features.shape"
   ]
  },
  {
   "cell_type": "code",
   "execution_count": 53,
   "metadata": {
    "execution": {
     "iopub.execute_input": "2023-12-30T14:32:43.763326Z",
     "iopub.status.busy": "2023-12-30T14:32:43.762394Z",
     "iopub.status.idle": "2023-12-30T14:32:43.767312Z",
     "shell.execute_reply": "2023-12-30T14:32:43.766381Z",
     "shell.execute_reply.started": "2023-12-30T14:32:43.763292Z"
    },
    "id": "advZpOA9NoFE"
   },
   "outputs": [],
   "source": [
    "cv_zero=CountVectorizer()"
   ]
  },
  {
   "cell_type": "code",
   "execution_count": 54,
   "metadata": {
    "execution": {
     "iopub.execute_input": "2023-12-30T14:32:45.055050Z",
     "iopub.status.busy": "2023-12-30T14:32:45.054734Z",
     "iopub.status.idle": "2023-12-30T14:32:47.877905Z",
     "shell.execute_reply": "2023-12-30T14:32:47.877075Z",
     "shell.execute_reply.started": "2023-12-30T14:32:45.055026Z"
    },
    "id": "spuCWfv6NoFF"
   },
   "outputs": [],
   "source": [
    "cv_zero_features=cv_zero.fit_transform(cleaned_corpus).toarray()"
   ]
  },
  {
   "cell_type": "code",
   "execution_count": 55,
   "metadata": {
    "colab": {
     "base_uri": "https://localhost:8080/"
    },
    "execution": {
     "iopub.execute_input": "2023-12-30T14:32:50.448171Z",
     "iopub.status.busy": "2023-12-30T14:32:50.447347Z",
     "iopub.status.idle": "2023-12-30T14:32:50.453895Z",
     "shell.execute_reply": "2023-12-30T14:32:50.452927Z",
     "shell.execute_reply.started": "2023-12-30T14:32:50.448141Z"
    },
    "id": "UT0_pW9NNoFF",
    "outputId": "7af80c98-913b-4439-bed9-e86ff2960998"
   },
   "outputs": [
    {
     "data": {
      "text/plain": [
       "(16651, 18987)"
      ]
     },
     "execution_count": 55,
     "metadata": {},
     "output_type": "execute_result"
    }
   ],
   "source": [
    "cv_zero_features.shape"
   ]
  },
  {
   "cell_type": "code",
   "execution_count": 56,
   "metadata": {
    "execution": {
     "iopub.execute_input": "2023-12-30T14:32:51.661738Z",
     "iopub.status.busy": "2023-12-30T14:32:51.661366Z",
     "iopub.status.idle": "2023-12-30T14:32:51.666381Z",
     "shell.execute_reply": "2023-12-30T14:32:51.665361Z",
     "shell.execute_reply.started": "2023-12-30T14:32:51.661711Z"
    },
    "id": "laJCu9bvNoFG"
   },
   "outputs": [],
   "source": [
    "## converting text into vectors\n",
    "cv_df=pd.DataFrame(cv_features)"
   ]
  },
  {
   "cell_type": "code",
   "execution_count": 57,
   "metadata": {
    "colab": {
     "base_uri": "https://localhost:8080/",
     "height": 424
    },
    "execution": {
     "iopub.execute_input": "2023-12-30T14:32:52.859142Z",
     "iopub.status.busy": "2023-12-30T14:32:52.858810Z",
     "iopub.status.idle": "2023-12-30T14:32:52.893022Z",
     "shell.execute_reply": "2023-12-30T14:32:52.892116Z",
     "shell.execute_reply.started": "2023-12-30T14:32:52.859115Z"
    },
    "id": "13XU_EcgNoFG",
    "outputId": "595345f4-7096-41dc-ea2a-48b0b61e45dd"
   },
   "outputs": [
    {
     "data": {
      "text/html": [
       "\n",
       "  <div id=\"df-354b0f1e-da93-4bab-a1b5-7157572936b7\" class=\"colab-df-container\">\n",
       "    <div>\n",
       "<style scoped>\n",
       "    .dataframe tbody tr th:only-of-type {\n",
       "        vertical-align: middle;\n",
       "    }\n",
       "\n",
       "    .dataframe tbody tr th {\n",
       "        vertical-align: top;\n",
       "    }\n",
       "\n",
       "    .dataframe thead th {\n",
       "        text-align: right;\n",
       "    }\n",
       "</style>\n",
       "<table border=\"1\" class=\"dataframe\">\n",
       "  <thead>\n",
       "    <tr style=\"text-align: right;\">\n",
       "      <th></th>\n",
       "      <th>0</th>\n",
       "      <th>1</th>\n",
       "      <th>2</th>\n",
       "      <th>3</th>\n",
       "      <th>4</th>\n",
       "      <th>5</th>\n",
       "      <th>6</th>\n",
       "      <th>7</th>\n",
       "      <th>8</th>\n",
       "      <th>9</th>\n",
       "      <th>...</th>\n",
       "      <th>5449</th>\n",
       "      <th>5450</th>\n",
       "      <th>5451</th>\n",
       "      <th>5452</th>\n",
       "      <th>5453</th>\n",
       "      <th>5454</th>\n",
       "      <th>5455</th>\n",
       "      <th>5456</th>\n",
       "      <th>5457</th>\n",
       "      <th>5458</th>\n",
       "    </tr>\n",
       "  </thead>\n",
       "  <tbody>\n",
       "    <tr>\n",
       "      <th>0</th>\n",
       "      <td>0</td>\n",
       "      <td>0</td>\n",
       "      <td>0</td>\n",
       "      <td>0</td>\n",
       "      <td>0</td>\n",
       "      <td>0</td>\n",
       "      <td>0</td>\n",
       "      <td>0</td>\n",
       "      <td>0</td>\n",
       "      <td>0</td>\n",
       "      <td>...</td>\n",
       "      <td>0</td>\n",
       "      <td>0</td>\n",
       "      <td>0</td>\n",
       "      <td>0</td>\n",
       "      <td>0</td>\n",
       "      <td>0</td>\n",
       "      <td>0</td>\n",
       "      <td>0</td>\n",
       "      <td>0</td>\n",
       "      <td>0</td>\n",
       "    </tr>\n",
       "    <tr>\n",
       "      <th>1</th>\n",
       "      <td>0</td>\n",
       "      <td>0</td>\n",
       "      <td>0</td>\n",
       "      <td>0</td>\n",
       "      <td>0</td>\n",
       "      <td>0</td>\n",
       "      <td>0</td>\n",
       "      <td>0</td>\n",
       "      <td>0</td>\n",
       "      <td>0</td>\n",
       "      <td>...</td>\n",
       "      <td>0</td>\n",
       "      <td>0</td>\n",
       "      <td>0</td>\n",
       "      <td>0</td>\n",
       "      <td>0</td>\n",
       "      <td>0</td>\n",
       "      <td>0</td>\n",
       "      <td>0</td>\n",
       "      <td>0</td>\n",
       "      <td>0</td>\n",
       "    </tr>\n",
       "    <tr>\n",
       "      <th>2</th>\n",
       "      <td>0</td>\n",
       "      <td>0</td>\n",
       "      <td>0</td>\n",
       "      <td>0</td>\n",
       "      <td>0</td>\n",
       "      <td>0</td>\n",
       "      <td>0</td>\n",
       "      <td>1</td>\n",
       "      <td>0</td>\n",
       "      <td>0</td>\n",
       "      <td>...</td>\n",
       "      <td>0</td>\n",
       "      <td>0</td>\n",
       "      <td>0</td>\n",
       "      <td>0</td>\n",
       "      <td>0</td>\n",
       "      <td>0</td>\n",
       "      <td>0</td>\n",
       "      <td>0</td>\n",
       "      <td>0</td>\n",
       "      <td>0</td>\n",
       "    </tr>\n",
       "    <tr>\n",
       "      <th>3</th>\n",
       "      <td>0</td>\n",
       "      <td>0</td>\n",
       "      <td>0</td>\n",
       "      <td>0</td>\n",
       "      <td>0</td>\n",
       "      <td>0</td>\n",
       "      <td>0</td>\n",
       "      <td>0</td>\n",
       "      <td>0</td>\n",
       "      <td>0</td>\n",
       "      <td>...</td>\n",
       "      <td>0</td>\n",
       "      <td>0</td>\n",
       "      <td>0</td>\n",
       "      <td>0</td>\n",
       "      <td>0</td>\n",
       "      <td>0</td>\n",
       "      <td>0</td>\n",
       "      <td>0</td>\n",
       "      <td>0</td>\n",
       "      <td>0</td>\n",
       "    </tr>\n",
       "    <tr>\n",
       "      <th>4</th>\n",
       "      <td>0</td>\n",
       "      <td>0</td>\n",
       "      <td>0</td>\n",
       "      <td>0</td>\n",
       "      <td>0</td>\n",
       "      <td>1</td>\n",
       "      <td>0</td>\n",
       "      <td>0</td>\n",
       "      <td>0</td>\n",
       "      <td>0</td>\n",
       "      <td>...</td>\n",
       "      <td>0</td>\n",
       "      <td>0</td>\n",
       "      <td>0</td>\n",
       "      <td>0</td>\n",
       "      <td>0</td>\n",
       "      <td>0</td>\n",
       "      <td>0</td>\n",
       "      <td>0</td>\n",
       "      <td>0</td>\n",
       "      <td>0</td>\n",
       "    </tr>\n",
       "    <tr>\n",
       "      <th>...</th>\n",
       "      <td>...</td>\n",
       "      <td>...</td>\n",
       "      <td>...</td>\n",
       "      <td>...</td>\n",
       "      <td>...</td>\n",
       "      <td>...</td>\n",
       "      <td>...</td>\n",
       "      <td>...</td>\n",
       "      <td>...</td>\n",
       "      <td>...</td>\n",
       "      <td>...</td>\n",
       "      <td>...</td>\n",
       "      <td>...</td>\n",
       "      <td>...</td>\n",
       "      <td>...</td>\n",
       "      <td>...</td>\n",
       "      <td>...</td>\n",
       "      <td>...</td>\n",
       "      <td>...</td>\n",
       "      <td>...</td>\n",
       "      <td>...</td>\n",
       "    </tr>\n",
       "    <tr>\n",
       "      <th>16646</th>\n",
       "      <td>0</td>\n",
       "      <td>0</td>\n",
       "      <td>0</td>\n",
       "      <td>0</td>\n",
       "      <td>0</td>\n",
       "      <td>0</td>\n",
       "      <td>0</td>\n",
       "      <td>0</td>\n",
       "      <td>0</td>\n",
       "      <td>0</td>\n",
       "      <td>...</td>\n",
       "      <td>0</td>\n",
       "      <td>0</td>\n",
       "      <td>0</td>\n",
       "      <td>0</td>\n",
       "      <td>0</td>\n",
       "      <td>0</td>\n",
       "      <td>0</td>\n",
       "      <td>0</td>\n",
       "      <td>0</td>\n",
       "      <td>0</td>\n",
       "    </tr>\n",
       "    <tr>\n",
       "      <th>16647</th>\n",
       "      <td>0</td>\n",
       "      <td>0</td>\n",
       "      <td>0</td>\n",
       "      <td>0</td>\n",
       "      <td>0</td>\n",
       "      <td>0</td>\n",
       "      <td>0</td>\n",
       "      <td>0</td>\n",
       "      <td>0</td>\n",
       "      <td>0</td>\n",
       "      <td>...</td>\n",
       "      <td>0</td>\n",
       "      <td>0</td>\n",
       "      <td>0</td>\n",
       "      <td>0</td>\n",
       "      <td>0</td>\n",
       "      <td>0</td>\n",
       "      <td>0</td>\n",
       "      <td>0</td>\n",
       "      <td>0</td>\n",
       "      <td>0</td>\n",
       "    </tr>\n",
       "    <tr>\n",
       "      <th>16648</th>\n",
       "      <td>0</td>\n",
       "      <td>0</td>\n",
       "      <td>0</td>\n",
       "      <td>0</td>\n",
       "      <td>0</td>\n",
       "      <td>0</td>\n",
       "      <td>0</td>\n",
       "      <td>0</td>\n",
       "      <td>0</td>\n",
       "      <td>0</td>\n",
       "      <td>...</td>\n",
       "      <td>0</td>\n",
       "      <td>0</td>\n",
       "      <td>0</td>\n",
       "      <td>0</td>\n",
       "      <td>0</td>\n",
       "      <td>0</td>\n",
       "      <td>0</td>\n",
       "      <td>0</td>\n",
       "      <td>0</td>\n",
       "      <td>0</td>\n",
       "    </tr>\n",
       "    <tr>\n",
       "      <th>16649</th>\n",
       "      <td>0</td>\n",
       "      <td>0</td>\n",
       "      <td>0</td>\n",
       "      <td>0</td>\n",
       "      <td>0</td>\n",
       "      <td>0</td>\n",
       "      <td>0</td>\n",
       "      <td>0</td>\n",
       "      <td>0</td>\n",
       "      <td>0</td>\n",
       "      <td>...</td>\n",
       "      <td>0</td>\n",
       "      <td>0</td>\n",
       "      <td>0</td>\n",
       "      <td>0</td>\n",
       "      <td>0</td>\n",
       "      <td>0</td>\n",
       "      <td>0</td>\n",
       "      <td>0</td>\n",
       "      <td>0</td>\n",
       "      <td>0</td>\n",
       "    </tr>\n",
       "    <tr>\n",
       "      <th>16650</th>\n",
       "      <td>0</td>\n",
       "      <td>0</td>\n",
       "      <td>0</td>\n",
       "      <td>0</td>\n",
       "      <td>0</td>\n",
       "      <td>0</td>\n",
       "      <td>0</td>\n",
       "      <td>0</td>\n",
       "      <td>0</td>\n",
       "      <td>0</td>\n",
       "      <td>...</td>\n",
       "      <td>0</td>\n",
       "      <td>0</td>\n",
       "      <td>0</td>\n",
       "      <td>0</td>\n",
       "      <td>0</td>\n",
       "      <td>0</td>\n",
       "      <td>0</td>\n",
       "      <td>0</td>\n",
       "      <td>0</td>\n",
       "      <td>0</td>\n",
       "    </tr>\n",
       "  </tbody>\n",
       "</table>\n",
       "<p>16651 rows × 5459 columns</p>\n",
       "</div>\n",
       "    <div class=\"colab-df-buttons\">\n",
       "\n",
       "  <div class=\"colab-df-container\">\n",
       "    <button class=\"colab-df-convert\" onclick=\"convertToInteractive('df-354b0f1e-da93-4bab-a1b5-7157572936b7')\"\n",
       "            title=\"Convert this dataframe to an interactive table.\"\n",
       "            style=\"display:none;\">\n",
       "\n",
       "  <svg xmlns=\"http://www.w3.org/2000/svg\" height=\"24px\" viewBox=\"0 -960 960 960\">\n",
       "    <path d=\"M120-120v-720h720v720H120Zm60-500h600v-160H180v160Zm220 220h160v-160H400v160Zm0 220h160v-160H400v160ZM180-400h160v-160H180v160Zm440 0h160v-160H620v160ZM180-180h160v-160H180v160Zm440 0h160v-160H620v160Z\"/>\n",
       "  </svg>\n",
       "    </button>\n",
       "\n",
       "  <style>\n",
       "    .colab-df-container {\n",
       "      display:flex;\n",
       "      gap: 12px;\n",
       "    }\n",
       "\n",
       "    .colab-df-convert {\n",
       "      background-color: #E8F0FE;\n",
       "      border: none;\n",
       "      border-radius: 50%;\n",
       "      cursor: pointer;\n",
       "      display: none;\n",
       "      fill: #1967D2;\n",
       "      height: 32px;\n",
       "      padding: 0 0 0 0;\n",
       "      width: 32px;\n",
       "    }\n",
       "\n",
       "    .colab-df-convert:hover {\n",
       "      background-color: #E2EBFA;\n",
       "      box-shadow: 0px 1px 2px rgba(60, 64, 67, 0.3), 0px 1px 3px 1px rgba(60, 64, 67, 0.15);\n",
       "      fill: #174EA6;\n",
       "    }\n",
       "\n",
       "    .colab-df-buttons div {\n",
       "      margin-bottom: 4px;\n",
       "    }\n",
       "\n",
       "    [theme=dark] .colab-df-convert {\n",
       "      background-color: #3B4455;\n",
       "      fill: #D2E3FC;\n",
       "    }\n",
       "\n",
       "    [theme=dark] .colab-df-convert:hover {\n",
       "      background-color: #434B5C;\n",
       "      box-shadow: 0px 1px 3px 1px rgba(0, 0, 0, 0.15);\n",
       "      filter: drop-shadow(0px 1px 2px rgba(0, 0, 0, 0.3));\n",
       "      fill: #FFFFFF;\n",
       "    }\n",
       "  </style>\n",
       "\n",
       "    <script>\n",
       "      const buttonEl =\n",
       "        document.querySelector('#df-354b0f1e-da93-4bab-a1b5-7157572936b7 button.colab-df-convert');\n",
       "      buttonEl.style.display =\n",
       "        google.colab.kernel.accessAllowed ? 'block' : 'none';\n",
       "\n",
       "      async function convertToInteractive(key) {\n",
       "        const element = document.querySelector('#df-354b0f1e-da93-4bab-a1b5-7157572936b7');\n",
       "        const dataTable =\n",
       "          await google.colab.kernel.invokeFunction('convertToInteractive',\n",
       "                                                    [key], {});\n",
       "        if (!dataTable) return;\n",
       "\n",
       "        const docLinkHtml = 'Like what you see? Visit the ' +\n",
       "          '<a target=\"_blank\" href=https://colab.research.google.com/notebooks/data_table.ipynb>data table notebook</a>'\n",
       "          + ' to learn more about interactive tables.';\n",
       "        element.innerHTML = '';\n",
       "        dataTable['output_type'] = 'display_data';\n",
       "        await google.colab.output.renderOutput(dataTable, element);\n",
       "        const docLink = document.createElement('div');\n",
       "        docLink.innerHTML = docLinkHtml;\n",
       "        element.appendChild(docLink);\n",
       "      }\n",
       "    </script>\n",
       "  </div>\n",
       "\n",
       "\n",
       "<div id=\"df-582d26da-0f68-4cd0-8406-5b5c049e5380\">\n",
       "  <button class=\"colab-df-quickchart\" onclick=\"quickchart('df-582d26da-0f68-4cd0-8406-5b5c049e5380')\"\n",
       "            title=\"Suggest charts\"\n",
       "            style=\"display:none;\">\n",
       "\n",
       "<svg xmlns=\"http://www.w3.org/2000/svg\" height=\"24px\"viewBox=\"0 0 24 24\"\n",
       "     width=\"24px\">\n",
       "    <g>\n",
       "        <path d=\"M19 3H5c-1.1 0-2 .9-2 2v14c0 1.1.9 2 2 2h14c1.1 0 2-.9 2-2V5c0-1.1-.9-2-2-2zM9 17H7v-7h2v7zm4 0h-2V7h2v10zm4 0h-2v-4h2v4z\"/>\n",
       "    </g>\n",
       "</svg>\n",
       "  </button>\n",
       "\n",
       "<style>\n",
       "  .colab-df-quickchart {\n",
       "      --bg-color: #E8F0FE;\n",
       "      --fill-color: #1967D2;\n",
       "      --hover-bg-color: #E2EBFA;\n",
       "      --hover-fill-color: #174EA6;\n",
       "      --disabled-fill-color: #AAA;\n",
       "      --disabled-bg-color: #DDD;\n",
       "  }\n",
       "\n",
       "  [theme=dark] .colab-df-quickchart {\n",
       "      --bg-color: #3B4455;\n",
       "      --fill-color: #D2E3FC;\n",
       "      --hover-bg-color: #434B5C;\n",
       "      --hover-fill-color: #FFFFFF;\n",
       "      --disabled-bg-color: #3B4455;\n",
       "      --disabled-fill-color: #666;\n",
       "  }\n",
       "\n",
       "  .colab-df-quickchart {\n",
       "    background-color: var(--bg-color);\n",
       "    border: none;\n",
       "    border-radius: 50%;\n",
       "    cursor: pointer;\n",
       "    display: none;\n",
       "    fill: var(--fill-color);\n",
       "    height: 32px;\n",
       "    padding: 0;\n",
       "    width: 32px;\n",
       "  }\n",
       "\n",
       "  .colab-df-quickchart:hover {\n",
       "    background-color: var(--hover-bg-color);\n",
       "    box-shadow: 0 1px 2px rgba(60, 64, 67, 0.3), 0 1px 3px 1px rgba(60, 64, 67, 0.15);\n",
       "    fill: var(--button-hover-fill-color);\n",
       "  }\n",
       "\n",
       "  .colab-df-quickchart-complete:disabled,\n",
       "  .colab-df-quickchart-complete:disabled:hover {\n",
       "    background-color: var(--disabled-bg-color);\n",
       "    fill: var(--disabled-fill-color);\n",
       "    box-shadow: none;\n",
       "  }\n",
       "\n",
       "  .colab-df-spinner {\n",
       "    border: 2px solid var(--fill-color);\n",
       "    border-color: transparent;\n",
       "    border-bottom-color: var(--fill-color);\n",
       "    animation:\n",
       "      spin 1s steps(1) infinite;\n",
       "  }\n",
       "\n",
       "  @keyframes spin {\n",
       "    0% {\n",
       "      border-color: transparent;\n",
       "      border-bottom-color: var(--fill-color);\n",
       "      border-left-color: var(--fill-color);\n",
       "    }\n",
       "    20% {\n",
       "      border-color: transparent;\n",
       "      border-left-color: var(--fill-color);\n",
       "      border-top-color: var(--fill-color);\n",
       "    }\n",
       "    30% {\n",
       "      border-color: transparent;\n",
       "      border-left-color: var(--fill-color);\n",
       "      border-top-color: var(--fill-color);\n",
       "      border-right-color: var(--fill-color);\n",
       "    }\n",
       "    40% {\n",
       "      border-color: transparent;\n",
       "      border-right-color: var(--fill-color);\n",
       "      border-top-color: var(--fill-color);\n",
       "    }\n",
       "    60% {\n",
       "      border-color: transparent;\n",
       "      border-right-color: var(--fill-color);\n",
       "    }\n",
       "    80% {\n",
       "      border-color: transparent;\n",
       "      border-right-color: var(--fill-color);\n",
       "      border-bottom-color: var(--fill-color);\n",
       "    }\n",
       "    90% {\n",
       "      border-color: transparent;\n",
       "      border-bottom-color: var(--fill-color);\n",
       "    }\n",
       "  }\n",
       "</style>\n",
       "\n",
       "  <script>\n",
       "    async function quickchart(key) {\n",
       "      const quickchartButtonEl =\n",
       "        document.querySelector('#' + key + ' button');\n",
       "      quickchartButtonEl.disabled = true;  // To prevent multiple clicks.\n",
       "      quickchartButtonEl.classList.add('colab-df-spinner');\n",
       "      try {\n",
       "        const charts = await google.colab.kernel.invokeFunction(\n",
       "            'suggestCharts', [key], {});\n",
       "      } catch (error) {\n",
       "        console.error('Error during call to suggestCharts:', error);\n",
       "      }\n",
       "      quickchartButtonEl.classList.remove('colab-df-spinner');\n",
       "      quickchartButtonEl.classList.add('colab-df-quickchart-complete');\n",
       "    }\n",
       "    (() => {\n",
       "      let quickchartButtonEl =\n",
       "        document.querySelector('#df-582d26da-0f68-4cd0-8406-5b5c049e5380 button');\n",
       "      quickchartButtonEl.style.display =\n",
       "        google.colab.kernel.accessAllowed ? 'block' : 'none';\n",
       "    })();\n",
       "  </script>\n",
       "</div>\n",
       "\n",
       "  <div id=\"id_6d7fffaa-c97b-4db5-b5c5-4b87a99f1b9f\">\n",
       "    <style>\n",
       "      .colab-df-generate {\n",
       "        background-color: #E8F0FE;\n",
       "        border: none;\n",
       "        border-radius: 50%;\n",
       "        cursor: pointer;\n",
       "        display: none;\n",
       "        fill: #1967D2;\n",
       "        height: 32px;\n",
       "        padding: 0 0 0 0;\n",
       "        width: 32px;\n",
       "      }\n",
       "\n",
       "      .colab-df-generate:hover {\n",
       "        background-color: #E2EBFA;\n",
       "        box-shadow: 0px 1px 2px rgba(60, 64, 67, 0.3), 0px 1px 3px 1px rgba(60, 64, 67, 0.15);\n",
       "        fill: #174EA6;\n",
       "      }\n",
       "\n",
       "      [theme=dark] .colab-df-generate {\n",
       "        background-color: #3B4455;\n",
       "        fill: #D2E3FC;\n",
       "      }\n",
       "\n",
       "      [theme=dark] .colab-df-generate:hover {\n",
       "        background-color: #434B5C;\n",
       "        box-shadow: 0px 1px 3px 1px rgba(0, 0, 0, 0.15);\n",
       "        filter: drop-shadow(0px 1px 2px rgba(0, 0, 0, 0.3));\n",
       "        fill: #FFFFFF;\n",
       "      }\n",
       "    </style>\n",
       "    <button class=\"colab-df-generate\" onclick=\"generateWithVariable('cv_df')\"\n",
       "            title=\"Generate code using this dataframe.\"\n",
       "            style=\"display:none;\">\n",
       "\n",
       "  <svg xmlns=\"http://www.w3.org/2000/svg\" height=\"24px\"viewBox=\"0 0 24 24\"\n",
       "       width=\"24px\">\n",
       "    <path d=\"M7,19H8.4L18.45,9,17,7.55,7,17.6ZM5,21V16.75L18.45,3.32a2,2,0,0,1,2.83,0l1.4,1.43a1.91,1.91,0,0,1,.58,1.4,1.91,1.91,0,0,1-.58,1.4L9.25,21ZM18.45,9,17,7.55Zm-12,3A5.31,5.31,0,0,0,4.9,8.1,5.31,5.31,0,0,0,1,6.5,5.31,5.31,0,0,0,4.9,4.9,5.31,5.31,0,0,0,6.5,1,5.31,5.31,0,0,0,8.1,4.9,5.31,5.31,0,0,0,12,6.5,5.46,5.46,0,0,0,6.5,12Z\"/>\n",
       "  </svg>\n",
       "    </button>\n",
       "    <script>\n",
       "      (() => {\n",
       "      const buttonEl =\n",
       "        document.querySelector('#id_6d7fffaa-c97b-4db5-b5c5-4b87a99f1b9f button.colab-df-generate');\n",
       "      buttonEl.style.display =\n",
       "        google.colab.kernel.accessAllowed ? 'block' : 'none';\n",
       "\n",
       "      buttonEl.onclick = () => {\n",
       "        google.colab.notebook.generateWithVariable('cv_df');\n",
       "      }\n",
       "      })();\n",
       "    </script>\n",
       "  </div>\n",
       "\n",
       "    </div>\n",
       "  </div>\n"
      ],
      "text/plain": [
       "       0     1     2     3     4     5     6     7     8     9     ...  5449  \\\n",
       "0         0     0     0     0     0     0     0     0     0     0  ...     0   \n",
       "1         0     0     0     0     0     0     0     0     0     0  ...     0   \n",
       "2         0     0     0     0     0     0     0     1     0     0  ...     0   \n",
       "3         0     0     0     0     0     0     0     0     0     0  ...     0   \n",
       "4         0     0     0     0     0     1     0     0     0     0  ...     0   \n",
       "...     ...   ...   ...   ...   ...   ...   ...   ...   ...   ...  ...   ...   \n",
       "16646     0     0     0     0     0     0     0     0     0     0  ...     0   \n",
       "16647     0     0     0     0     0     0     0     0     0     0  ...     0   \n",
       "16648     0     0     0     0     0     0     0     0     0     0  ...     0   \n",
       "16649     0     0     0     0     0     0     0     0     0     0  ...     0   \n",
       "16650     0     0     0     0     0     0     0     0     0     0  ...     0   \n",
       "\n",
       "       5450  5451  5452  5453  5454  5455  5456  5457  5458  \n",
       "0         0     0     0     0     0     0     0     0     0  \n",
       "1         0     0     0     0     0     0     0     0     0  \n",
       "2         0     0     0     0     0     0     0     0     0  \n",
       "3         0     0     0     0     0     0     0     0     0  \n",
       "4         0     0     0     0     0     0     0     0     0  \n",
       "...     ...   ...   ...   ...   ...   ...   ...   ...   ...  \n",
       "16646     0     0     0     0     0     0     0     0     0  \n",
       "16647     0     0     0     0     0     0     0     0     0  \n",
       "16648     0     0     0     0     0     0     0     0     0  \n",
       "16649     0     0     0     0     0     0     0     0     0  \n",
       "16650     0     0     0     0     0     0     0     0     0  \n",
       "\n",
       "[16651 rows x 5459 columns]"
      ]
     },
     "execution_count": 57,
     "metadata": {},
     "output_type": "execute_result"
    }
   ],
   "source": [
    "cv_df"
   ]
  },
  {
   "cell_type": "code",
   "execution_count": 58,
   "metadata": {
    "colab": {
     "base_uri": "https://localhost:8080/"
    },
    "execution": {
     "iopub.execute_input": "2023-12-30T14:32:53.963298Z",
     "iopub.status.busy": "2023-12-30T14:32:53.962307Z",
     "iopub.status.idle": "2023-12-30T14:32:54.031882Z",
     "shell.execute_reply": "2023-12-30T14:32:54.030995Z",
     "shell.execute_reply.started": "2023-12-30T14:32:53.963260Z"
    },
    "id": "okdwlhjBNoFG",
    "outputId": "d9b2938a-ec84-4b13-8bbc-4832579538b7"
   },
   "outputs": [
    {
     "data": {
      "text/plain": [
       "1303573"
      ]
     },
     "execution_count": 58,
     "metadata": {},
     "output_type": "execute_result"
    }
   ],
   "source": [
    "np.count_nonzero(cv_df)"
   ]
  },
  {
   "cell_type": "code",
   "execution_count": 59,
   "metadata": {
    "colab": {
     "base_uri": "https://localhost:8080/"
    },
    "execution": {
     "iopub.execute_input": "2023-12-30T14:32:55.668294Z",
     "iopub.status.busy": "2023-12-30T14:32:55.667929Z",
     "iopub.status.idle": "2023-12-30T14:32:55.732364Z",
     "shell.execute_reply": "2023-12-30T14:32:55.731596Z",
     "shell.execute_reply.started": "2023-12-30T14:32:55.668264Z"
    },
    "id": "FNS00kg-NoFH",
    "outputId": "083ead46-990c-4f26-bc1f-7b35883f8d92"
   },
   "outputs": [
    {
     "data": {
      "text/plain": [
       "1.4341082742709452"
      ]
     },
     "execution_count": 59,
     "metadata": {},
     "output_type": "execute_result"
    }
   ],
   "source": [
    "100*np.count_nonzero(cv_df)/cv_df.size"
   ]
  },
  {
   "cell_type": "code",
   "execution_count": 60,
   "metadata": {
    "colab": {
     "base_uri": "https://localhost:8080/"
    },
    "execution": {
     "iopub.execute_input": "2023-12-30T14:32:56.782986Z",
     "iopub.status.busy": "2023-12-30T14:32:56.782629Z",
     "iopub.status.idle": "2023-12-30T14:32:56.789722Z",
     "shell.execute_reply": "2023-12-30T14:32:56.788649Z",
     "shell.execute_reply.started": "2023-12-30T14:32:56.782960Z"
    },
    "id": "iA72BAuSNoFI",
    "outputId": "d4c331f0-1f40-46a2-db5f-c4b0bf8fc923"
   },
   "outputs": [
    {
     "data": {
      "text/plain": [
       "90897809"
      ]
     },
     "execution_count": 60,
     "metadata": {},
     "output_type": "execute_result"
    }
   ],
   "source": [
    "cv_df.size"
   ]
  },
  {
   "cell_type": "code",
   "execution_count": 61,
   "metadata": {
    "execution": {
     "iopub.execute_input": "2023-12-30T14:32:57.885283Z",
     "iopub.status.busy": "2023-12-30T14:32:57.884968Z",
     "iopub.status.idle": "2023-12-30T14:32:57.889475Z",
     "shell.execute_reply": "2023-12-30T14:32:57.888505Z",
     "shell.execute_reply.started": "2023-12-30T14:32:57.885258Z"
    },
    "id": "JBJqjf_mNoFK"
   },
   "outputs": [],
   "source": [
    "# Model Building"
   ]
  },
  {
   "cell_type": "markdown",
   "metadata": {
    "id": "CbDN95UxNoFK"
   },
   "source": [
    "## Model Building"
   ]
  },
  {
   "cell_type": "markdown",
   "metadata": {
    "id": "MbAuZiKXNoFR"
   },
   "source": []
  },
  {
   "cell_type": "code",
   "execution_count": 62,
   "metadata": {
    "execution": {
     "iopub.execute_input": "2023-12-30T14:33:18.445557Z",
     "iopub.status.busy": "2023-12-30T14:33:18.445161Z",
     "iopub.status.idle": "2023-12-30T14:33:18.450324Z",
     "shell.execute_reply": "2023-12-30T14:33:18.449389Z",
     "shell.execute_reply.started": "2023-12-30T14:33:18.445526Z"
    },
    "id": "O4t61-OBNoFS"
   },
   "outputs": [],
   "source": [
    "from sklearn.naive_bayes import MultinomialNB,GaussianNB\n",
    "from sklearn.ensemble import RandomForestClassifier\n",
    "from sklearn.linear_model import LogisticRegression"
   ]
  },
  {
   "cell_type": "code",
   "execution_count": 63,
   "metadata": {
    "execution": {
     "iopub.execute_input": "2023-12-30T14:33:20.124307Z",
     "iopub.status.busy": "2023-12-30T14:33:20.123981Z",
     "iopub.status.idle": "2023-12-30T14:33:20.128730Z",
     "shell.execute_reply": "2023-12-30T14:33:20.127773Z",
     "shell.execute_reply.started": "2023-12-30T14:33:20.124281Z"
    },
    "id": "mPw-Mx00NoFV"
   },
   "outputs": [],
   "source": [
    "mnb=MultinomialNB()\n",
    "gnb=GaussianNB()\n",
    "rf=RandomForestClassifier()\n",
    "lgc=LogisticRegression()"
   ]
  },
  {
   "cell_type": "code",
   "execution_count": 64,
   "metadata": {
    "execution": {
     "iopub.execute_input": "2023-12-30T14:33:21.318386Z",
     "iopub.status.busy": "2023-12-30T14:33:21.317658Z",
     "iopub.status.idle": "2023-12-30T14:33:21.322879Z",
     "shell.execute_reply": "2023-12-30T14:33:21.321844Z",
     "shell.execute_reply.started": "2023-12-30T14:33:21.318355Z"
    },
    "id": "Q0f_CODKNoFW"
   },
   "outputs": [],
   "source": [
    "X=cv_features\n",
    "y=df_review['binary_score']"
   ]
  },
  {
   "cell_type": "code",
   "execution_count": 65,
   "metadata": {
    "execution": {
     "iopub.execute_input": "2023-12-30T14:33:24.235673Z",
     "iopub.status.busy": "2023-12-30T14:33:24.235265Z",
     "iopub.status.idle": "2023-12-30T14:33:24.419906Z",
     "shell.execute_reply": "2023-12-30T14:33:24.418828Z",
     "shell.execute_reply.started": "2023-12-30T14:33:24.235641Z"
    },
    "id": "jvaSG4WQNoFW"
   },
   "outputs": [],
   "source": [
    "X_train,X_test,y_train,y_test=train_test_split(X,y,random_state=34,stratify=y)"
   ]
  },
  {
   "cell_type": "code",
   "execution_count": 66,
   "metadata": {
    "colab": {
     "base_uri": "https://localhost:8080/"
    },
    "execution": {
     "iopub.execute_input": "2023-12-30T14:33:25.778348Z",
     "iopub.status.busy": "2023-12-30T14:33:25.777984Z",
     "iopub.status.idle": "2023-12-30T14:33:25.784223Z",
     "shell.execute_reply": "2023-12-30T14:33:25.783294Z",
     "shell.execute_reply.started": "2023-12-30T14:33:25.778317Z"
    },
    "id": "9YaMASXMNoFX",
    "outputId": "bb234d5f-5eee-4626-d007-4b49079a004b"
   },
   "outputs": [
    {
     "data": {
      "text/plain": [
       "(12488, 5459)"
      ]
     },
     "execution_count": 66,
     "metadata": {},
     "output_type": "execute_result"
    }
   ],
   "source": [
    "X_train.shape"
   ]
  },
  {
   "cell_type": "code",
   "execution_count": 67,
   "metadata": {
    "colab": {
     "base_uri": "https://localhost:8080/"
    },
    "execution": {
     "iopub.execute_input": "2023-12-30T14:33:27.066332Z",
     "iopub.status.busy": "2023-12-30T14:33:27.065513Z",
     "iopub.status.idle": "2023-12-30T14:33:27.073132Z",
     "shell.execute_reply": "2023-12-30T14:33:27.072264Z",
     "shell.execute_reply.started": "2023-12-30T14:33:27.066293Z"
    },
    "id": "bCnaDgmyNoFX",
    "outputId": "6c196467-ef15-48ba-c155-ddf56a855177"
   },
   "outputs": [
    {
     "data": {
      "text/plain": [
       "(12488,)"
      ]
     },
     "execution_count": 67,
     "metadata": {},
     "output_type": "execute_result"
    }
   ],
   "source": [
    "y_train.shape"
   ]
  },
  {
   "cell_type": "code",
   "execution_count": 68,
   "metadata": {
    "execution": {
     "iopub.execute_input": "2023-12-30T14:33:30.009226Z",
     "iopub.status.busy": "2023-12-30T14:33:30.008334Z",
     "iopub.status.idle": "2023-12-30T14:33:30.014072Z",
     "shell.execute_reply": "2023-12-30T14:33:30.012996Z",
     "shell.execute_reply.started": "2023-12-30T14:33:30.009192Z"
    },
    "id": "hx1FnF87NoFY"
   },
   "outputs": [],
   "source": [
    "def score_func(model,X_train,y_train,X_test,y_test):\n",
    "    model.fit(X_train,y_train)\n",
    "    y_pred=model.predict(X_test)\n",
    "    return accuracy_score(y_test,y_pred)"
   ]
  },
  {
   "cell_type": "code",
   "execution_count": 69,
   "metadata": {
    "colab": {
     "base_uri": "https://localhost:8080/"
    },
    "execution": {
     "iopub.execute_input": "2023-12-30T14:33:32.536645Z",
     "iopub.status.busy": "2023-12-30T14:33:32.535734Z",
     "iopub.status.idle": "2023-12-30T14:33:33.240985Z",
     "shell.execute_reply": "2023-12-30T14:33:33.239771Z",
     "shell.execute_reply.started": "2023-12-30T14:33:32.536612Z"
    },
    "id": "8wFDMr62NoFa",
    "outputId": "069c1c2f-58cf-47fb-855b-8055ae39d20d"
   },
   "outputs": [
    {
     "name": "stdout",
     "output_type": "stream",
     "text": [
      "CPU times: user 901 ms, sys: 49.8 ms, total: 951 ms\n",
      "Wall time: 924 ms\n"
     ]
    },
    {
     "data": {
      "text/plain": [
       "0.629353831371607"
      ]
     },
     "execution_count": 69,
     "metadata": {},
     "output_type": "execute_result"
    }
   ],
   "source": [
    "%%time\n",
    "score_mnb=score_func(mnb,X_train,y_train,X_test,y_test)\n",
    "score_mnb"
   ]
  },
  {
   "cell_type": "code",
   "execution_count": 70,
   "metadata": {
    "colab": {
     "base_uri": "https://localhost:8080/"
    },
    "execution": {
     "iopub.execute_input": "2023-12-30T14:33:52.697240Z",
     "iopub.status.busy": "2023-12-30T14:33:52.696886Z",
     "iopub.status.idle": "2023-12-30T14:33:53.724480Z",
     "shell.execute_reply": "2023-12-30T14:33:53.723570Z",
     "shell.execute_reply.started": "2023-12-30T14:33:52.697215Z"
    },
    "id": "e1mAh6VhNoFa",
    "outputId": "9088a457-c4f7-4dda-b13f-cf9140edd9a3"
   },
   "outputs": [
    {
     "name": "stdout",
     "output_type": "stream",
     "text": [
      "CPU times: user 1.04 s, sys: 439 ms, total: 1.48 s\n",
      "Wall time: 1.48 s\n"
     ]
    },
    {
     "data": {
      "text/plain": [
       "0.48090319481143406"
      ]
     },
     "execution_count": 70,
     "metadata": {},
     "output_type": "execute_result"
    }
   ],
   "source": [
    "%%time\n",
    "score_gnb=score_func(gnb,X_train,y_train,X_test,y_test)\n",
    "score_gnb"
   ]
  },
  {
   "cell_type": "code",
   "execution_count": 71,
   "metadata": {
    "colab": {
     "base_uri": "https://localhost:8080/"
    },
    "execution": {
     "iopub.execute_input": "2023-12-30T14:33:58.447851Z",
     "iopub.status.busy": "2023-12-30T14:33:58.447336Z",
     "iopub.status.idle": "2023-12-30T14:34:14.309352Z",
     "shell.execute_reply": "2023-12-30T14:34:14.308437Z",
     "shell.execute_reply.started": "2023-12-30T14:33:58.447814Z"
    },
    "id": "dlnAX5uxNoFb",
    "outputId": "dd5a9794-5dfc-4016-e4d7-9689cd0a66c1"
   },
   "outputs": [
    {
     "name": "stdout",
     "output_type": "stream",
     "text": [
      "CPU times: user 23.7 s, sys: 117 ms, total: 23.8 s\n",
      "Wall time: 23.9 s\n"
     ]
    },
    {
     "data": {
      "text/plain": [
       "0.6617823684842662"
      ]
     },
     "execution_count": 71,
     "metadata": {},
     "output_type": "execute_result"
    }
   ],
   "source": [
    "%%time\n",
    "score_rf=score_func(rf,X_train,y_train,X_test,y_test)\n",
    "score_rf"
   ]
  },
  {
   "cell_type": "code",
   "execution_count": 72,
   "metadata": {
    "colab": {
     "base_uri": "https://localhost:8080/"
    },
    "execution": {
     "iopub.execute_input": "2023-12-30T14:34:18.665143Z",
     "iopub.status.busy": "2023-12-30T14:34:18.664751Z",
     "iopub.status.idle": "2023-12-30T14:34:22.635856Z",
     "shell.execute_reply": "2023-12-30T14:34:22.634880Z",
     "shell.execute_reply.started": "2023-12-30T14:34:18.665112Z"
    },
    "id": "uX1_ZoQKNoFb",
    "outputId": "30dd8aad-c689-4745-a14d-7c2d9554fbd8"
   },
   "outputs": [
    {
     "name": "stdout",
     "output_type": "stream",
     "text": [
      "CPU times: user 15.1 s, sys: 1.57 s, total: 16.7 s\n",
      "Wall time: 11 s\n"
     ]
    },
    {
     "name": "stderr",
     "output_type": "stream",
     "text": [
      "/usr/local/lib/python3.10/dist-packages/sklearn/linear_model/_logistic.py:458: ConvergenceWarning: lbfgs failed to converge (status=1):\n",
      "STOP: TOTAL NO. of ITERATIONS REACHED LIMIT.\n",
      "\n",
      "Increase the number of iterations (max_iter) or scale the data as shown in:\n",
      "    https://scikit-learn.org/stable/modules/preprocessing.html\n",
      "Please also refer to the documentation for alternative solver options:\n",
      "    https://scikit-learn.org/stable/modules/linear_model.html#logistic-regression\n",
      "  n_iter_i = _check_optimize_result(\n"
     ]
    },
    {
     "data": {
      "text/plain": [
       "0.6096564977179918"
      ]
     },
     "execution_count": 72,
     "metadata": {},
     "output_type": "execute_result"
    }
   ],
   "source": [
    "%%time\n",
    "score_lrc=score_func(lgc,X_train,y_train,X_test,y_test)\n",
    "score_lrc"
   ]
  },
  {
   "cell_type": "code",
   "execution_count": 73,
   "metadata": {
    "colab": {
     "base_uri": "https://localhost:8080/"
    },
    "execution": {
     "iopub.execute_input": "2023-12-30T14:34:24.100222Z",
     "iopub.status.busy": "2023-12-30T14:34:24.099856Z",
     "iopub.status.idle": "2023-12-30T14:34:24.251714Z",
     "shell.execute_reply": "2023-12-30T14:34:24.250452Z",
     "shell.execute_reply.started": "2023-12-30T14:34:24.100194Z"
    },
    "id": "GyD-frftNoFc",
    "outputId": "b7d7bc6f-1998-42a0-829a-2ff41460758c"
   },
   "outputs": [
    {
     "data": {
      "text/plain": [
       "0.8005285073670724"
      ]
     },
     "execution_count": 73,
     "metadata": {},
     "output_type": "execute_result"
    }
   ],
   "source": [
    "lgc.score(X_train,y_train)"
   ]
  },
  {
   "cell_type": "code",
   "execution_count": 74,
   "metadata": {
    "colab": {
     "base_uri": "https://localhost:8080/"
    },
    "execution": {
     "iopub.execute_input": "2023-12-30T14:34:29.415887Z",
     "iopub.status.busy": "2023-12-30T14:34:29.415465Z",
     "iopub.status.idle": "2023-12-30T14:34:30.269386Z",
     "shell.execute_reply": "2023-12-30T14:34:30.267814Z",
     "shell.execute_reply.started": "2023-12-30T14:34:29.415857Z"
    },
    "id": "yj4P2GfvNoFc",
    "outputId": "94259ffc-8685-4cd6-aec7-c00eb4a449e6"
   },
   "outputs": [
    {
     "data": {
      "text/plain": [
       "1.0"
      ]
     },
     "execution_count": 74,
     "metadata": {},
     "output_type": "execute_result"
    }
   ],
   "source": [
    "rf.score(X_train,y_train)"
   ]
  },
  {
   "cell_type": "code",
   "execution_count": 75,
   "metadata": {
    "execution": {
     "iopub.execute_input": "2023-12-30T14:34:31.488336Z",
     "iopub.status.busy": "2023-12-30T14:34:31.487523Z",
     "iopub.status.idle": "2023-12-30T14:34:31.492453Z",
     "shell.execute_reply": "2023-12-30T14:34:31.491546Z",
     "shell.execute_reply.started": "2023-12-30T14:34:31.488306Z"
    },
    "id": "dYYpGl87NoFd"
   },
   "outputs": [],
   "source": [
    "lr1=LogisticRegression(class_weight='balanced', solver='liblinear', penalty='l2', C=0.4)"
   ]
  },
  {
   "cell_type": "code",
   "execution_count": 76,
   "metadata": {
    "colab": {
     "base_uri": "https://localhost:8080/"
    },
    "execution": {
     "iopub.execute_input": "2023-12-30T14:34:32.805063Z",
     "iopub.status.busy": "2023-12-30T14:34:32.804304Z",
     "iopub.status.idle": "2023-12-30T14:34:35.006966Z",
     "shell.execute_reply": "2023-12-30T14:34:35.005531Z",
     "shell.execute_reply.started": "2023-12-30T14:34:32.805030Z"
    },
    "id": "hPqcH5J5NoFd",
    "outputId": "d4ee2c9a-5b1b-4a8e-a14a-5ac6e3f55107"
   },
   "outputs": [
    {
     "name": "stdout",
     "output_type": "stream",
     "text": [
      "CPU times: user 1.37 s, sys: 138 ms, total: 1.5 s\n",
      "Wall time: 1.48 s\n"
     ]
    },
    {
     "data": {
      "text/plain": [
       "0.5673792937785251"
      ]
     },
     "execution_count": 76,
     "metadata": {},
     "output_type": "execute_result"
    }
   ],
   "source": [
    "%%time\n",
    "score_lr1=score_func(lr1,X_train,y_train,X_test,y_test)\n",
    "score_lr1"
   ]
  },
  {
   "cell_type": "markdown",
   "metadata": {
    "id": "3LKA4LrdNoFd"
   },
   "source": [
    "## lets check with countvectorizer with min_df=0"
   ]
  },
  {
   "cell_type": "code",
   "execution_count": 77,
   "metadata": {
    "execution": {
     "iopub.execute_input": "2023-12-30T14:35:01.540252Z",
     "iopub.status.busy": "2023-12-30T14:35:01.539860Z",
     "iopub.status.idle": "2023-12-30T14:35:01.544970Z",
     "shell.execute_reply": "2023-12-30T14:35:01.543913Z",
     "shell.execute_reply.started": "2023-12-30T14:35:01.540222Z"
    },
    "id": "sBTENuUFNoFe"
   },
   "outputs": [],
   "source": [
    "X=cv_zero_features\n",
    "y=df_review['binary_score']"
   ]
  },
  {
   "cell_type": "code",
   "execution_count": 78,
   "metadata": {
    "execution": {
     "iopub.execute_input": "2023-12-30T14:35:06.904738Z",
     "iopub.status.busy": "2023-12-30T14:35:06.903925Z",
     "iopub.status.idle": "2023-12-30T14:35:07.592380Z",
     "shell.execute_reply": "2023-12-30T14:35:07.591349Z",
     "shell.execute_reply.started": "2023-12-30T14:35:06.904704Z"
    },
    "id": "d04cHx9sNoFe"
   },
   "outputs": [],
   "source": [
    "X_train,X_test,y_train,y_test=train_test_split(X,y,test_size=.2,random_state=34,stratify=y)"
   ]
  },
  {
   "cell_type": "code",
   "execution_count": 79,
   "metadata": {
    "colab": {
     "base_uri": "https://localhost:8080/"
    },
    "execution": {
     "iopub.execute_input": "2023-12-30T14:35:07.691431Z",
     "iopub.status.busy": "2023-12-30T14:35:07.691035Z",
     "iopub.status.idle": "2023-12-30T14:35:07.697898Z",
     "shell.execute_reply": "2023-12-30T14:35:07.696957Z",
     "shell.execute_reply.started": "2023-12-30T14:35:07.691398Z"
    },
    "id": "dGNU8pgANoFe",
    "outputId": "fbab015d-44e3-44bf-bfd5-dd0d461ab45b"
   },
   "outputs": [
    {
     "data": {
      "text/plain": [
       "(13320, 18987)"
      ]
     },
     "execution_count": 79,
     "metadata": {},
     "output_type": "execute_result"
    }
   ],
   "source": [
    "X_train.shape"
   ]
  },
  {
   "cell_type": "code",
   "execution_count": 80,
   "metadata": {
    "colab": {
     "base_uri": "https://localhost:8080/"
    },
    "execution": {
     "iopub.execute_input": "2023-12-30T14:35:11.384420Z",
     "iopub.status.busy": "2023-12-30T14:35:11.383477Z",
     "iopub.status.idle": "2023-12-30T14:35:12.796153Z",
     "shell.execute_reply": "2023-12-30T14:35:12.794902Z",
     "shell.execute_reply.started": "2023-12-30T14:35:11.384388Z"
    },
    "id": "XMe4yqZNNoFf",
    "outputId": "7c5b9248-0ec5-402b-890a-d4f4f8c80541"
   },
   "outputs": [
    {
     "name": "stdout",
     "output_type": "stream",
     "text": [
      "CPU times: user 3.76 s, sys: 97.2 ms, total: 3.86 s\n",
      "Wall time: 7.38 s\n"
     ]
    },
    {
     "data": {
      "text/plain": [
       "0.6331432002401681"
      ]
     },
     "execution_count": 80,
     "metadata": {},
     "output_type": "execute_result"
    }
   ],
   "source": [
    "%%time\n",
    "score_mnb=score_func(mnb,X_train,y_train,X_test,y_test)\n",
    "score_mnb"
   ]
  },
  {
   "cell_type": "code",
   "execution_count": 81,
   "metadata": {
    "colab": {
     "base_uri": "https://localhost:8080/"
    },
    "execution": {
     "iopub.execute_input": "2023-12-30T14:35:12.798924Z",
     "iopub.status.busy": "2023-12-30T14:35:12.798485Z",
     "iopub.status.idle": "2023-12-30T14:35:16.418519Z",
     "shell.execute_reply": "2023-12-30T14:35:16.417606Z",
     "shell.execute_reply.started": "2023-12-30T14:35:12.798886Z"
    },
    "id": "e_rNo6ZHNoFf",
    "outputId": "6bc9a50b-d943-4448-9c69-ed4634e22d19"
   },
   "outputs": [
    {
     "name": "stdout",
     "output_type": "stream",
     "text": [
      "CPU times: user 3.73 s, sys: 2.65 s, total: 6.38 s\n",
      "Wall time: 6.57 s\n"
     ]
    },
    {
     "data": {
      "text/plain": [
       "0.4596217352146503"
      ]
     },
     "execution_count": 81,
     "metadata": {},
     "output_type": "execute_result"
    }
   ],
   "source": [
    "%%time\n",
    "score_gnb=score_func(gnb,X_train,y_train,X_test,y_test)\n",
    "score_gnb"
   ]
  },
  {
   "cell_type": "code",
   "execution_count": 82,
   "metadata": {
    "colab": {
     "base_uri": "https://localhost:8080/"
    },
    "execution": {
     "iopub.execute_input": "2023-12-30T14:35:16.420423Z",
     "iopub.status.busy": "2023-12-30T14:35:16.420094Z",
     "iopub.status.idle": "2023-12-30T14:35:55.803556Z",
     "shell.execute_reply": "2023-12-30T14:35:55.802574Z",
     "shell.execute_reply.started": "2023-12-30T14:35:16.420393Z"
    },
    "id": "4yKU9_pqNoFg",
    "outputId": "0dd1d347-0aa5-42ac-a962-66d561096671"
   },
   "outputs": [
    {
     "name": "stdout",
     "output_type": "stream",
     "text": [
      "CPU times: user 1min 8s, sys: 301 ms, total: 1min 8s\n",
      "Wall time: 1min 8s\n"
     ]
    },
    {
     "data": {
      "text/plain": [
       "0.6610627439207445"
      ]
     },
     "execution_count": 82,
     "metadata": {},
     "output_type": "execute_result"
    }
   ],
   "source": [
    "%%time\n",
    "score_rf=score_func(rf,X_train,y_train,X_test,y_test)\n",
    "score_rf"
   ]
  },
  {
   "cell_type": "code",
   "execution_count": 83,
   "metadata": {
    "colab": {
     "base_uri": "https://localhost:8080/"
    },
    "execution": {
     "iopub.execute_input": "2023-12-30T14:35:58.961036Z",
     "iopub.status.busy": "2023-12-30T14:35:58.960485Z",
     "iopub.status.idle": "2023-12-30T14:36:20.307577Z",
     "shell.execute_reply": "2023-12-30T14:36:20.305018Z",
     "shell.execute_reply.started": "2023-12-30T14:35:58.960998Z"
    },
    "id": "3iyEBvckNoFh",
    "outputId": "96d04580-8f8e-4d81-f4e0-9166505dfcfe"
   },
   "outputs": [
    {
     "name": "stderr",
     "output_type": "stream",
     "text": [
      "/usr/local/lib/python3.10/dist-packages/sklearn/linear_model/_logistic.py:458: ConvergenceWarning: lbfgs failed to converge (status=1):\n",
      "STOP: TOTAL NO. of ITERATIONS REACHED LIMIT.\n",
      "\n",
      "Increase the number of iterations (max_iter) or scale the data as shown in:\n",
      "    https://scikit-learn.org/stable/modules/preprocessing.html\n",
      "Please also refer to the documentation for alternative solver options:\n",
      "    https://scikit-learn.org/stable/modules/linear_model.html#logistic-regression\n",
      "  n_iter_i = _check_optimize_result(\n"
     ]
    },
    {
     "name": "stdout",
     "output_type": "stream",
     "text": [
      "CPU times: user 58.6 s, sys: 11.6 s, total: 1min 10s\n",
      "Wall time: 44.2 s\n"
     ]
    },
    {
     "data": {
      "text/plain": [
       "0.601921344941459"
      ]
     },
     "execution_count": 83,
     "metadata": {},
     "output_type": "execute_result"
    }
   ],
   "source": [
    "%%time\n",
    "score_lgc=score_func(lgc,X_train,y_train,X_test,y_test)\n",
    "score_lgc"
   ]
  },
  {
   "cell_type": "code",
   "execution_count": 84,
   "metadata": {
    "id": "bO90EItRNoFh"
   },
   "outputs": [],
   "source": [
    "## lets use countvectorizer for min_df=10 and max_features=1000"
   ]
  },
  {
   "cell_type": "code",
   "execution_count": 85,
   "metadata": {
    "id": "yWX3F-S_NoFi"
   },
   "outputs": [],
   "source": [
    "nltk_stopwords=stopwords.words('english')"
   ]
  },
  {
   "cell_type": "code",
   "execution_count": 86,
   "metadata": {
    "colab": {
     "base_uri": "https://localhost:8080/"
    },
    "id": "E-aNXQytNoFi",
    "outputId": "610d28ab-1ef0-49c8-d192-d899da015524"
   },
   "outputs": [
    {
     "data": {
      "text/plain": [
       "179"
      ]
     },
     "execution_count": 86,
     "metadata": {},
     "output_type": "execute_result"
    }
   ],
   "source": [
    "len(stopwords.words('english'))"
   ]
  },
  {
   "cell_type": "code",
   "execution_count": 87,
   "metadata": {
    "id": "DL8AXJVGNoFj"
   },
   "outputs": [],
   "source": [
    "from sklearn.feature_extraction.text import ENGLISH_STOP_WORDS\n",
    "sk_stopwords=ENGLISH_STOP_WORDS"
   ]
  },
  {
   "cell_type": "code",
   "execution_count": 88,
   "metadata": {
    "colab": {
     "base_uri": "https://localhost:8080/"
    },
    "id": "GDo6NelINoFj",
    "outputId": "2d05cc35-3cfc-4ea8-cf08-446ae93f7092"
   },
   "outputs": [
    {
     "data": {
      "text/plain": [
       "318"
      ]
     },
     "execution_count": 88,
     "metadata": {},
     "output_type": "execute_result"
    }
   ],
   "source": [
    "len(sk_stopwords)"
   ]
  },
  {
   "cell_type": "code",
   "execution_count": 89,
   "metadata": {
    "id": "Am7KMkZWNoFk"
   },
   "outputs": [],
   "source": [
    "combined_stopwords=sk_stopwords.union(nltk_stopwords)"
   ]
  },
  {
   "cell_type": "code",
   "execution_count": 90,
   "metadata": {
    "execution": {
     "iopub.execute_input": "2023-12-30T14:36:20.310203Z",
     "iopub.status.busy": "2023-12-30T14:36:20.309576Z",
     "iopub.status.idle": "2023-12-30T14:36:20.316529Z",
     "shell.execute_reply": "2023-12-30T14:36:20.315289Z",
     "shell.execute_reply.started": "2023-12-30T14:36:20.310166Z"
    },
    "id": "ofTDn6_lNoFk"
   },
   "outputs": [],
   "source": [
    "cv_1000=CountVectorizer(min_df=10,max_features=1000)"
   ]
  },
  {
   "cell_type": "code",
   "execution_count": 91,
   "metadata": {
    "execution": {
     "iopub.execute_input": "2023-12-30T14:36:21.712190Z",
     "iopub.status.busy": "2023-12-30T14:36:21.711813Z",
     "iopub.status.idle": "2023-12-30T14:36:23.641847Z",
     "shell.execute_reply": "2023-12-30T14:36:23.641010Z",
     "shell.execute_reply.started": "2023-12-30T14:36:21.712162Z"
    },
    "id": "3eyfuTZ9NoFk"
   },
   "outputs": [],
   "source": [
    "cv_1000_features=cv_1000.fit_transform(cleaned_corpus).toarray()"
   ]
  },
  {
   "cell_type": "code",
   "execution_count": 92,
   "metadata": {
    "colab": {
     "base_uri": "https://localhost:8080/"
    },
    "execution": {
     "iopub.execute_input": "2023-12-30T14:36:25.656214Z",
     "iopub.status.busy": "2023-12-30T14:36:25.655546Z",
     "iopub.status.idle": "2023-12-30T14:36:25.662221Z",
     "shell.execute_reply": "2023-12-30T14:36:25.661232Z",
     "shell.execute_reply.started": "2023-12-30T14:36:25.656181Z"
    },
    "id": "SiBSxm2NNoFl",
    "outputId": "18fe3404-a18a-44c7-86be-bd5fd093087e"
   },
   "outputs": [
    {
     "data": {
      "text/plain": [
       "(16651, 1000)"
      ]
     },
     "execution_count": 92,
     "metadata": {},
     "output_type": "execute_result"
    }
   ],
   "source": [
    "cv_1000_features.shape"
   ]
  },
  {
   "cell_type": "code",
   "execution_count": 93,
   "metadata": {
    "execution": {
     "iopub.execute_input": "2023-12-30T14:36:30.410528Z",
     "iopub.status.busy": "2023-12-30T14:36:30.409680Z",
     "iopub.status.idle": "2023-12-30T14:36:30.414797Z",
     "shell.execute_reply": "2023-12-30T14:36:30.413751Z",
     "shell.execute_reply.started": "2023-12-30T14:36:30.410486Z"
    },
    "id": "mo6qmIgnNoFl"
   },
   "outputs": [],
   "source": [
    "X=cv_1000_features"
   ]
  },
  {
   "cell_type": "code",
   "execution_count": 94,
   "metadata": {
    "execution": {
     "iopub.execute_input": "2023-12-30T14:36:32.294926Z",
     "iopub.status.busy": "2023-12-30T14:36:32.294190Z",
     "iopub.status.idle": "2023-12-30T14:36:32.349229Z",
     "shell.execute_reply": "2023-12-30T14:36:32.348427Z",
     "shell.execute_reply.started": "2023-12-30T14:36:32.294894Z"
    },
    "id": "BKaqra_lNoFm"
   },
   "outputs": [],
   "source": [
    "X_train,X_test,y_train,y_test=train_test_split(X,y,random_state=34)"
   ]
  },
  {
   "cell_type": "code",
   "execution_count": 95,
   "metadata": {
    "colab": {
     "base_uri": "https://localhost:8080/"
    },
    "execution": {
     "iopub.execute_input": "2023-12-30T14:36:34.069117Z",
     "iopub.status.busy": "2023-12-30T14:36:34.068389Z",
     "iopub.status.idle": "2023-12-30T14:36:34.202025Z",
     "shell.execute_reply": "2023-12-30T14:36:34.200784Z",
     "shell.execute_reply.started": "2023-12-30T14:36:34.069078Z"
    },
    "id": "dm1EjJoZNoFm",
    "outputId": "6fcbdcfc-2850-49e2-c1b2-7cd652a86dbe"
   },
   "outputs": [
    {
     "name": "stdout",
     "output_type": "stream",
     "text": [
      "CPU times: user 202 ms, sys: 9.03 ms, total: 211 ms\n",
      "Wall time: 206 ms\n"
     ]
    },
    {
     "data": {
      "text/plain": [
       "0.6449675714628873"
      ]
     },
     "execution_count": 95,
     "metadata": {},
     "output_type": "execute_result"
    }
   ],
   "source": [
    "%%time\n",
    "score_mnb=score_func(mnb,X_train,y_train,X_test,y_test)\n",
    "score_mnb"
   ]
  },
  {
   "cell_type": "code",
   "execution_count": 96,
   "metadata": {
    "colab": {
     "base_uri": "https://localhost:8080/"
    },
    "execution": {
     "iopub.execute_input": "2023-12-30T14:36:35.651613Z",
     "iopub.status.busy": "2023-12-30T14:36:35.650829Z",
     "iopub.status.idle": "2023-12-30T14:36:35.907780Z",
     "shell.execute_reply": "2023-12-30T14:36:35.906832Z",
     "shell.execute_reply.started": "2023-12-30T14:36:35.651574Z"
    },
    "id": "9CPgTpylNoFm",
    "outputId": "7e8b9fb2-626f-49bf-d37e-710220e89e69"
   },
   "outputs": [
    {
     "name": "stdout",
     "output_type": "stream",
     "text": [
      "CPU times: user 186 ms, sys: 87.8 ms, total: 274 ms\n",
      "Wall time: 271 ms\n"
     ]
    },
    {
     "data": {
      "text/plain": [
       "0.5313475858755705"
      ]
     },
     "execution_count": 96,
     "metadata": {},
     "output_type": "execute_result"
    }
   ],
   "source": [
    "%%time\n",
    "score_gnb=score_func(gnb,X_train,y_train,X_test,y_test)\n",
    "score_gnb"
   ]
  },
  {
   "cell_type": "code",
   "execution_count": 97,
   "metadata": {
    "colab": {
     "base_uri": "https://localhost:8080/"
    },
    "execution": {
     "iopub.execute_input": "2023-12-30T14:36:38.860589Z",
     "iopub.status.busy": "2023-12-30T14:36:38.859862Z",
     "iopub.status.idle": "2023-12-30T14:36:46.025306Z",
     "shell.execute_reply": "2023-12-30T14:36:46.024360Z",
     "shell.execute_reply.started": "2023-12-30T14:36:38.860555Z"
    },
    "id": "5Fdi1wJRNoFn",
    "outputId": "b480dfcd-6ada-4c27-fbc5-c5f9ab3b3497"
   },
   "outputs": [
    {
     "name": "stdout",
     "output_type": "stream",
     "text": [
      "CPU times: user 8.79 s, sys: 31.7 ms, total: 8.83 s\n",
      "Wall time: 8.88 s\n"
     ]
    },
    {
     "data": {
      "text/plain": [
       "0.6610617343262071"
      ]
     },
     "execution_count": 97,
     "metadata": {},
     "output_type": "execute_result"
    }
   ],
   "source": [
    "%%time\n",
    "score_rf=score_func(rf,X_train,y_train,X_test,y_test)\n",
    "score_rf"
   ]
  },
  {
   "cell_type": "markdown",
   "metadata": {
    "id": "L9jqLdVNNoFn"
   },
   "source": [
    "## Check with TF IDF Vecotizer"
   ]
  },
  {
   "cell_type": "code",
   "execution_count": 98,
   "metadata": {
    "execution": {
     "iopub.execute_input": "2023-12-30T14:36:50.062240Z",
     "iopub.status.busy": "2023-12-30T14:36:50.061553Z",
     "iopub.status.idle": "2023-12-30T14:36:50.066471Z",
     "shell.execute_reply": "2023-12-30T14:36:50.065385Z",
     "shell.execute_reply.started": "2023-12-30T14:36:50.062208Z"
    },
    "id": "Ydgi4n1GNoFo"
   },
   "outputs": [],
   "source": [
    "from sklearn.feature_extraction.text import TfidfVectorizer"
   ]
  },
  {
   "cell_type": "code",
   "execution_count": 99,
   "metadata": {
    "execution": {
     "iopub.execute_input": "2023-12-30T14:36:50.829231Z",
     "iopub.status.busy": "2023-12-30T14:36:50.828932Z",
     "iopub.status.idle": "2023-12-30T14:36:50.833550Z",
     "shell.execute_reply": "2023-12-30T14:36:50.832551Z",
     "shell.execute_reply.started": "2023-12-30T14:36:50.829204Z"
    },
    "id": "fvcy5JOHNoFo"
   },
   "outputs": [],
   "source": [
    "tfidf=TfidfVectorizer(min_df=5, max_features=1000)"
   ]
  },
  {
   "cell_type": "code",
   "execution_count": 100,
   "metadata": {
    "execution": {
     "iopub.execute_input": "2023-12-30T14:36:51.904866Z",
     "iopub.status.busy": "2023-12-30T14:36:51.904322Z",
     "iopub.status.idle": "2023-12-30T14:36:53.982532Z",
     "shell.execute_reply": "2023-12-30T14:36:53.981479Z",
     "shell.execute_reply.started": "2023-12-30T14:36:51.904838Z"
    },
    "id": "GxBS8NthNoFp"
   },
   "outputs": [],
   "source": [
    "tfidf_feaures=tfidf.fit_transform(cleaned_corpus).toarray()"
   ]
  },
  {
   "cell_type": "code",
   "execution_count": 101,
   "metadata": {
    "colab": {
     "base_uri": "https://localhost:8080/"
    },
    "execution": {
     "iopub.execute_input": "2023-12-30T14:36:57.201445Z",
     "iopub.status.busy": "2023-12-30T14:36:57.200517Z",
     "iopub.status.idle": "2023-12-30T14:36:57.207331Z",
     "shell.execute_reply": "2023-12-30T14:36:57.206351Z",
     "shell.execute_reply.started": "2023-12-30T14:36:57.201409Z"
    },
    "id": "h7Ww2P03NoFp",
    "outputId": "2e3b5f83-cfdd-49af-c6f1-6c4cd67a5f3f"
   },
   "outputs": [
    {
     "data": {
      "text/plain": [
       "(16651, 1000)"
      ]
     },
     "execution_count": 101,
     "metadata": {},
     "output_type": "execute_result"
    }
   ],
   "source": [
    "tfidf_feaures.shape"
   ]
  },
  {
   "cell_type": "code",
   "execution_count": 102,
   "metadata": {
    "execution": {
     "iopub.execute_input": "2023-12-30T14:36:58.497369Z",
     "iopub.status.busy": "2023-12-30T14:36:58.496994Z",
     "iopub.status.idle": "2023-12-30T14:36:58.501519Z",
     "shell.execute_reply": "2023-12-30T14:36:58.500545Z",
     "shell.execute_reply.started": "2023-12-30T14:36:58.497338Z"
    },
    "id": "j0ObZJrwNoFq"
   },
   "outputs": [],
   "source": [
    "X=tfidf_feaures"
   ]
  },
  {
   "cell_type": "code",
   "execution_count": 103,
   "metadata": {
    "execution": {
     "iopub.execute_input": "2023-12-30T14:37:07.340661Z",
     "iopub.status.busy": "2023-12-30T14:37:07.339885Z",
     "iopub.status.idle": "2023-12-30T14:37:07.390068Z",
     "shell.execute_reply": "2023-12-30T14:37:07.389253Z",
     "shell.execute_reply.started": "2023-12-30T14:37:07.340630Z"
    },
    "id": "62zD5ivFNoFq"
   },
   "outputs": [],
   "source": [
    "X_train,X_test,y_train,y_test=train_test_split(X,y,random_state=34)"
   ]
  },
  {
   "cell_type": "code",
   "execution_count": 104,
   "metadata": {
    "colab": {
     "base_uri": "https://localhost:8080/"
    },
    "execution": {
     "iopub.execute_input": "2023-12-30T14:37:09.958545Z",
     "iopub.status.busy": "2023-12-30T14:37:09.957594Z",
     "iopub.status.idle": "2023-12-30T14:37:10.014837Z",
     "shell.execute_reply": "2023-12-30T14:37:10.013439Z",
     "shell.execute_reply.started": "2023-12-30T14:37:09.958504Z"
    },
    "id": "7i0PIeWLNoFr",
    "outputId": "d41d3e7e-5f88-4cfc-8692-816c141f1627"
   },
   "outputs": [
    {
     "name": "stdout",
     "output_type": "stream",
     "text": [
      "CPU times: user 72.5 ms, sys: 4.95 ms, total: 77.5 ms\n",
      "Wall time: 49.9 ms\n"
     ]
    },
    {
     "data": {
      "text/plain": [
       "0.6716310353110737"
      ]
     },
     "execution_count": 104,
     "metadata": {},
     "output_type": "execute_result"
    }
   ],
   "source": [
    "%%time\n",
    "score_mnb=score_func(mnb,X_train,y_train,X_test,y_test)\n",
    "score_mnb"
   ]
  },
  {
   "cell_type": "code",
   "execution_count": 105,
   "metadata": {
    "colab": {
     "base_uri": "https://localhost:8080/"
    },
    "execution": {
     "iopub.execute_input": "2023-12-30T14:37:12.080461Z",
     "iopub.status.busy": "2023-12-30T14:37:12.079639Z",
     "iopub.status.idle": "2023-12-30T14:37:25.188412Z",
     "shell.execute_reply": "2023-12-30T14:37:25.187403Z",
     "shell.execute_reply.started": "2023-12-30T14:37:12.080431Z"
    },
    "id": "yANIn3DFNoFr",
    "outputId": "0d2bdcf7-8e75-43ae-de1e-99936d70289d"
   },
   "outputs": [
    {
     "name": "stdout",
     "output_type": "stream",
     "text": [
      "CPU times: user 15 s, sys: 36.2 ms, total: 15 s\n",
      "Wall time: 15.1 s\n"
     ]
    },
    {
     "data": {
      "text/plain": [
       "0.6663463848186404"
      ]
     },
     "execution_count": 105,
     "metadata": {},
     "output_type": "execute_result"
    }
   ],
   "source": [
    "%%time\n",
    "score_rf=score_func(rf,X_train,y_train,X_test,y_test)\n",
    "score_rf"
   ]
  },
  {
   "cell_type": "code",
   "execution_count": 106,
   "metadata": {
    "colab": {
     "base_uri": "https://localhost:8080/"
    },
    "execution": {
     "iopub.execute_input": "2023-12-30T14:37:26.506643Z",
     "iopub.status.busy": "2023-12-30T14:37:26.505895Z",
     "iopub.status.idle": "2023-12-30T14:37:26.738045Z",
     "shell.execute_reply": "2023-12-30T14:37:26.737064Z",
     "shell.execute_reply.started": "2023-12-30T14:37:26.506610Z"
    },
    "id": "x5qBjDtnNoFs",
    "outputId": "623cd11f-b9f2-483c-c9d5-1ec9e9b485d0"
   },
   "outputs": [
    {
     "name": "stdout",
     "output_type": "stream",
     "text": [
      "CPU times: user 160 ms, sys: 84.9 ms, total: 245 ms\n",
      "Wall time: 246 ms\n"
     ]
    },
    {
     "data": {
      "text/plain": [
       "0.6334374249339418"
      ]
     },
     "execution_count": 106,
     "metadata": {},
     "output_type": "execute_result"
    }
   ],
   "source": [
    "%%time\n",
    "score_gnb=score_func(gnb,X_train,y_train,X_test,y_test)\n",
    "score_gnb"
   ]
  },
  {
   "cell_type": "code",
   "execution_count": 107,
   "metadata": {
    "colab": {
     "base_uri": "https://localhost:8080/"
    },
    "execution": {
     "iopub.execute_input": "2023-12-30T14:37:27.983466Z",
     "iopub.status.busy": "2023-12-30T14:37:27.982730Z",
     "iopub.status.idle": "2023-12-30T14:37:28.828070Z",
     "shell.execute_reply": "2023-12-30T14:37:28.826806Z",
     "shell.execute_reply.started": "2023-12-30T14:37:27.983435Z"
    },
    "id": "wBV9WlqxNoFt",
    "outputId": "905a506f-07cc-4e1b-d73a-b59534187415"
   },
   "outputs": [
    {
     "name": "stdout",
     "output_type": "stream",
     "text": [
      "CPU times: user 2.6 s, sys: 178 ms, total: 2.78 s\n",
      "Wall time: 1.46 s\n"
     ]
    },
    {
     "data": {
      "text/plain": [
       "0.6622627912563055"
      ]
     },
     "execution_count": 107,
     "metadata": {},
     "output_type": "execute_result"
    }
   ],
   "source": [
    "%%time\n",
    "score_lgc=score_func(lgc,X_train,y_train,X_test,y_test)\n",
    "score_lgc"
   ]
  },
  {
   "cell_type": "code",
   "execution_count": 108,
   "metadata": {
    "colab": {
     "base_uri": "https://localhost:8080/"
    },
    "execution": {
     "iopub.execute_input": "2023-12-30T14:37:31.065253Z",
     "iopub.status.busy": "2023-12-30T14:37:31.064350Z",
     "iopub.status.idle": "2023-12-30T14:37:31.089756Z",
     "shell.execute_reply": "2023-12-30T14:37:31.088337Z",
     "shell.execute_reply.started": "2023-12-30T14:37:31.065220Z"
    },
    "id": "F9qk52taNoFt",
    "outputId": "043045e0-325b-4b88-aeb6-7919a80041d6"
   },
   "outputs": [
    {
     "data": {
      "text/plain": [
       "0.6951473414477899"
      ]
     },
     "execution_count": 108,
     "metadata": {},
     "output_type": "execute_result"
    }
   ],
   "source": [
    "lgc.score(X_train,y_train)"
   ]
  },
  {
   "cell_type": "code",
   "execution_count": 109,
   "metadata": {
    "colab": {
     "base_uri": "https://localhost:8080/"
    },
    "execution": {
     "iopub.execute_input": "2023-12-30T14:37:32.460453Z",
     "iopub.status.busy": "2023-12-30T14:37:32.459727Z",
     "iopub.status.idle": "2023-12-30T14:37:32.754474Z",
     "shell.execute_reply": "2023-12-30T14:37:32.753034Z",
     "shell.execute_reply.started": "2023-12-30T14:37:32.460424Z"
    },
    "id": "2O_Dv-DANoFt",
    "outputId": "e2bb788f-f862-41ec-baa1-87acd216114e"
   },
   "outputs": [
    {
     "name": "stdout",
     "output_type": "stream",
     "text": [
      "CPU times: user 193 ms, sys: 8.86 ms, total: 201 ms\n",
      "Wall time: 198 ms\n"
     ]
    },
    {
     "data": {
      "text/plain": [
       "0.6173432620706222"
      ]
     },
     "execution_count": 109,
     "metadata": {},
     "output_type": "execute_result"
    }
   ],
   "source": [
    "%%time\n",
    "score_lr1=score_func(lr1,X_train,y_train,X_test,y_test)\n",
    "score_lr1"
   ]
  },
  {
   "cell_type": "markdown",
   "metadata": {
    "id": "Q3d-AoWuNoFu"
   },
   "source": [
    "## Check with n grams"
   ]
  },
  {
   "cell_type": "code",
   "execution_count": 171,
   "metadata": {
    "execution": {
     "iopub.execute_input": "2023-12-30T14:37:36.491415Z",
     "iopub.status.busy": "2023-12-30T14:37:36.491045Z",
     "iopub.status.idle": "2023-12-30T14:37:36.496103Z",
     "shell.execute_reply": "2023-12-30T14:37:36.495075Z",
     "shell.execute_reply.started": "2023-12-30T14:37:36.491388Z"
    },
    "id": "R5qdmmHaNoFu"
   },
   "outputs": [],
   "source": [
    "CV_ngram3 = CountVectorizer(ngram_range=(5, 6), min_df=10,max_features=1000)"
   ]
  },
  {
   "cell_type": "code",
   "execution_count": 172,
   "metadata": {
    "execution": {
     "iopub.execute_input": "2023-12-30T14:37:38.631717Z",
     "iopub.status.busy": "2023-12-30T14:37:38.630889Z",
     "iopub.status.idle": "2023-12-30T14:37:51.889618Z",
     "shell.execute_reply": "2023-12-30T14:37:51.888553Z",
     "shell.execute_reply.started": "2023-12-30T14:37:38.631682Z"
    },
    "id": "LxIzqWAFNoFv"
   },
   "outputs": [],
   "source": [
    "CV_ngram3_features=CV_ngram3.fit_transform(cleaned_corpus).toarray()"
   ]
  },
  {
   "cell_type": "code",
   "execution_count": 173,
   "metadata": {
    "colab": {
     "base_uri": "https://localhost:8080/"
    },
    "execution": {
     "iopub.execute_input": "2023-12-30T14:37:54.710083Z",
     "iopub.status.busy": "2023-12-30T14:37:54.709383Z",
     "iopub.status.idle": "2023-12-30T14:37:54.716467Z",
     "shell.execute_reply": "2023-12-30T14:37:54.715544Z",
     "shell.execute_reply.started": "2023-12-30T14:37:54.710048Z"
    },
    "id": "ha2THX3cNoFv",
    "outputId": "a49710c0-2485-4feb-e952-5a91c8649522"
   },
   "outputs": [
    {
     "data": {
      "text/plain": [
       "(16651, 1000)"
      ]
     },
     "execution_count": 173,
     "metadata": {},
     "output_type": "execute_result"
    }
   ],
   "source": [
    "CV_ngram3_features.shape"
   ]
  },
  {
   "cell_type": "code",
   "execution_count": 174,
   "metadata": {
    "execution": {
     "iopub.execute_input": "2023-12-30T14:38:03.847848Z",
     "iopub.status.busy": "2023-12-30T14:38:03.846905Z",
     "iopub.status.idle": "2023-12-30T14:38:03.852130Z",
     "shell.execute_reply": "2023-12-30T14:38:03.850989Z",
     "shell.execute_reply.started": "2023-12-30T14:38:03.847809Z"
    },
    "id": "YWaGmmHGNoFw"
   },
   "outputs": [],
   "source": [
    "X=CV_ngram3_features"
   ]
  },
  {
   "cell_type": "code",
   "execution_count": 175,
   "metadata": {
    "execution": {
     "iopub.execute_input": "2023-12-30T14:38:04.997412Z",
     "iopub.status.busy": "2023-12-30T14:38:04.996806Z",
     "iopub.status.idle": "2023-12-30T14:38:05.048190Z",
     "shell.execute_reply": "2023-12-30T14:38:05.047192Z",
     "shell.execute_reply.started": "2023-12-30T14:38:04.997383Z"
    },
    "id": "2cvohNkCNoFx"
   },
   "outputs": [],
   "source": [
    "X_train,X_test,y_train,y_test=train_test_split(X,y,random_state=34)"
   ]
  },
  {
   "cell_type": "code",
   "execution_count": 176,
   "metadata": {
    "colab": {
     "base_uri": "https://localhost:8080/"
    },
    "execution": {
     "iopub.execute_input": "2023-12-30T14:38:23.479473Z",
     "iopub.status.busy": "2023-12-30T14:38:23.478536Z",
     "iopub.status.idle": "2023-12-30T14:38:23.603960Z",
     "shell.execute_reply": "2023-12-30T14:38:23.602648Z",
     "shell.execute_reply.started": "2023-12-30T14:38:23.479436Z"
    },
    "id": "A1--xegoNoF2",
    "outputId": "f67b4990-653e-432f-9574-dd7d9720db49"
   },
   "outputs": [
    {
     "name": "stdout",
     "output_type": "stream",
     "text": [
      "CPU times: user 102 ms, sys: 4.98 ms, total: 107 ms\n",
      "Wall time: 98.7 ms\n"
     ]
    },
    {
     "data": {
      "text/plain": [
       "0.6569781407638722"
      ]
     },
     "execution_count": 176,
     "metadata": {},
     "output_type": "execute_result"
    }
   ],
   "source": [
    "%%time\n",
    "score_mnb=score_func(mnb,X_train,y_train,X_test,y_test)\n",
    "score_mnb"
   ]
  },
  {
   "cell_type": "code",
   "execution_count": 177,
   "metadata": {
    "colab": {
     "base_uri": "https://localhost:8080/"
    },
    "execution": {
     "iopub.execute_input": "2023-12-30T14:38:38.858310Z",
     "iopub.status.busy": "2023-12-30T14:38:38.857915Z",
     "iopub.status.idle": "2023-12-30T14:38:39.137176Z",
     "shell.execute_reply": "2023-12-30T14:38:39.136083Z",
     "shell.execute_reply.started": "2023-12-30T14:38:38.858280Z"
    },
    "id": "sPKdA87ANoF3",
    "outputId": "e04e8980-3567-498f-b92d-37fbdc9556d6"
   },
   "outputs": [
    {
     "name": "stdout",
     "output_type": "stream",
     "text": [
      "CPU times: user 199 ms, sys: 71.9 ms, total: 271 ms\n",
      "Wall time: 270 ms\n"
     ]
    },
    {
     "data": {
      "text/plain": [
       "0.36416046120586115"
      ]
     },
     "execution_count": 177,
     "metadata": {},
     "output_type": "execute_result"
    }
   ],
   "source": [
    "%%time\n",
    "score_gnb=score_func(gnb,X_train,y_train,X_test,y_test)\n",
    "score_gnb"
   ]
  },
  {
   "cell_type": "code",
   "execution_count": 178,
   "metadata": {
    "colab": {
     "base_uri": "https://localhost:8080/"
    },
    "execution": {
     "iopub.execute_input": "2023-12-30T14:38:51.915457Z",
     "iopub.status.busy": "2023-12-30T14:38:51.914753Z",
     "iopub.status.idle": "2023-12-30T14:38:58.490880Z",
     "shell.execute_reply": "2023-12-30T14:38:58.489938Z",
     "shell.execute_reply.started": "2023-12-30T14:38:51.915423Z"
    },
    "id": "W88aErsVNoF3",
    "outputId": "05778fef-2c2f-4180-d504-5114e2f35089"
   },
   "outputs": [
    {
     "name": "stdout",
     "output_type": "stream",
     "text": [
      "CPU times: user 13.1 s, sys: 32.9 ms, total: 13.1 s\n",
      "Wall time: 13.1 s\n"
     ]
    },
    {
     "data": {
      "text/plain": [
       "0.6545760269036752"
      ]
     },
     "execution_count": 178,
     "metadata": {},
     "output_type": "execute_result"
    }
   ],
   "source": [
    "%%time\n",
    "score_rf=score_func(rf,X_train,y_train,X_test,y_test)\n",
    "score_rf"
   ]
  },
  {
   "cell_type": "markdown",
   "metadata": {
    "id": "k0BOhBX1NoF4"
   },
   "source": [
    "## Check using Word2Vec"
   ]
  },
  {
   "cell_type": "code",
   "execution_count": 124,
   "metadata": {
    "execution": {
     "iopub.execute_input": "2023-12-30T14:41:03.902201Z",
     "iopub.status.busy": "2023-12-30T14:41:03.901058Z",
     "iopub.status.idle": "2023-12-30T14:41:03.906699Z",
     "shell.execute_reply": "2023-12-30T14:41:03.905566Z",
     "shell.execute_reply.started": "2023-12-30T14:41:03.902165Z"
    },
    "id": "PO_xrlK-NoF4"
   },
   "outputs": [],
   "source": [
    "from gensim.models import Word2Vec"
   ]
  },
  {
   "cell_type": "code",
   "execution_count": 125,
   "metadata": {
    "execution": {
     "iopub.execute_input": "2023-12-30T14:44:45.134137Z",
     "iopub.status.busy": "2023-12-30T14:44:45.133327Z",
     "iopub.status.idle": "2023-12-30T14:44:45.339115Z",
     "shell.execute_reply": "2023-12-30T14:44:45.338259Z",
     "shell.execute_reply.started": "2023-12-30T14:44:45.134094Z"
    },
    "id": "IWN-eqIdNoF4"
   },
   "outputs": [],
   "source": [
    "make_cbow_list=[ls1.split() for ls1 in cleaned_corpus]"
   ]
  },
  {
   "cell_type": "code",
   "execution_count": 126,
   "metadata": {
    "execution": {
     "iopub.execute_input": "2023-12-30T14:46:14.659542Z",
     "iopub.status.busy": "2023-12-30T14:46:14.658728Z",
     "iopub.status.idle": "2023-12-30T14:46:22.212221Z",
     "shell.execute_reply": "2023-12-30T14:46:22.211376Z",
     "shell.execute_reply.started": "2023-12-30T14:46:14.659509Z"
    },
    "id": "1_WKgClqNoF4"
   },
   "outputs": [],
   "source": [
    "cbow_model=Word2Vec(make_cbow_list,vector_size=100,window=5,min_count=5)"
   ]
  },
  {
   "cell_type": "code",
   "execution_count": 127,
   "metadata": {
    "colab": {
     "base_uri": "https://localhost:8080/"
    },
    "execution": {
     "iopub.execute_input": "2023-12-30T14:46:46.239078Z",
     "iopub.status.busy": "2023-12-30T14:46:46.238520Z",
     "iopub.status.idle": "2023-12-30T14:46:46.246068Z",
     "shell.execute_reply": "2023-12-30T14:46:46.245082Z",
     "shell.execute_reply.started": "2023-12-30T14:46:46.239042Z"
    },
    "id": "hhXYaoxhNoF5",
    "outputId": "3dcdc101-3e18-4f50-f56e-bf8f4e754de6"
   },
   "outputs": [
    {
     "data": {
      "text/plain": [
       "['bank',\n",
       " 'loan',\n",
       " 'employee',\n",
       " 'card',\n",
       " 'post',\n",
       " 'service',\n",
       " 'amount',\n",
       " 'payment',\n",
       " 'time',\n",
       " 'day',\n",
       " 'insurance',\n",
       " 'ruble',\n",
       " 'money',\n",
       " 'application',\n",
       " 'account',\n",
       " 'call',\n",
       " 'credit',\n",
       " 'office',\n",
       " 'pay',\n",
       " 'month']"
      ]
     },
     "execution_count": 127,
     "metadata": {},
     "output_type": "execute_result"
    }
   ],
   "source": [
    "cbow_model.wv.index_to_key[:20]"
   ]
  },
  {
   "cell_type": "code",
   "execution_count": 128,
   "metadata": {
    "colab": {
     "base_uri": "https://localhost:8080/"
    },
    "execution": {
     "iopub.execute_input": "2023-12-30T14:46:59.976368Z",
     "iopub.status.busy": "2023-12-30T14:46:59.975428Z",
     "iopub.status.idle": "2023-12-30T14:46:59.982609Z",
     "shell.execute_reply": "2023-12-30T14:46:59.981613Z",
     "shell.execute_reply.started": "2023-12-30T14:46:59.976336Z"
    },
    "id": "LikBXAtKNoF5",
    "outputId": "8d0a8f33-4ec6-4d80-b65c-190702cdbb5b"
   },
   "outputs": [
    {
     "data": {
      "text/plain": [
       "7687"
      ]
     },
     "execution_count": 128,
     "metadata": {},
     "output_type": "execute_result"
    }
   ],
   "source": [
    "len(cbow_model.wv.index_to_key)"
   ]
  },
  {
   "cell_type": "code",
   "execution_count": 129,
   "metadata": {
    "colab": {
     "base_uri": "https://localhost:8080/"
    },
    "execution": {
     "iopub.execute_input": "2023-12-30T15:06:05.348547Z",
     "iopub.status.busy": "2023-12-30T15:06:05.347724Z",
     "iopub.status.idle": "2023-12-30T15:06:05.365445Z",
     "shell.execute_reply": "2023-12-30T15:06:05.364367Z",
     "shell.execute_reply.started": "2023-12-30T15:06:05.348464Z"
    },
    "id": "EFFoWS8cNoF6",
    "outputId": "755a0d8f-cbf9-4c2b-a03c-88b112895abf"
   },
   "outputs": [
    {
     "data": {
      "text/plain": [
       "array([ 0.42228442, -0.6345212 , -0.3444068 ,  0.8161482 ,  2.0475247 ,\n",
       "       -1.0700973 , -0.865225  ,  0.31002855, -0.8767119 , -0.58637226,\n",
       "        0.618032  , -2.6603646 ,  0.398283  ,  1.558695  ,  0.6100309 ,\n",
       "        1.6848042 , -0.15566789,  2.5152812 , -0.23329423, -0.814829  ,\n",
       "       -0.01044915, -1.0097812 ,  2.2563794 , -2.1262786 ,  1.9337825 ,\n",
       "        2.2892795 , -0.32681173,  1.234957  ,  0.6490935 , -0.13631539,\n",
       "        0.37660772, -1.4571925 , -1.3613527 , -0.6491524 ,  0.1758028 ,\n",
       "       -2.0611546 , -0.17100738, -0.03839107,  1.8080064 ,  0.5732008 ,\n",
       "        0.10706946, -2.0835156 , -0.62702584, -0.5156015 , -0.19157876,\n",
       "        2.0816672 ,  1.3098786 ,  0.78014344,  1.6763841 ,  0.78969413,\n",
       "        0.5382841 , -2.5309792 , -2.0671208 , -0.32535955, -1.2959394 ,\n",
       "        0.65722644, -0.41713125,  0.83690083, -0.7860731 , -0.8305331 ,\n",
       "        0.98192203,  2.3868418 ,  0.09445327, -0.6524211 , -1.118506  ,\n",
       "        0.04572982,  0.44597456, -0.6235666 ,  2.5301576 ,  0.87170637,\n",
       "        0.69230133, -0.8922748 ,  1.3365057 ,  0.3286227 , -2.665263  ,\n",
       "       -1.4179571 , -1.6342565 , -0.69273424,  2.5151148 , -0.80205625,\n",
       "       -0.11580904, -1.5071758 ,  1.20087   , -1.5876517 ,  0.9677961 ,\n",
       "       -1.1925963 ,  1.2062067 , -0.88172513, -0.2987787 , -2.6399934 ,\n",
       "        0.6578861 ,  0.38464126,  0.45433104, -1.9151279 , -2.863616  ,\n",
       "        0.39844325, -0.7602909 , -0.4022856 , -0.8678423 , -2.1346457 ],\n",
       "      dtype=float32)"
      ]
     },
     "execution_count": 129,
     "metadata": {},
     "output_type": "execute_result"
    }
   ],
   "source": [
    "cbow_model.wv.get_vector('loan')"
   ]
  },
  {
   "cell_type": "code",
   "execution_count": 130,
   "metadata": {
    "execution": {
     "iopub.execute_input": "2023-12-30T15:08:48.529670Z",
     "iopub.status.busy": "2023-12-30T15:08:48.528772Z",
     "iopub.status.idle": "2023-12-30T15:08:48.535349Z",
     "shell.execute_reply": "2023-12-30T15:08:48.534321Z",
     "shell.execute_reply.started": "2023-12-30T15:08:48.529629Z"
    },
    "id": "XoeNlGwnNoF6"
   },
   "outputs": [],
   "source": [
    "## check for 1st data\n",
    "cbow_1=[word for word in cleaned_corpus[0].split() if word in cbow_model.wv.index_to_key]"
   ]
  },
  {
   "cell_type": "code",
   "execution_count": 131,
   "metadata": {
    "colab": {
     "base_uri": "https://localhost:8080/"
    },
    "execution": {
     "iopub.execute_input": "2023-12-30T15:09:19.975610Z",
     "iopub.status.busy": "2023-12-30T15:09:19.974867Z",
     "iopub.status.idle": "2023-12-30T15:09:19.981657Z",
     "shell.execute_reply": "2023-12-30T15:09:19.980709Z",
     "shell.execute_reply.started": "2023-12-30T15:09:19.975579Z"
    },
    "id": "UwxOS8NiNoF7",
    "outputId": "9cc50cdf-8027-4d05-d1af-51b7da225d35"
   },
   "outputs": [
    {
     "data": {
      "text/plain": [
       "59"
      ]
     },
     "execution_count": 131,
     "metadata": {},
     "output_type": "execute_result"
    }
   ],
   "source": [
    "len(cbow_1)"
   ]
  },
  {
   "cell_type": "code",
   "execution_count": 132,
   "metadata": {
    "colab": {
     "base_uri": "https://localhost:8080/"
    },
    "execution": {
     "iopub.execute_input": "2023-12-30T15:09:12.094555Z",
     "iopub.status.busy": "2023-12-30T15:09:12.094144Z",
     "iopub.status.idle": "2023-12-30T15:09:12.101115Z",
     "shell.execute_reply": "2023-12-30T15:09:12.100038Z",
     "shell.execute_reply.started": "2023-12-30T15:09:12.094522Z"
    },
    "id": "TjLmie_cNoF7",
    "outputId": "b4a7636a-f153-4dc1-e560-abd3d4495304"
   },
   "outputs": [
    {
     "data": {
      "text/plain": [
       "405"
      ]
     },
     "execution_count": 132,
     "metadata": {},
     "output_type": "execute_result"
    }
   ],
   "source": [
    "len(cleaned_corpus[0])"
   ]
  },
  {
   "cell_type": "code",
   "execution_count": 133,
   "metadata": {
    "execution": {
     "iopub.execute_input": "2023-12-30T15:11:21.256104Z",
     "iopub.status.busy": "2023-12-30T15:11:21.255420Z",
     "iopub.status.idle": "2023-12-30T15:11:21.260814Z",
     "shell.execute_reply": "2023-12-30T15:11:21.259855Z",
     "shell.execute_reply.started": "2023-12-30T15:11:21.256068Z"
    },
    "id": "HwJ4QydYNoF8"
   },
   "outputs": [],
   "source": [
    "## vector respresentation of word in 1st feedback\n",
    "wv1=[]\n",
    "for word in cbow_1:\n",
    "    wv1.append(cbow_model.wv.get_vector(word))"
   ]
  },
  {
   "cell_type": "code",
   "execution_count": 134,
   "metadata": {
    "colab": {
     "base_uri": "https://localhost:8080/"
    },
    "execution": {
     "iopub.execute_input": "2023-12-30T15:22:33.062326Z",
     "iopub.status.busy": "2023-12-30T15:22:33.061321Z",
     "iopub.status.idle": "2023-12-30T15:22:33.071483Z",
     "shell.execute_reply": "2023-12-30T15:22:33.070480Z",
     "shell.execute_reply.started": "2023-12-30T15:22:33.062293Z"
    },
    "id": "NEmdltIZNoF9",
    "outputId": "af75356d-32ff-488a-8b17-ad52eab373cf"
   },
   "outputs": [
    {
     "data": {
      "text/plain": [
       "[array([ 0.7370736 , -1.222403  , -0.21143688, -1.1204801 ,  2.8434546 ,\n",
       "        -1.6418188 , -1.2599328 , -2.043153  , -2.6563485 , -0.29710168,\n",
       "        -1.414472  ,  3.473744  , -1.1048782 ,  1.5695877 ,  0.75568384,\n",
       "         0.02951171, -0.80201364, -0.074978  , -1.717496  , -0.62156653,\n",
       "         0.35674384, -1.4256463 ,  1.063389  , -1.0102901 ,  0.9621835 ,\n",
       "        -0.18828522, -0.6272441 ,  0.07943172, -0.00808346, -2.024517  ,\n",
       "        -1.9094076 , -0.7091391 ,  1.0929775 ,  0.11582025,  1.2399374 ,\n",
       "         0.15016687, -2.2714405 ,  2.2038105 , -0.39978752, -0.7339253 ,\n",
       "        -0.12612608,  0.31847018,  2.526378  ,  0.8444075 ,  0.6809587 ,\n",
       "        -2.0167747 , -0.14530177, -0.76645976,  0.6923735 ,  0.7246957 ,\n",
       "         0.05222278,  0.7135924 ,  0.96682084,  1.440281  , -0.86821264,\n",
       "        -1.6704762 , -0.08496457,  1.0823854 , -0.4457585 , -1.5738707 ,\n",
       "         2.7886236 ,  1.4114382 , -0.2751751 ,  0.80847174, -0.2303822 ,\n",
       "         0.9194476 ,  1.7072437 , -0.15593792, -0.5284652 ,  0.40785074,\n",
       "        -0.17320316, -0.81407017,  0.5291068 ,  0.35089412, -1.5031362 ,\n",
       "        -2.139882  , -1.7521564 , -0.27488214,  0.52011234,  1.2838494 ,\n",
       "         0.32503834,  1.1888266 , -1.3319168 , -0.3055853 ,  1.8097031 ,\n",
       "         0.8728221 ,  1.8824905 , -0.5310077 , -1.8416648 , -0.22315073,\n",
       "         1.1539906 , -0.43584204,  0.16758989, -2.2028224 ,  1.5325369 ,\n",
       "         0.72319055, -0.7896704 , -1.0108278 , -0.45672616, -0.6214339 ],\n",
       "       dtype=float32),\n",
       " array([ 0.42228442, -0.6345212 , -0.3444068 ,  0.8161482 ,  2.0475247 ,\n",
       "        -1.0700973 , -0.865225  ,  0.31002855, -0.8767119 , -0.58637226,\n",
       "         0.618032  , -2.6603646 ,  0.398283  ,  1.558695  ,  0.6100309 ,\n",
       "         1.6848042 , -0.15566789,  2.5152812 , -0.23329423, -0.814829  ,\n",
       "        -0.01044915, -1.0097812 ,  2.2563794 , -2.1262786 ,  1.9337825 ,\n",
       "         2.2892795 , -0.32681173,  1.234957  ,  0.6490935 , -0.13631539,\n",
       "         0.37660772, -1.4571925 , -1.3613527 , -0.6491524 ,  0.1758028 ,\n",
       "        -2.0611546 , -0.17100738, -0.03839107,  1.8080064 ,  0.5732008 ,\n",
       "         0.10706946, -2.0835156 , -0.62702584, -0.5156015 , -0.19157876,\n",
       "         2.0816672 ,  1.3098786 ,  0.78014344,  1.6763841 ,  0.78969413,\n",
       "         0.5382841 , -2.5309792 , -2.0671208 , -0.32535955, -1.2959394 ,\n",
       "         0.65722644, -0.41713125,  0.83690083, -0.7860731 , -0.8305331 ,\n",
       "         0.98192203,  2.3868418 ,  0.09445327, -0.6524211 , -1.118506  ,\n",
       "         0.04572982,  0.44597456, -0.6235666 ,  2.5301576 ,  0.87170637,\n",
       "         0.69230133, -0.8922748 ,  1.3365057 ,  0.3286227 , -2.665263  ,\n",
       "        -1.4179571 , -1.6342565 , -0.69273424,  2.5151148 , -0.80205625,\n",
       "        -0.11580904, -1.5071758 ,  1.20087   , -1.5876517 ,  0.9677961 ,\n",
       "        -1.1925963 ,  1.2062067 , -0.88172513, -0.2987787 , -2.6399934 ,\n",
       "         0.6578861 ,  0.38464126,  0.45433104, -1.9151279 , -2.863616  ,\n",
       "         0.39844325, -0.7602909 , -0.4022856 , -0.8678423 , -2.1346457 ],\n",
       "       dtype=float32)]"
      ]
     },
     "execution_count": 134,
     "metadata": {},
     "output_type": "execute_result"
    }
   ],
   "source": [
    "wv1[:2]"
   ]
  },
  {
   "cell_type": "code",
   "execution_count": 135,
   "metadata": {
    "execution": {
     "iopub.execute_input": "2023-12-30T15:12:39.144998Z",
     "iopub.status.busy": "2023-12-30T15:12:39.144610Z",
     "iopub.status.idle": "2023-12-30T15:12:39.149861Z",
     "shell.execute_reply": "2023-12-30T15:12:39.148895Z",
     "shell.execute_reply.started": "2023-12-30T15:12:39.144967Z"
    },
    "id": "vF8wuHJFNoF9"
   },
   "outputs": [],
   "source": [
    "wv1=np.array(wv1)"
   ]
  },
  {
   "cell_type": "code",
   "execution_count": 136,
   "metadata": {
    "colab": {
     "base_uri": "https://localhost:8080/"
    },
    "execution": {
     "iopub.execute_input": "2023-12-30T15:12:43.000015Z",
     "iopub.status.busy": "2023-12-30T15:12:42.999259Z",
     "iopub.status.idle": "2023-12-30T15:12:43.007576Z",
     "shell.execute_reply": "2023-12-30T15:12:43.006474Z",
     "shell.execute_reply.started": "2023-12-30T15:12:42.999985Z"
    },
    "id": "5TTIEWuoNoF-",
    "outputId": "b3afce87-74ac-4480-efc5-3a9b4176b584"
   },
   "outputs": [
    {
     "data": {
      "text/plain": [
       "array([[ 0.7370736 , -1.222403  , -0.21143688, ..., -1.0108278 ,\n",
       "        -0.45672616, -0.6214339 ],\n",
       "       [ 0.42228442, -0.6345212 , -0.3444068 , ..., -0.4022856 ,\n",
       "        -0.8678423 , -2.1346457 ],\n",
       "       [ 3.0804062 , -1.9270092 ,  0.05550264, ..., -2.2725933 ,\n",
       "        -0.7970051 , -0.07731313],\n",
       "       ...,\n",
       "       [-0.8835353 , -0.18901516, -0.03080984, ..., -2.069568  ,\n",
       "         0.8526002 ,  0.549609  ],\n",
       "       [-0.14039476, -0.70765275,  0.7112259 , ..., -0.7434349 ,\n",
       "         0.7676774 ,  0.00972113],\n",
       "       [ 0.5348183 ,  0.8357909 , -1.465729  , ..., -0.5608622 ,\n",
       "         3.8474944 , -1.3895802 ]], dtype=float32)"
      ]
     },
     "execution_count": 136,
     "metadata": {},
     "output_type": "execute_result"
    }
   ],
   "source": [
    "wv1"
   ]
  },
  {
   "cell_type": "code",
   "execution_count": 138,
   "metadata": {
    "colab": {
     "base_uri": "https://localhost:8080/"
    },
    "execution": {
     "iopub.execute_input": "2023-12-30T15:13:01.455813Z",
     "iopub.status.busy": "2023-12-30T15:13:01.455087Z",
     "iopub.status.idle": "2023-12-30T15:13:01.463221Z",
     "shell.execute_reply": "2023-12-30T15:13:01.462278Z",
     "shell.execute_reply.started": "2023-12-30T15:13:01.455780Z"
    },
    "id": "b98hLu4jNoF-",
    "outputId": "c7f8ba99-c650-4d30-b7d3-ded522ecd0a3"
   },
   "outputs": [
    {
     "data": {
      "text/plain": [
       "array([ 0.6539613 , -0.6117571 , -0.09667073, -0.01497665,  0.3790368 ,\n",
       "       -0.30512962, -0.6338285 , -0.08284456, -0.62908274, -0.28831476,\n",
       "        0.28806168,  0.22041382,  0.23912813,  0.26311648,  0.60444474,\n",
       "        0.2833961 , -0.429164  ,  0.5833791 , -0.0066658 , -0.2648292 ,\n",
       "       -0.19096315, -0.54704887, -0.05435373, -0.76936966,  0.04689727,\n",
       "        0.7011302 , -0.26941103, -0.2099316 ,  0.37135783, -0.43042323,\n",
       "       -0.5926502 ,  0.21629664, -0.5660523 ,  0.60537314, -0.23192853,\n",
       "       -0.51813823, -0.9364934 , -0.17577364,  0.20699689, -0.11728603,\n",
       "       -0.18198425, -0.29390305,  0.2752298 ,  0.31347308,  0.17726377,\n",
       "        0.5637229 ,  0.09792245, -0.06090636,  0.2505936 , -0.02596929,\n",
       "        0.00466307, -0.46325725, -0.42257974, -0.17425503, -0.30419236,\n",
       "        0.11483724, -0.69277906,  0.24892771, -0.6084726 , -0.55364287,\n",
       "        0.13458975,  0.543631  , -0.14285515,  0.32211494, -0.95092314,\n",
       "       -0.12477133, -0.3795406 , -0.23875402,  0.26769394,  0.28028747,\n",
       "       -0.21695037,  0.33613488,  0.55162567, -0.36432678, -1.1861131 ,\n",
       "        0.14599745,  0.16984439, -0.26905662,  0.7287494 , -0.04054946,\n",
       "        0.0434138 , -0.87852114, -0.3995975 , -0.3516425 ,  0.35675013,\n",
       "       -0.17010674,  0.24214104, -0.7107679 , -0.4994817 , -0.5041668 ,\n",
       "        0.32392263,  0.06268101, -0.5443208 ,  0.5734556 , -0.5275037 ,\n",
       "       -0.22808291, -0.34096524, -0.57226825,  0.02551039, -0.39528626],\n",
       "      dtype=float32)"
      ]
     },
     "execution_count": 138,
     "metadata": {},
     "output_type": "execute_result"
    }
   ],
   "source": [
    "# This will give mean of vectors of words  in 1st feedback this has (ingle array of 100 dimension for 1st sentence or feedback)\n",
    "wv1.mean(axis=0)"
   ]
  },
  {
   "cell_type": "code",
   "execution_count": 139,
   "metadata": {
    "execution": {
     "iopub.execute_input": "2023-12-30T15:13:52.038726Z",
     "iopub.status.busy": "2023-12-30T15:13:52.037960Z",
     "iopub.status.idle": "2023-12-30T15:13:52.045129Z",
     "shell.execute_reply": "2023-12-30T15:13:52.043996Z",
     "shell.execute_reply.started": "2023-12-30T15:13:52.038692Z"
    },
    "id": "aIgaflMONoF-"
   },
   "outputs": [],
   "source": [
    "def document_vector(doc):\n",
    "    \"\"\"Create document vectors by averaging word vectors. Remove out-of-vocabulary words.\"\"\"\n",
    "\n",
    "    # doc1 contains those words of the document which are included in the vocab\n",
    "    doc1 = [word for word in doc.split() if word in cbow_model.wv.index_to_key]\n",
    "\n",
    "    wv1 = []  # this will contain the WE of all the vocab words from the doc\n",
    "    for word in doc1:\n",
    "        wv1.append(cbow_model.wv.get_vector(word))\n",
    "    wv1_ = np.array(wv1)\n",
    "    wv1_mean = wv1_.mean(axis=0)\n",
    "    return wv1_mean\n"
   ]
  },
  {
   "cell_type": "code",
   "execution_count": 140,
   "metadata": {
    "execution": {
     "iopub.execute_input": "2023-12-30T15:17:30.450679Z",
     "iopub.status.busy": "2023-12-30T15:17:30.450275Z",
     "iopub.status.idle": "2023-12-30T15:17:50.027699Z",
     "shell.execute_reply": "2023-12-30T15:17:50.026859Z",
     "shell.execute_reply.started": "2023-12-30T15:17:30.450647Z"
    },
    "id": "8TjTgswSNoF_"
   },
   "outputs": [],
   "source": [
    "cbow_corpus=[]\n",
    "for sent in cleaned_corpus:\n",
    "    sent_wv=document_vector(sent)\n",
    "    cbow_corpus.append(sent_wv)"
   ]
  },
  {
   "cell_type": "code",
   "execution_count": 141,
   "metadata": {
    "execution": {
     "iopub.execute_input": "2023-12-30T15:19:08.841668Z",
     "iopub.status.busy": "2023-12-30T15:19:08.841180Z",
     "iopub.status.idle": "2023-12-30T15:19:08.857462Z",
     "shell.execute_reply": "2023-12-30T15:19:08.856674Z",
     "shell.execute_reply.started": "2023-12-30T15:19:08.841624Z"
    },
    "id": "8DHpMh1FNoF_"
   },
   "outputs": [],
   "source": [
    "cbow_corpus_array=np.array(cbow_corpus)"
   ]
  },
  {
   "cell_type": "code",
   "execution_count": 142,
   "metadata": {
    "colab": {
     "base_uri": "https://localhost:8080/"
    },
    "execution": {
     "iopub.execute_input": "2023-12-30T15:19:21.958723Z",
     "iopub.status.busy": "2023-12-30T15:19:21.958091Z",
     "iopub.status.idle": "2023-12-30T15:19:21.964701Z",
     "shell.execute_reply": "2023-12-30T15:19:21.963692Z",
     "shell.execute_reply.started": "2023-12-30T15:19:21.958690Z"
    },
    "id": "gO5wieZ2NoGA",
    "outputId": "f30e3a34-96ce-4abc-831a-1d77ee88bbb0"
   },
   "outputs": [
    {
     "data": {
      "text/plain": [
       "(16651, 100)"
      ]
     },
     "execution_count": 142,
     "metadata": {},
     "output_type": "execute_result"
    }
   ],
   "source": [
    "cbow_corpus_array.shape"
   ]
  },
  {
   "cell_type": "code",
   "execution_count": 144,
   "metadata": {
    "colab": {
     "base_uri": "https://localhost:8080/"
    },
    "execution": {
     "iopub.execute_input": "2023-12-30T15:19:36.300777Z",
     "iopub.status.busy": "2023-12-30T15:19:36.300410Z",
     "iopub.status.idle": "2023-12-30T15:19:36.307417Z",
     "shell.execute_reply": "2023-12-30T15:19:36.306378Z",
     "shell.execute_reply.started": "2023-12-30T15:19:36.300748Z"
    },
    "id": "Sgi6EywcNoGA",
    "outputId": "29fc8295-efec-4255-a60a-f5d1a407a37d"
   },
   "outputs": [
    {
     "data": {
      "text/plain": [
       "(100,)"
      ]
     },
     "execution_count": 144,
     "metadata": {},
     "output_type": "execute_result"
    }
   ],
   "source": [
    "cbow_corpus_array[0].shape"
   ]
  },
  {
   "cell_type": "code",
   "execution_count": 145,
   "metadata": {
    "colab": {
     "base_uri": "https://localhost:8080/"
    },
    "id": "gcatKrdrVMBc",
    "outputId": "b4491b97-66b3-4db1-ce53-ab0f8b60083e"
   },
   "outputs": [
    {
     "data": {
      "text/plain": [
       "array([ 0.6539613 , -0.6117571 , -0.09667073, -0.01497665,  0.3790368 ,\n",
       "       -0.30512962, -0.6338285 , -0.08284456, -0.62908274, -0.28831476,\n",
       "        0.28806168,  0.22041382,  0.23912813,  0.26311648,  0.60444474,\n",
       "        0.2833961 , -0.429164  ,  0.5833791 , -0.0066658 , -0.2648292 ,\n",
       "       -0.19096315, -0.54704887, -0.05435373, -0.76936966,  0.04689727,\n",
       "        0.7011302 , -0.26941103, -0.2099316 ,  0.37135783, -0.43042323,\n",
       "       -0.5926502 ,  0.21629664, -0.5660523 ,  0.60537314, -0.23192853,\n",
       "       -0.51813823, -0.9364934 , -0.17577364,  0.20699689, -0.11728603,\n",
       "       -0.18198425, -0.29390305,  0.2752298 ,  0.31347308,  0.17726377,\n",
       "        0.5637229 ,  0.09792245, -0.06090636,  0.2505936 , -0.02596929,\n",
       "        0.00466307, -0.46325725, -0.42257974, -0.17425503, -0.30419236,\n",
       "        0.11483724, -0.69277906,  0.24892771, -0.6084726 , -0.55364287,\n",
       "        0.13458975,  0.543631  , -0.14285515,  0.32211494, -0.95092314,\n",
       "       -0.12477133, -0.3795406 , -0.23875402,  0.26769394,  0.28028747,\n",
       "       -0.21695037,  0.33613488,  0.55162567, -0.36432678, -1.1861131 ,\n",
       "        0.14599745,  0.16984439, -0.26905662,  0.7287494 , -0.04054946,\n",
       "        0.0434138 , -0.87852114, -0.3995975 , -0.3516425 ,  0.35675013,\n",
       "       -0.17010674,  0.24214104, -0.7107679 , -0.4994817 , -0.5041668 ,\n",
       "        0.32392263,  0.06268101, -0.5443208 ,  0.5734556 , -0.5275037 ,\n",
       "       -0.22808291, -0.34096524, -0.57226825,  0.02551039, -0.39528626],\n",
       "      dtype=float32)"
      ]
     },
     "execution_count": 145,
     "metadata": {},
     "output_type": "execute_result"
    }
   ],
   "source": [
    "cbow_corpus_array[0]"
   ]
  },
  {
   "cell_type": "code",
   "execution_count": 146,
   "metadata": {
    "id": "gj4398GAV6dd"
   },
   "outputs": [],
   "source": [
    "tweets_vec = np.ones((len(cbow_corpus_array), 100))*np.nan"
   ]
  },
  {
   "cell_type": "code",
   "execution_count": 148,
   "metadata": {
    "colab": {
     "base_uri": "https://localhost:8080/"
    },
    "id": "IIPWnNW-WANq",
    "outputId": "10d606fc-dfc2-4fe4-c625-0d8fac1c2839"
   },
   "outputs": [
    {
     "data": {
      "text/plain": [
       "(16651, 100)"
      ]
     },
     "execution_count": 148,
     "metadata": {},
     "output_type": "execute_result"
    }
   ],
   "source": [
    "tweets_vec.shape"
   ]
  },
  {
   "cell_type": "code",
   "execution_count": 150,
   "metadata": {
    "id": "nJGOhrOlWNXl"
   },
   "outputs": [],
   "source": [
    "for i in range(tweets_vec.shape[0]):\n",
    "    tweets_vec[i,:] = cbow_corpus_array[i]"
   ]
  },
  {
   "cell_type": "code",
   "execution_count": 151,
   "metadata": {
    "colab": {
     "base_uri": "https://localhost:8080/"
    },
    "id": "RPj1O9RGWOUF",
    "outputId": "78cc5816-6376-4f93-aa84-4dc0f0234853"
   },
   "outputs": [
    {
     "data": {
      "text/plain": [
       "array([[ 0.6539613 , -0.6117571 , -0.09667073, ..., -0.57226825,\n",
       "         0.02551039, -0.39528626],\n",
       "       [-0.01915599, -0.28321308, -0.04483091, ...,  0.10211785,\n",
       "        -0.11881617, -0.25778282],\n",
       "       [ 0.31818613, -0.12104949, -0.34439254, ..., -0.1810715 ,\n",
       "         0.59306657, -0.5024752 ],\n",
       "       ...,\n",
       "       [ 0.54097742, -0.56539643, -0.19288988, ..., -0.68054992,\n",
       "        -0.09351246, -0.43680781],\n",
       "       [-0.02224956, -0.05737776,  0.05387461, ...,  0.1103371 ,\n",
       "         0.38225633, -0.3815482 ],\n",
       "       [ 0.52779305, -0.28532574, -0.38083017, ..., -0.43229172,\n",
       "         0.42896533, -0.29579639]])"
      ]
     },
     "execution_count": 151,
     "metadata": {},
     "output_type": "execute_result"
    }
   ],
   "source": [
    "tweets_vec"
   ]
  },
  {
   "cell_type": "code",
   "execution_count": 152,
   "metadata": {
    "colab": {
     "base_uri": "https://localhost:8080/"
    },
    "id": "dy-EWSk4WOgH",
    "outputId": "bdc53dc8-7496-485a-e462-40ec7f49129c"
   },
   "outputs": [
    {
     "data": {
      "text/plain": [
       "array([[ 0.6539613 , -0.6117571 , -0.09667073, ..., -0.57226825,\n",
       "         0.02551039, -0.39528626],\n",
       "       [-0.01915599, -0.28321308, -0.04483091, ...,  0.10211785,\n",
       "        -0.11881617, -0.25778282],\n",
       "       [ 0.31818613, -0.12104949, -0.34439254, ..., -0.1810715 ,\n",
       "         0.5930666 , -0.5024752 ],\n",
       "       ...,\n",
       "       [ 0.5409774 , -0.5653964 , -0.19288988, ..., -0.6805499 ,\n",
       "        -0.09351246, -0.4368078 ],\n",
       "       [-0.02224956, -0.05737776,  0.05387461, ...,  0.1103371 ,\n",
       "         0.38225633, -0.3815482 ],\n",
       "       [ 0.52779305, -0.28532574, -0.38083017, ..., -0.43229172,\n",
       "         0.42896533, -0.2957964 ]], dtype=float32)"
      ]
     },
     "execution_count": 152,
     "metadata": {},
     "output_type": "execute_result"
    }
   ],
   "source": [
    "cbow_corpus_array"
   ]
  },
  {
   "cell_type": "code",
   "execution_count": 153,
   "metadata": {
    "execution": {
     "iopub.execute_input": "2023-12-30T15:21:52.489340Z",
     "iopub.status.busy": "2023-12-30T15:21:52.488940Z",
     "iopub.status.idle": "2023-12-30T15:21:52.494166Z",
     "shell.execute_reply": "2023-12-30T15:21:52.493152Z",
     "shell.execute_reply.started": "2023-12-30T15:21:52.489309Z"
    },
    "id": "w6ww_qiONoGA"
   },
   "outputs": [],
   "source": [
    "X=pd.DataFrame(cbow_corpus_array)"
   ]
  },
  {
   "cell_type": "code",
   "execution_count": 155,
   "metadata": {
    "colab": {
     "base_uri": "https://localhost:8080/"
    },
    "id": "XINP2IcRW5mp",
    "outputId": "8d2f6307-27cd-4602-b085-27707e1ff564"
   },
   "outputs": [
    {
     "data": {
      "text/plain": [
       "(16651, 100)"
      ]
     },
     "execution_count": 155,
     "metadata": {},
     "output_type": "execute_result"
    }
   ],
   "source": [
    "X.shape"
   ]
  },
  {
   "cell_type": "code",
   "execution_count": 158,
   "metadata": {
    "colab": {
     "base_uri": "https://localhost:8080/"
    },
    "id": "CNeEOP6dWzL_",
    "outputId": "53991fd3-8847-45af-e261-b0211a3dc059"
   },
   "outputs": [
    {
     "data": {
      "text/plain": [
       "0"
      ]
     },
     "execution_count": 158,
     "metadata": {},
     "output_type": "execute_result"
    }
   ],
   "source": [
    "X.isnull().sum().sum()"
   ]
  },
  {
   "cell_type": "code",
   "execution_count": 159,
   "metadata": {
    "execution": {
     "iopub.execute_input": "2023-12-30T15:23:13.449434Z",
     "iopub.status.busy": "2023-12-30T15:23:13.448927Z",
     "iopub.status.idle": "2023-12-30T15:23:13.470908Z",
     "shell.execute_reply": "2023-12-30T15:23:13.469879Z",
     "shell.execute_reply.started": "2023-12-30T15:23:13.449397Z"
    },
    "id": "f_mhLakmNoGB"
   },
   "outputs": [],
   "source": [
    "X_train,X_test,y_train,y_test=train_test_split(X,y,test_size=.2,random_state=42,stratify=y)"
   ]
  },
  {
   "cell_type": "code",
   "execution_count": 160,
   "metadata": {
    "colab": {
     "base_uri": "https://localhost:8080/"
    },
    "execution": {
     "iopub.execute_input": "2023-12-30T15:23:42.521533Z",
     "iopub.status.busy": "2023-12-30T15:23:42.520645Z",
     "iopub.status.idle": "2023-12-30T15:23:42.547684Z",
     "shell.execute_reply": "2023-12-30T15:23:42.546772Z",
     "shell.execute_reply.started": "2023-12-30T15:23:42.521501Z"
    },
    "id": "0C9KD5-yNoGC",
    "outputId": "b8b79bbd-9ab0-4f8c-a4bb-81e20ecd158e"
   },
   "outputs": [
    {
     "name": "stdout",
     "output_type": "stream",
     "text": [
      "CPU times: user 20.5 ms, sys: 46 µs, total: 20.6 ms\n",
      "Wall time: 20.3 ms\n"
     ]
    },
    {
     "data": {
      "text/plain": [
       "0.6394476133293305"
      ]
     },
     "execution_count": 160,
     "metadata": {},
     "output_type": "execute_result"
    }
   ],
   "source": [
    "%%time\n",
    "score_gnb=score_func(gnb,X_train,y_train,X_test,y_test)\n",
    "score_gnb"
   ]
  },
  {
   "cell_type": "code",
   "execution_count": 161,
   "metadata": {
    "colab": {
     "base_uri": "https://localhost:8080/"
    },
    "execution": {
     "iopub.execute_input": "2023-12-30T15:23:58.833421Z",
     "iopub.status.busy": "2023-12-30T15:23:58.832407Z",
     "iopub.status.idle": "2023-12-30T15:24:13.126078Z",
     "shell.execute_reply": "2023-12-30T15:24:13.125039Z",
     "shell.execute_reply.started": "2023-12-30T15:23:58.833385Z"
    },
    "id": "NKp_44wNNoGC",
    "outputId": "524aa5f5-4890-4e85-fb6b-94d63723d8a4"
   },
   "outputs": [
    {
     "name": "stdout",
     "output_type": "stream",
     "text": [
      "CPU times: user 17.3 s, sys: 13.3 ms, total: 17.3 s\n",
      "Wall time: 17.3 s\n"
     ]
    },
    {
     "data": {
      "text/plain": [
       "0.6613629540678475"
      ]
     },
     "execution_count": 161,
     "metadata": {},
     "output_type": "execute_result"
    }
   ],
   "source": [
    "%%time\n",
    "score_rf=score_func(rf,X_train,y_train,X_test,y_test)\n",
    "score_rf"
   ]
  },
  {
   "cell_type": "code",
   "execution_count": 162,
   "metadata": {
    "colab": {
     "base_uri": "https://localhost:8080/"
    },
    "id": "X-4IRUFlNoGD",
    "outputId": "9439365b-5cb8-4c2b-bbf3-c9a4cbbda029"
   },
   "outputs": [
    {
     "name": "stdout",
     "output_type": "stream",
     "text": [
      "CPU times: user 26.6 ms, sys: 255 µs, total: 26.8 ms\n",
      "Wall time: 55.2 ms\n"
     ]
    },
    {
     "data": {
      "text/plain": [
       "0.6394476133293305"
      ]
     },
     "execution_count": 162,
     "metadata": {},
     "output_type": "execute_result"
    }
   ],
   "source": [
    "%%time\n",
    "score_gnb=score_func(gnb,X_train,y_train,X_test,y_test)\n",
    "score_gnb"
   ]
  },
  {
   "cell_type": "code",
   "execution_count": 163,
   "metadata": {
    "colab": {
     "base_uri": "https://localhost:8080/"
    },
    "id": "3aLsf5qOXZ8f",
    "outputId": "473b1fae-a36a-423d-dd7d-3f8257f19696"
   },
   "outputs": [
    {
     "name": "stdout",
     "output_type": "stream",
     "text": [
      "CPU times: user 372 ms, sys: 142 ms, total: 514 ms\n",
      "Wall time: 299 ms\n"
     ]
    },
    {
     "name": "stderr",
     "output_type": "stream",
     "text": [
      "/usr/local/lib/python3.10/dist-packages/sklearn/linear_model/_logistic.py:458: ConvergenceWarning: lbfgs failed to converge (status=1):\n",
      "STOP: TOTAL NO. of ITERATIONS REACHED LIMIT.\n",
      "\n",
      "Increase the number of iterations (max_iter) or scale the data as shown in:\n",
      "    https://scikit-learn.org/stable/modules/preprocessing.html\n",
      "Please also refer to the documentation for alternative solver options:\n",
      "    https://scikit-learn.org/stable/modules/linear_model.html#logistic-regression\n",
      "  n_iter_i = _check_optimize_result(\n"
     ]
    },
    {
     "data": {
      "text/plain": [
       "0.6643650555388773"
      ]
     },
     "execution_count": 163,
     "metadata": {},
     "output_type": "execute_result"
    }
   ],
   "source": [
    "%%time\n",
    "score_lgc=score_func(lgc,X_train,y_train,X_test,y_test)\n",
    "score_lgc"
   ]
  },
  {
   "cell_type": "code",
   "execution_count": null,
   "metadata": {
    "id": "AFJf2bj4XcvG"
   },
   "outputs": [],
   "source": []
  },
  {
   "cell_type": "markdown",
   "metadata": {
    "id": "-cSCmwZhXfPy"
   },
   "source": [
    "## Lets Try with some other classifer"
   ]
  },
  {
   "cell_type": "code",
   "execution_count": 164,
   "metadata": {
    "id": "C-pb4g26XiVa"
   },
   "outputs": [],
   "source": [
    "from sklearn.ensemble import AdaBoostClassifier,GradientBoostingClassifier\n",
    "from sklearn.svm import SVC\n",
    "from sklearn.neighbors import KNeighborsClassifier\n",
    "from xgboost import XGBClassifier"
   ]
  },
  {
   "cell_type": "code",
   "execution_count": 165,
   "metadata": {
    "id": "VRo8hOHvX4fT"
   },
   "outputs": [],
   "source": [
    "adb=AdaBoostClassifier()\n",
    "gdb=GradientBoostingClassifier()\n",
    "svc=SVC()\n",
    "knn=KNeighborsClassifier()\n",
    "xgb=XGBClassifier()"
   ]
  },
  {
   "cell_type": "code",
   "execution_count": 166,
   "metadata": {
    "colab": {
     "base_uri": "https://localhost:8080/"
    },
    "id": "atbfoGqAYDQD",
    "outputId": "b91cc539-b61d-4e2d-a9c6-28c56fd9cc3c"
   },
   "outputs": [
    {
     "name": "stdout",
     "output_type": "stream",
     "text": [
      "CPU times: user 10.4 s, sys: 14.9 ms, total: 10.5 s\n",
      "Wall time: 10.6 s\n"
     ]
    },
    {
     "data": {
      "text/plain": [
       "0.6622635845091565"
      ]
     },
     "execution_count": 166,
     "metadata": {},
     "output_type": "execute_result"
    }
   ],
   "source": [
    "%%time\n",
    "score_adb=score_func(adb,X_train,y_train,X_test,y_test)\n",
    "score_adb"
   ]
  },
  {
   "cell_type": "code",
   "execution_count": 167,
   "metadata": {
    "colab": {
     "base_uri": "https://localhost:8080/"
    },
    "id": "qq-6EDy-YKX8",
    "outputId": "b0127c1f-8072-4736-fc09-fd5aaccd7a57"
   },
   "outputs": [
    {
     "name": "stdout",
     "output_type": "stream",
     "text": [
      "CPU times: user 51.8 s, sys: 47.8 ms, total: 51.9 s\n",
      "Wall time: 52.1 s\n"
     ]
    },
    {
     "data": {
      "text/plain": [
       "0.6616631642149504"
      ]
     },
     "execution_count": 167,
     "metadata": {},
     "output_type": "execute_result"
    }
   ],
   "source": [
    "%%time\n",
    "score_gdb=score_func(gdb,X_train,y_train,X_test,y_test)\n",
    "score_gdb"
   ]
  },
  {
   "cell_type": "code",
   "execution_count": 168,
   "metadata": {
    "colab": {
     "base_uri": "https://localhost:8080/"
    },
    "id": "gE_bOfJBYReN",
    "outputId": "47c17f11-13cc-4168-bce4-1a2e915dffe0"
   },
   "outputs": [
    {
     "name": "stdout",
     "output_type": "stream",
     "text": [
      "CPU times: user 9.24 s, sys: 52.2 ms, total: 9.29 s\n",
      "Wall time: 7.76 s\n"
     ]
    },
    {
     "data": {
      "text/plain": [
       "0.6373461422996097"
      ]
     },
     "execution_count": 168,
     "metadata": {},
     "output_type": "execute_result"
    }
   ],
   "source": [
    "%%time\n",
    "score_xgb=score_func(xgb,X_train,y_train,X_test,y_test)\n",
    "score_xgb"
   ]
  },
  {
   "cell_type": "code",
   "execution_count": 169,
   "metadata": {
    "colab": {
     "base_uri": "https://localhost:8080/"
    },
    "id": "OulRGgplYiW2",
    "outputId": "801af155-56dd-4a5b-88a0-c3d4cec84f8b"
   },
   "outputs": [
    {
     "name": "stdout",
     "output_type": "stream",
     "text": [
      "CPU times: user 22.8 s, sys: 208 ms, total: 23 s\n",
      "Wall time: 25.3 s\n"
     ]
    },
    {
     "data": {
      "text/plain": [
       "0.6625637946562594"
      ]
     },
     "execution_count": 169,
     "metadata": {},
     "output_type": "execute_result"
    }
   ],
   "source": [
    "%%time\n",
    "score_svc=score_func(svc,X_train,y_train,X_test,y_test)\n",
    "score_svc"
   ]
  },
  {
   "cell_type": "code",
   "execution_count": 170,
   "metadata": {
    "colab": {
     "base_uri": "https://localhost:8080/"
    },
    "id": "zCytDapRYoID",
    "outputId": "17328047-a5a8-4140-a135-839b3e408277"
   },
   "outputs": [
    {
     "name": "stdout",
     "output_type": "stream",
     "text": [
      "CPU times: user 954 ms, sys: 14.6 ms, total: 968 ms\n",
      "Wall time: 1.3 s\n"
     ]
    },
    {
     "data": {
      "text/plain": [
       "0.6181326928850195"
      ]
     },
     "execution_count": 170,
     "metadata": {},
     "output_type": "execute_result"
    }
   ],
   "source": [
    "%%time\n",
    "score_knn=score_func(knn,X_train,y_train,X_test,y_test)\n",
    "score_knn"
   ]
  },
  {
   "cell_type": "code",
   "execution_count": null,
   "metadata": {
    "id": "PgCyf-4IY0AQ"
   },
   "outputs": [],
   "source": []
  }
 ],
 "metadata": {
  "accelerator": "GPU",
  "colab": {
   "gpuType": "T4",
   "provenance": []
  },
  "kaggle": {
   "accelerator": "nvidiaTeslaT4",
   "dataSources": [
    {
     "datasetId": 4240306,
     "sourceId": 7307978,
     "sourceType": "datasetVersion"
    }
   ],
   "dockerImageVersionId": 30627,
   "isGpuEnabled": true,
   "isInternetEnabled": true,
   "language": "python",
   "sourceType": "notebook"
  },
  "kernelspec": {
   "display_name": "Python 3 (ipykernel)",
   "language": "python",
   "name": "python3"
  },
  "language_info": {
   "codemirror_mode": {
    "name": "ipython",
    "version": 3
   },
   "file_extension": ".py",
   "mimetype": "text/x-python",
   "name": "python",
   "nbconvert_exporter": "python",
   "pygments_lexer": "ipython3",
   "version": "3.9.18"
  }
 },
 "nbformat": 4,
 "nbformat_minor": 1
}
